{
 "cells": [
  {
   "cell_type": "code",
   "execution_count": 1,
   "id": "3e7a8876",
   "metadata": {},
   "outputs": [
    {
     "name": "stderr",
     "output_type": "stream",
     "text": [
      "2023-10-08 10:35:52.778704: I tensorflow/core/platform/cpu_feature_guard.cc:193] This TensorFlow binary is optimized with oneAPI Deep Neural Network Library (oneDNN) to use the following CPU instructions in performance-critical operations:  SSE4.1 SSE4.2 AVX AVX2 FMA\n",
      "To enable them in other operations, rebuild TensorFlow with the appropriate compiler flags.\n"
     ]
    }
   ],
   "source": [
    "import pandas as pd\n",
    "import numpy as np\n",
    "import matplotlib.pyplot as plt\n",
    "import requests\n",
    "import json\n",
    "import tensorflow as tf\n",
    "from copy import deepcopy as dc\n",
    "from tensorflow.keras.models import Sequential\n",
    "from tensorflow.keras import layers\n",
    "from tensorflow.keras.layers import *\n",
    "from tensorflow.keras.losses import MeanSquaredError\n",
    "from tensorflow.keras.metrics import RootMeanSquaredError\n",
    "from sklearn.metrics import mean_squared_error, r2_score, mean_absolute_error\n",
    "from tensorflow.keras.optimizers import Adam\n",
    "import datetime as dt\n",
    "\n"
   ]
  },
  {
   "cell_type": "code",
   "execution_count": 2,
   "id": "54d6506d",
   "metadata": {},
   "outputs": [],
   "source": [
    "\n",
    "df = pd.read_csv('data/powerball_cleaned_231007.csv')\n",
    "\n",
    "# Now 'df' contains your data in a DataFrame\n"
   ]
  },
  {
   "cell_type": "code",
   "execution_count": 3,
   "id": "e51c3c9a",
   "metadata": {},
   "outputs": [
    {
     "data": {
      "text/html": [
       "<div>\n",
       "<style scoped>\n",
       "    .dataframe tbody tr th:only-of-type {\n",
       "        vertical-align: middle;\n",
       "    }\n",
       "\n",
       "    .dataframe tbody tr th {\n",
       "        vertical-align: top;\n",
       "    }\n",
       "\n",
       "    .dataframe thead th {\n",
       "        text-align: right;\n",
       "    }\n",
       "</style>\n",
       "<table border=\"1\" class=\"dataframe\">\n",
       "  <thead>\n",
       "    <tr style=\"text-align: right;\">\n",
       "      <th></th>\n",
       "      <th>Draw Date</th>\n",
       "      <th>Wi</th>\n",
       "      <th>nni</th>\n",
       "      <th>ng</th>\n",
       "      <th>Num</th>\n",
       "      <th>ber</th>\n",
       "      <th>s</th>\n",
       "    </tr>\n",
       "  </thead>\n",
       "  <tbody>\n",
       "    <tr>\n",
       "      <th>0</th>\n",
       "      <td>10/7/23</td>\n",
       "      <td>47</td>\n",
       "      <td>54</td>\n",
       "      <td>57</td>\n",
       "      <td>60</td>\n",
       "      <td>65</td>\n",
       "      <td>19</td>\n",
       "    </tr>\n",
       "    <tr>\n",
       "      <th>1</th>\n",
       "      <td>10/4/23</td>\n",
       "      <td>9</td>\n",
       "      <td>35</td>\n",
       "      <td>54</td>\n",
       "      <td>63</td>\n",
       "      <td>64</td>\n",
       "      <td>1</td>\n",
       "    </tr>\n",
       "    <tr>\n",
       "      <th>2</th>\n",
       "      <td>10/2/23</td>\n",
       "      <td>12</td>\n",
       "      <td>26</td>\n",
       "      <td>27</td>\n",
       "      <td>43</td>\n",
       "      <td>47</td>\n",
       "      <td>5</td>\n",
       "    </tr>\n",
       "    <tr>\n",
       "      <th>3</th>\n",
       "      <td>9/30/23</td>\n",
       "      <td>19</td>\n",
       "      <td>30</td>\n",
       "      <td>37</td>\n",
       "      <td>44</td>\n",
       "      <td>46</td>\n",
       "      <td>22</td>\n",
       "    </tr>\n",
       "    <tr>\n",
       "      <th>4</th>\n",
       "      <td>9/27/23</td>\n",
       "      <td>1</td>\n",
       "      <td>7</td>\n",
       "      <td>46</td>\n",
       "      <td>47</td>\n",
       "      <td>63</td>\n",
       "      <td>7</td>\n",
       "    </tr>\n",
       "  </tbody>\n",
       "</table>\n",
       "</div>"
      ],
      "text/plain": [
       "  Draw Date  Wi  nni  ng  Num  ber   s\n",
       "0   10/7/23  47   54  57   60   65  19\n",
       "1   10/4/23   9   35  54   63   64   1\n",
       "2   10/2/23  12   26  27   43   47   5\n",
       "3   9/30/23  19   30  37   44   46  22\n",
       "4   9/27/23   1    7  46   47   63   7"
      ]
     },
     "execution_count": 3,
     "metadata": {},
     "output_type": "execute_result"
    }
   ],
   "source": [
    "df.head()"
   ]
  },
  {
   "cell_type": "code",
   "execution_count": 4,
   "id": "5a78ceef",
   "metadata": {
    "scrolled": true
   },
   "outputs": [
    {
     "data": {
      "text/html": [
       "<div>\n",
       "<style scoped>\n",
       "    .dataframe tbody tr th:only-of-type {\n",
       "        vertical-align: middle;\n",
       "    }\n",
       "\n",
       "    .dataframe tbody tr th {\n",
       "        vertical-align: top;\n",
       "    }\n",
       "\n",
       "    .dataframe thead th {\n",
       "        text-align: right;\n",
       "    }\n",
       "</style>\n",
       "<table border=\"1\" class=\"dataframe\">\n",
       "  <thead>\n",
       "    <tr style=\"text-align: right;\">\n",
       "      <th></th>\n",
       "      <th>Wi</th>\n",
       "      <th>nni</th>\n",
       "      <th>ng</th>\n",
       "      <th>Num</th>\n",
       "      <th>ber</th>\n",
       "      <th>s</th>\n",
       "    </tr>\n",
       "    <tr>\n",
       "      <th>Date</th>\n",
       "      <th></th>\n",
       "      <th></th>\n",
       "      <th></th>\n",
       "      <th></th>\n",
       "      <th></th>\n",
       "      <th></th>\n",
       "    </tr>\n",
       "  </thead>\n",
       "  <tbody>\n",
       "    <tr>\n",
       "      <th>2010-02-03</th>\n",
       "      <td>17</td>\n",
       "      <td>22</td>\n",
       "      <td>36</td>\n",
       "      <td>37</td>\n",
       "      <td>52</td>\n",
       "      <td>24</td>\n",
       "    </tr>\n",
       "    <tr>\n",
       "      <th>2010-02-06</th>\n",
       "      <td>14</td>\n",
       "      <td>22</td>\n",
       "      <td>52</td>\n",
       "      <td>54</td>\n",
       "      <td>59</td>\n",
       "      <td>4</td>\n",
       "    </tr>\n",
       "    <tr>\n",
       "      <th>2010-02-10</th>\n",
       "      <td>5</td>\n",
       "      <td>8</td>\n",
       "      <td>29</td>\n",
       "      <td>37</td>\n",
       "      <td>38</td>\n",
       "      <td>34</td>\n",
       "    </tr>\n",
       "    <tr>\n",
       "      <th>2010-02-13</th>\n",
       "      <td>10</td>\n",
       "      <td>14</td>\n",
       "      <td>30</td>\n",
       "      <td>40</td>\n",
       "      <td>51</td>\n",
       "      <td>1</td>\n",
       "    </tr>\n",
       "    <tr>\n",
       "      <th>2010-02-17</th>\n",
       "      <td>7</td>\n",
       "      <td>8</td>\n",
       "      <td>19</td>\n",
       "      <td>26</td>\n",
       "      <td>36</td>\n",
       "      <td>15</td>\n",
       "    </tr>\n",
       "  </tbody>\n",
       "</table>\n",
       "</div>"
      ],
      "text/plain": [
       "            Wi  nni  ng  Num  ber   s\n",
       "Date                                 \n",
       "2010-02-03  17   22  36   37   52  24\n",
       "2010-02-06  14   22  52   54   59   4\n",
       "2010-02-10   5    8  29   37   38  34\n",
       "2010-02-13  10   14  30   40   51   1\n",
       "2010-02-17   7    8  19   26   36  15"
      ]
     },
     "execution_count": 4,
     "metadata": {},
     "output_type": "execute_result"
    }
   ],
   "source": [
    "\n",
    "\n",
    "#rename columns\n",
    "df = df.rename(columns={\"Draw Date\":\"Date\"})\n",
    "\n",
    "#convert date to dt, refomat to yyyymmdd\n",
    "df['Date'] = pd.to_datetime(df['Date']).dt.date\n",
    "\n",
    "#json return began with most recent date, reversed for plotting/analysis\n",
    "df = df.reindex(index=df.index[::-1])\n",
    "\n",
    "#set date as index\n",
    "df.set_index('Date', inplace=True)\n",
    "\n",
    "df.head()"
   ]
  },
  {
   "cell_type": "code",
   "execution_count": 5,
   "id": "e608f20e",
   "metadata": {
    "scrolled": false
   },
   "outputs": [
    {
     "data": {
      "text/plain": [
       "[17, 22, 36, 37, 52]"
      ]
     },
     "execution_count": 5,
     "metadata": {},
     "output_type": "execute_result"
    }
   ],
   "source": [
    "stacked_list = df.stack().tolist()\n",
    "\n",
    "stacked_list[0:5]"
   ]
  },
  {
   "cell_type": "code",
   "execution_count": 6,
   "id": "4411b7b3",
   "metadata": {},
   "outputs": [
    {
     "data": {
      "text/html": [
       "<div>\n",
       "<style scoped>\n",
       "    .dataframe tbody tr th:only-of-type {\n",
       "        vertical-align: middle;\n",
       "    }\n",
       "\n",
       "    .dataframe tbody tr th {\n",
       "        vertical-align: top;\n",
       "    }\n",
       "\n",
       "    .dataframe thead th {\n",
       "        text-align: right;\n",
       "    }\n",
       "</style>\n",
       "<table border=\"1\" class=\"dataframe\">\n",
       "  <thead>\n",
       "    <tr style=\"text-align: right;\">\n",
       "      <th></th>\n",
       "      <th>numbers</th>\n",
       "    </tr>\n",
       "  </thead>\n",
       "  <tbody>\n",
       "    <tr>\n",
       "      <th>0</th>\n",
       "      <td>17</td>\n",
       "    </tr>\n",
       "    <tr>\n",
       "      <th>1</th>\n",
       "      <td>22</td>\n",
       "    </tr>\n",
       "    <tr>\n",
       "      <th>2</th>\n",
       "      <td>36</td>\n",
       "    </tr>\n",
       "    <tr>\n",
       "      <th>3</th>\n",
       "      <td>37</td>\n",
       "    </tr>\n",
       "    <tr>\n",
       "      <th>4</th>\n",
       "      <td>52</td>\n",
       "    </tr>\n",
       "  </tbody>\n",
       "</table>\n",
       "</div>"
      ],
      "text/plain": [
       "   numbers\n",
       "0       17\n",
       "1       22\n",
       "2       36\n",
       "3       37\n",
       "4       52"
      ]
     },
     "execution_count": 6,
     "metadata": {},
     "output_type": "execute_result"
    }
   ],
   "source": [
    "numbers_df = pd.DataFrame(stacked_list, columns=[\"numbers\"])\n",
    "\n",
    "numbers_df.head()"
   ]
  },
  {
   "cell_type": "code",
   "execution_count": 7,
   "id": "d0564b55",
   "metadata": {
    "scrolled": true
   },
   "outputs": [
    {
     "data": {
      "text/plain": [
       "[<matplotlib.lines.Line2D at 0x7f9c49e33850>]"
      ]
     },
     "execution_count": 7,
     "metadata": {},
     "output_type": "execute_result"
    },
    {
     "data": {
      "image/png": "[encoded data removed]",
      "text/plain": [
       "<Figure size 640x480 with 1 Axes>"
      ]
     },
     "metadata": {},
     "output_type": "display_data"
    }
   ],
   "source": [
    "#plot historical amzn price\n",
    "plt.plot(numbers_df)"
   ]
  },
  {
   "cell_type": "code",
   "execution_count": 8,
   "id": "6e17819b",
   "metadata": {},
   "outputs": [],
   "source": [
    "# Set parameters for model\n",
    "\n",
    "lookback = 30\n",
    "\n",
    "split_1 = .8\n",
    "split_2 = .9"
   ]
  },
  {
   "cell_type": "code",
   "execution_count": 9,
   "id": "8d086f9f",
   "metadata": {
    "scrolled": true
   },
   "outputs": [
    {
     "data": {
      "text/html": [
       "<div>\n",
       "<style scoped>\n",
       "    .dataframe tbody tr th:only-of-type {\n",
       "        vertical-align: middle;\n",
       "    }\n",
       "\n",
       "    .dataframe tbody tr th {\n",
       "        vertical-align: top;\n",
       "    }\n",
       "\n",
       "    .dataframe thead th {\n",
       "        text-align: right;\n",
       "    }\n",
       "</style>\n",
       "<table border=\"1\" class=\"dataframe\">\n",
       "  <thead>\n",
       "    <tr style=\"text-align: right;\">\n",
       "      <th></th>\n",
       "      <th>numbers</th>\n",
       "      <th>numbers(t-1)</th>\n",
       "      <th>numbers(t-2)</th>\n",
       "      <th>numbers(t-3)</th>\n",
       "      <th>numbers(t-4)</th>\n",
       "      <th>numbers(t-5)</th>\n",
       "      <th>numbers(t-6)</th>\n",
       "      <th>numbers(t-7)</th>\n",
       "      <th>numbers(t-8)</th>\n",
       "      <th>numbers(t-9)</th>\n",
       "      <th>...</th>\n",
       "      <th>numbers(t-21)</th>\n",
       "      <th>numbers(t-22)</th>\n",
       "      <th>numbers(t-23)</th>\n",
       "      <th>numbers(t-24)</th>\n",
       "      <th>numbers(t-25)</th>\n",
       "      <th>numbers(t-26)</th>\n",
       "      <th>numbers(t-27)</th>\n",
       "      <th>numbers(t-28)</th>\n",
       "      <th>numbers(t-29)</th>\n",
       "      <th>numbers(t-30)</th>\n",
       "    </tr>\n",
       "  </thead>\n",
       "  <tbody>\n",
       "    <tr>\n",
       "      <th>30</th>\n",
       "      <td>13</td>\n",
       "      <td>15.0</td>\n",
       "      <td>36.0</td>\n",
       "      <td>26.0</td>\n",
       "      <td>19.0</td>\n",
       "      <td>8.0</td>\n",
       "      <td>7.0</td>\n",
       "      <td>1.0</td>\n",
       "      <td>51.0</td>\n",
       "      <td>40.0</td>\n",
       "      <td>...</td>\n",
       "      <td>54.0</td>\n",
       "      <td>52.0</td>\n",
       "      <td>22.0</td>\n",
       "      <td>14.0</td>\n",
       "      <td>24.0</td>\n",
       "      <td>52.0</td>\n",
       "      <td>37.0</td>\n",
       "      <td>36.0</td>\n",
       "      <td>22.0</td>\n",
       "      <td>17.0</td>\n",
       "    </tr>\n",
       "    <tr>\n",
       "      <th>31</th>\n",
       "      <td>27</td>\n",
       "      <td>13.0</td>\n",
       "      <td>15.0</td>\n",
       "      <td>36.0</td>\n",
       "      <td>26.0</td>\n",
       "      <td>19.0</td>\n",
       "      <td>8.0</td>\n",
       "      <td>7.0</td>\n",
       "      <td>1.0</td>\n",
       "      <td>51.0</td>\n",
       "      <td>...</td>\n",
       "      <td>59.0</td>\n",
       "      <td>54.0</td>\n",
       "      <td>52.0</td>\n",
       "      <td>22.0</td>\n",
       "      <td>14.0</td>\n",
       "      <td>24.0</td>\n",
       "      <td>52.0</td>\n",
       "      <td>37.0</td>\n",
       "      <td>36.0</td>\n",
       "      <td>22.0</td>\n",
       "    </tr>\n",
       "    <tr>\n",
       "      <th>32</th>\n",
       "      <td>37</td>\n",
       "      <td>27.0</td>\n",
       "      <td>13.0</td>\n",
       "      <td>15.0</td>\n",
       "      <td>36.0</td>\n",
       "      <td>26.0</td>\n",
       "      <td>19.0</td>\n",
       "      <td>8.0</td>\n",
       "      <td>7.0</td>\n",
       "      <td>1.0</td>\n",
       "      <td>...</td>\n",
       "      <td>4.0</td>\n",
       "      <td>59.0</td>\n",
       "      <td>54.0</td>\n",
       "      <td>52.0</td>\n",
       "      <td>22.0</td>\n",
       "      <td>14.0</td>\n",
       "      <td>24.0</td>\n",
       "      <td>52.0</td>\n",
       "      <td>37.0</td>\n",
       "      <td>36.0</td>\n",
       "    </tr>\n",
       "    <tr>\n",
       "      <th>33</th>\n",
       "      <td>41</td>\n",
       "      <td>37.0</td>\n",
       "      <td>27.0</td>\n",
       "      <td>13.0</td>\n",
       "      <td>15.0</td>\n",
       "      <td>36.0</td>\n",
       "      <td>26.0</td>\n",
       "      <td>19.0</td>\n",
       "      <td>8.0</td>\n",
       "      <td>7.0</td>\n",
       "      <td>...</td>\n",
       "      <td>5.0</td>\n",
       "      <td>4.0</td>\n",
       "      <td>59.0</td>\n",
       "      <td>54.0</td>\n",
       "      <td>52.0</td>\n",
       "      <td>22.0</td>\n",
       "      <td>14.0</td>\n",
       "      <td>24.0</td>\n",
       "      <td>52.0</td>\n",
       "      <td>37.0</td>\n",
       "    </tr>\n",
       "    <tr>\n",
       "      <th>34</th>\n",
       "      <td>54</td>\n",
       "      <td>41.0</td>\n",
       "      <td>37.0</td>\n",
       "      <td>27.0</td>\n",
       "      <td>13.0</td>\n",
       "      <td>15.0</td>\n",
       "      <td>36.0</td>\n",
       "      <td>26.0</td>\n",
       "      <td>19.0</td>\n",
       "      <td>8.0</td>\n",
       "      <td>...</td>\n",
       "      <td>8.0</td>\n",
       "      <td>5.0</td>\n",
       "      <td>4.0</td>\n",
       "      <td>59.0</td>\n",
       "      <td>54.0</td>\n",
       "      <td>52.0</td>\n",
       "      <td>22.0</td>\n",
       "      <td>14.0</td>\n",
       "      <td>24.0</td>\n",
       "      <td>52.0</td>\n",
       "    </tr>\n",
       "  </tbody>\n",
       "</table>\n",
       "<p>5 rows × 31 columns</p>\n",
       "</div>"
      ],
      "text/plain": [
       "    numbers  numbers(t-1)  numbers(t-2)  numbers(t-3)  numbers(t-4)  \\\n",
       "30       13          15.0          36.0          26.0          19.0   \n",
       "31       27          13.0          15.0          36.0          26.0   \n",
       "32       37          27.0          13.0          15.0          36.0   \n",
       "33       41          37.0          27.0          13.0          15.0   \n",
       "34       54          41.0          37.0          27.0          13.0   \n",
       "\n",
       "    numbers(t-5)  numbers(t-6)  numbers(t-7)  numbers(t-8)  numbers(t-9)  ...  \\\n",
       "30           8.0           7.0           1.0          51.0          40.0  ...   \n",
       "31          19.0           8.0           7.0           1.0          51.0  ...   \n",
       "32          26.0          19.0           8.0           7.0           1.0  ...   \n",
       "33          36.0          26.0          19.0           8.0           7.0  ...   \n",
       "34          15.0          36.0          26.0          19.0           8.0  ...   \n",
       "\n",
       "    numbers(t-21)  numbers(t-22)  numbers(t-23)  numbers(t-24)  numbers(t-25)  \\\n",
       "30           54.0           52.0           22.0           14.0           24.0   \n",
       "31           59.0           54.0           52.0           22.0           14.0   \n",
       "32            4.0           59.0           54.0           52.0           22.0   \n",
       "33            5.0            4.0           59.0           54.0           52.0   \n",
       "34            8.0            5.0            4.0           59.0           54.0   \n",
       "\n",
       "    numbers(t-26)  numbers(t-27)  numbers(t-28)  numbers(t-29)  numbers(t-30)  \n",
       "30           52.0           37.0           36.0           22.0           17.0  \n",
       "31           24.0           52.0           37.0           36.0           22.0  \n",
       "32           14.0           24.0           52.0           37.0           36.0  \n",
       "33           22.0           14.0           24.0           52.0           37.0  \n",
       "34           52.0           22.0           14.0           24.0           52.0  \n",
       "\n",
       "[5 rows x 31 columns]"
      ]
     },
     "execution_count": 9,
     "metadata": {},
     "output_type": "execute_result"
    }
   ],
   "source": [
    "# build lookback for lstm training\n",
    "def prepare_dataframe_for_lstm(data, n_steps):\n",
    "    data = dc(data)\n",
    "    \n",
    "    for i in range(1, n_steps+1):\n",
    "        data[f'numbers(t-{i})'] = data['numbers'].shift(i)\n",
    "        \n",
    "    data.dropna(inplace=True)\n",
    "    \n",
    "    return data\n",
    "\n",
    "shifted_df = prepare_dataframe_for_lstm(numbers_df, lookback)\n",
    "\n",
    "shifted_df.head()"
   ]
  },
  {
   "cell_type": "code",
   "execution_count": 10,
   "id": "2d54a71a",
   "metadata": {},
   "outputs": [
    {
     "data": {
      "text/html": [
       "<div>\n",
       "<style scoped>\n",
       "    .dataframe tbody tr th:only-of-type {\n",
       "        vertical-align: middle;\n",
       "    }\n",
       "\n",
       "    .dataframe tbody tr th {\n",
       "        vertical-align: top;\n",
       "    }\n",
       "\n",
       "    .dataframe thead th {\n",
       "        text-align: right;\n",
       "    }\n",
       "</style>\n",
       "<table border=\"1\" class=\"dataframe\">\n",
       "  <thead>\n",
       "    <tr style=\"text-align: right;\">\n",
       "      <th></th>\n",
       "      <th>numbers</th>\n",
       "      <th>numbers(t-1)</th>\n",
       "      <th>numbers(t-2)</th>\n",
       "      <th>numbers(t-3)</th>\n",
       "      <th>numbers(t-4)</th>\n",
       "      <th>numbers(t-5)</th>\n",
       "      <th>numbers(t-6)</th>\n",
       "      <th>numbers(t-7)</th>\n",
       "      <th>numbers(t-8)</th>\n",
       "      <th>numbers(t-9)</th>\n",
       "      <th>...</th>\n",
       "      <th>numbers(t-21)</th>\n",
       "      <th>numbers(t-22)</th>\n",
       "      <th>numbers(t-23)</th>\n",
       "      <th>numbers(t-24)</th>\n",
       "      <th>numbers(t-25)</th>\n",
       "      <th>numbers(t-26)</th>\n",
       "      <th>numbers(t-27)</th>\n",
       "      <th>numbers(t-28)</th>\n",
       "      <th>numbers(t-29)</th>\n",
       "      <th>numbers(t-30)</th>\n",
       "    </tr>\n",
       "  </thead>\n",
       "  <tbody>\n",
       "    <tr>\n",
       "      <th>30</th>\n",
       "      <td>13</td>\n",
       "      <td>15</td>\n",
       "      <td>36</td>\n",
       "      <td>26</td>\n",
       "      <td>19</td>\n",
       "      <td>8</td>\n",
       "      <td>7</td>\n",
       "      <td>1</td>\n",
       "      <td>51</td>\n",
       "      <td>40</td>\n",
       "      <td>...</td>\n",
       "      <td>54</td>\n",
       "      <td>52</td>\n",
       "      <td>22</td>\n",
       "      <td>14</td>\n",
       "      <td>24</td>\n",
       "      <td>52</td>\n",
       "      <td>37</td>\n",
       "      <td>36</td>\n",
       "      <td>22</td>\n",
       "      <td>17</td>\n",
       "    </tr>\n",
       "    <tr>\n",
       "      <th>31</th>\n",
       "      <td>27</td>\n",
       "      <td>13</td>\n",
       "      <td>15</td>\n",
       "      <td>36</td>\n",
       "      <td>26</td>\n",
       "      <td>19</td>\n",
       "      <td>8</td>\n",
       "      <td>7</td>\n",
       "      <td>1</td>\n",
       "      <td>51</td>\n",
       "      <td>...</td>\n",
       "      <td>59</td>\n",
       "      <td>54</td>\n",
       "      <td>52</td>\n",
       "      <td>22</td>\n",
       "      <td>14</td>\n",
       "      <td>24</td>\n",
       "      <td>52</td>\n",
       "      <td>37</td>\n",
       "      <td>36</td>\n",
       "      <td>22</td>\n",
       "    </tr>\n",
       "    <tr>\n",
       "      <th>32</th>\n",
       "      <td>37</td>\n",
       "      <td>27</td>\n",
       "      <td>13</td>\n",
       "      <td>15</td>\n",
       "      <td>36</td>\n",
       "      <td>26</td>\n",
       "      <td>19</td>\n",
       "      <td>8</td>\n",
       "      <td>7</td>\n",
       "      <td>1</td>\n",
       "      <td>...</td>\n",
       "      <td>4</td>\n",
       "      <td>59</td>\n",
       "      <td>54</td>\n",
       "      <td>52</td>\n",
       "      <td>22</td>\n",
       "      <td>14</td>\n",
       "      <td>24</td>\n",
       "      <td>52</td>\n",
       "      <td>37</td>\n",
       "      <td>36</td>\n",
       "    </tr>\n",
       "    <tr>\n",
       "      <th>33</th>\n",
       "      <td>41</td>\n",
       "      <td>37</td>\n",
       "      <td>27</td>\n",
       "      <td>13</td>\n",
       "      <td>15</td>\n",
       "      <td>36</td>\n",
       "      <td>26</td>\n",
       "      <td>19</td>\n",
       "      <td>8</td>\n",
       "      <td>7</td>\n",
       "      <td>...</td>\n",
       "      <td>5</td>\n",
       "      <td>4</td>\n",
       "      <td>59</td>\n",
       "      <td>54</td>\n",
       "      <td>52</td>\n",
       "      <td>22</td>\n",
       "      <td>14</td>\n",
       "      <td>24</td>\n",
       "      <td>52</td>\n",
       "      <td>37</td>\n",
       "    </tr>\n",
       "    <tr>\n",
       "      <th>34</th>\n",
       "      <td>54</td>\n",
       "      <td>41</td>\n",
       "      <td>37</td>\n",
       "      <td>27</td>\n",
       "      <td>13</td>\n",
       "      <td>15</td>\n",
       "      <td>36</td>\n",
       "      <td>26</td>\n",
       "      <td>19</td>\n",
       "      <td>8</td>\n",
       "      <td>...</td>\n",
       "      <td>8</td>\n",
       "      <td>5</td>\n",
       "      <td>4</td>\n",
       "      <td>59</td>\n",
       "      <td>54</td>\n",
       "      <td>52</td>\n",
       "      <td>22</td>\n",
       "      <td>14</td>\n",
       "      <td>24</td>\n",
       "      <td>52</td>\n",
       "    </tr>\n",
       "  </tbody>\n",
       "</table>\n",
       "<p>5 rows × 31 columns</p>\n",
       "</div>"
      ],
      "text/plain": [
       "    numbers  numbers(t-1)  numbers(t-2)  numbers(t-3)  numbers(t-4)  \\\n",
       "30       13            15            36            26            19   \n",
       "31       27            13            15            36            26   \n",
       "32       37            27            13            15            36   \n",
       "33       41            37            27            13            15   \n",
       "34       54            41            37            27            13   \n",
       "\n",
       "    numbers(t-5)  numbers(t-6)  numbers(t-7)  numbers(t-8)  numbers(t-9)  ...  \\\n",
       "30             8             7             1            51            40  ...   \n",
       "31            19             8             7             1            51  ...   \n",
       "32            26            19             8             7             1  ...   \n",
       "33            36            26            19             8             7  ...   \n",
       "34            15            36            26            19             8  ...   \n",
       "\n",
       "    numbers(t-21)  numbers(t-22)  numbers(t-23)  numbers(t-24)  numbers(t-25)  \\\n",
       "30             54             52             22             14             24   \n",
       "31             59             54             52             22             14   \n",
       "32              4             59             54             52             22   \n",
       "33              5              4             59             54             52   \n",
       "34              8              5              4             59             54   \n",
       "\n",
       "    numbers(t-26)  numbers(t-27)  numbers(t-28)  numbers(t-29)  numbers(t-30)  \n",
       "30             52             37             36             22             17  \n",
       "31             24             52             37             36             22  \n",
       "32             14             24             52             37             36  \n",
       "33             22             14             24             52             37  \n",
       "34             52             22             14             24             52  \n",
       "\n",
       "[5 rows x 31 columns]"
      ]
     },
     "execution_count": 10,
     "metadata": {},
     "output_type": "execute_result"
    }
   ],
   "source": [
    "shifted_df = shifted_df.astype(int)\n",
    "\n",
    "shifted_df.head()"
   ]
  },
  {
   "cell_type": "code",
   "execution_count": 11,
   "id": "aed0cc8d",
   "metadata": {},
   "outputs": [
    {
     "data": {
      "text/plain": [
       "((9168, 30), (9168,), (9168,))"
      ]
     },
     "execution_count": 11,
     "metadata": {},
     "output_type": "execute_result"
    }
   ],
   "source": [
    "from sklearn.preprocessing import StandardScaler\n",
    "\n",
    "# name date column from new index (since start date is absorbed into first x windows)\n",
    "dates = shifted_df.index\n",
    "\n",
    "#convert from df to numpy array\n",
    "shifted_df_as_np = shifted_df.to_numpy()\n",
    "\n",
    "#Scale data\n",
    "# log_transformed_data = np.log(shifted_df_as_np)\n",
    "# scaler = StandardScaler()\n",
    "\n",
    "# scaled_data = scaler.fit_transform(shifted_df_as_np)\n",
    "\n",
    "\n",
    "# split reference from deatures\n",
    "X1 = shifted_df_as_np[:, 1:]\n",
    "y1 = shifted_df_as_np[:, 0]\n",
    "\n",
    "#flip order of windows (needs to start with most recent)\n",
    "\n",
    "X1 = dc(np.flip(X1, axis=1))\n",
    "X1\n",
    "\n",
    "\n",
    "X1.shape, y1.shape, dates.shape\n"
   ]
  },
  {
   "cell_type": "code",
   "execution_count": 12,
   "id": "aa584493",
   "metadata": {
    "scrolled": true
   },
   "outputs": [
    {
     "data": {
      "text/plain": [
       "((7334, 30), (7334,), (917, 30), (917,), (917, 30), (917,))"
      ]
     },
     "execution_count": 12,
     "metadata": {},
     "output_type": "execute_result"
    }
   ],
   "source": [
    "#Calculate split points based on previously defined variables\n",
    "train_split = int(len(X1) * split_1)\n",
    "test_split = int(len(X1) * split_2)\n",
    "\n",
    "#Define spilt points for train/val/test\n",
    "dates_train1, X_train1, y_train1 = dates[:train_split],X1[:train_split], y1[:train_split]\n",
    "dates_val1, X_val1, y_val1 = dates[train_split:test_split], X1[train_split:test_split], y1[train_split:test_split]\n",
    "dates_test1, X_test1, y_test1 = dates[test_split:], X1[test_split:], y1[test_split:]\n",
    "X_train1.shape, y_train1.shape, X_val1.shape, y_val1.shape, X_test1.shape, y_test1.shape"
   ]
  },
  {
   "cell_type": "code",
   "execution_count": 13,
   "id": "732ba944",
   "metadata": {},
   "outputs": [
    {
     "name": "stderr",
     "output_type": "stream",
     "text": [
      "2023-10-08 10:35:59.386036: I tensorflow/core/platform/cpu_feature_guard.cc:193] This TensorFlow binary is optimized with oneAPI Deep Neural Network Library (oneDNN) to use the following CPU instructions in performance-critical operations:  SSE4.1 SSE4.2 AVX AVX2 FMA\n",
      "To enable them in other operations, rebuild TensorFlow with the appropriate compiler flags.\n"
     ]
    },
    {
     "name": "stdout",
     "output_type": "stream",
     "text": [
      "Epoch 1/100\n",
      "230/230 [==============================] - 6s 17ms/step - loss: 407.6347 - mean_absolute_error: 16.0331 - val_loss: 292.7350 - val_mean_absolute_error: 14.1479\n",
      "Epoch 2/100\n",
      "230/230 [==============================] - 4s 16ms/step - loss: 228.9062 - mean_absolute_error: 12.0891 - val_loss: 243.3559 - val_mean_absolute_error: 12.4892\n",
      "Epoch 3/100\n",
      "230/230 [==============================] - 4s 19ms/step - loss: 198.0860 - mean_absolute_error: 10.9508 - val_loss: 190.7873 - val_mean_absolute_error: 10.6320\n",
      "Epoch 4/100\n",
      "230/230 [==============================] - 4s 18ms/step - loss: 119.4625 - mean_absolute_error: 8.5161 - val_loss: 87.7246 - val_mean_absolute_error: 7.4478\n",
      "Epoch 5/100\n",
      "230/230 [==============================] - 4s 17ms/step - loss: 79.6230 - mean_absolute_error: 7.0968 - val_loss: 78.8309 - val_mean_absolute_error: 6.9883\n",
      "Epoch 6/100\n",
      "230/230 [==============================] - 4s 16ms/step - loss: 77.0896 - mean_absolute_error: 6.9920 - val_loss: 81.4725 - val_mean_absolute_error: 7.0371\n",
      "Epoch 7/100\n",
      "230/230 [==============================] - 4s 17ms/step - loss: 77.1436 - mean_absolute_error: 6.9704 - val_loss: 78.0294 - val_mean_absolute_error: 7.1029\n",
      "Epoch 8/100\n",
      "230/230 [==============================] - 4s 19ms/step - loss: 76.3845 - mean_absolute_error: 6.9510 - val_loss: 78.2746 - val_mean_absolute_error: 6.9991\n",
      "Epoch 9/100\n",
      "230/230 [==============================] - 5s 21ms/step - loss: 75.3493 - mean_absolute_error: 6.8878 - val_loss: 73.4116 - val_mean_absolute_error: 6.6405\n",
      "Epoch 10/100\n",
      "230/230 [==============================] - 4s 17ms/step - loss: 75.0890 - mean_absolute_error: 6.8711 - val_loss: 76.6570 - val_mean_absolute_error: 6.7186\n",
      "Epoch 11/100\n",
      "230/230 [==============================] - 4s 16ms/step - loss: 74.8383 - mean_absolute_error: 6.8490 - val_loss: 74.5029 - val_mean_absolute_error: 6.6884\n",
      "Epoch 12/100\n",
      "230/230 [==============================] - 4s 18ms/step - loss: 74.8617 - mean_absolute_error: 6.8558 - val_loss: 77.4370 - val_mean_absolute_error: 6.9193\n",
      "Epoch 13/100\n",
      "230/230 [==============================] - 5s 24ms/step - loss: 75.3384 - mean_absolute_error: 6.8875 - val_loss: 73.4077 - val_mean_absolute_error: 6.7955\n",
      "Epoch 14/100\n",
      "230/230 [==============================] - 4s 18ms/step - loss: 74.6891 - mean_absolute_error: 6.8643 - val_loss: 84.1690 - val_mean_absolute_error: 7.0565\n",
      "Epoch 15/100\n",
      "230/230 [==============================] - 4s 16ms/step - loss: 75.1302 - mean_absolute_error: 6.8793 - val_loss: 91.8460 - val_mean_absolute_error: 7.3544\n",
      "Epoch 16/100\n",
      "230/230 [==============================] - 4s 19ms/step - loss: 75.4237 - mean_absolute_error: 6.8824 - val_loss: 72.4111 - val_mean_absolute_error: 6.7079\n",
      "Epoch 17/100\n",
      "230/230 [==============================] - 5s 21ms/step - loss: 73.7245 - mean_absolute_error: 6.8047 - val_loss: 74.0408 - val_mean_absolute_error: 6.6983\n",
      "Epoch 18/100\n",
      "230/230 [==============================] - 6s 24ms/step - loss: 73.8989 - mean_absolute_error: 6.8284 - val_loss: 74.6384 - val_mean_absolute_error: 6.7775\n",
      "Epoch 19/100\n",
      "230/230 [==============================] - 6s 28ms/step - loss: 73.5002 - mean_absolute_error: 6.7829 - val_loss: 75.0494 - val_mean_absolute_error: 6.8049\n",
      "Epoch 20/100\n",
      "230/230 [==============================] - 5s 20ms/step - loss: 73.5268 - mean_absolute_error: 6.7864 - val_loss: 70.6066 - val_mean_absolute_error: 6.7114\n",
      "Epoch 21/100\n",
      "230/230 [==============================] - 5s 23ms/step - loss: 73.4055 - mean_absolute_error: 6.7929 - val_loss: 72.4524 - val_mean_absolute_error: 6.6635\n",
      "Epoch 22/100\n",
      "230/230 [==============================] - 5s 23ms/step - loss: 72.8682 - mean_absolute_error: 6.7596 - val_loss: 74.1334 - val_mean_absolute_error: 6.7012\n",
      "Epoch 23/100\n",
      "230/230 [==============================] - 5s 22ms/step - loss: 73.7731 - mean_absolute_error: 6.7886 - val_loss: 81.6459 - val_mean_absolute_error: 7.1009\n",
      "Epoch 24/100\n",
      "230/230 [==============================] - 6s 25ms/step - loss: 73.8091 - mean_absolute_error: 6.8101 - val_loss: 77.5049 - val_mean_absolute_error: 6.9209\n",
      "Epoch 25/100\n",
      "230/230 [==============================] - 7s 32ms/step - loss: 73.6707 - mean_absolute_error: 6.7793 - val_loss: 71.7132 - val_mean_absolute_error: 6.7200\n",
      "Epoch 26/100\n",
      "230/230 [==============================] - 7s 30ms/step - loss: 76.0086 - mean_absolute_error: 6.8835 - val_loss: 70.4617 - val_mean_absolute_error: 6.6437\n",
      "Epoch 27/100\n",
      "230/230 [==============================] - 6s 27ms/step - loss: 73.3910 - mean_absolute_error: 6.7811 - val_loss: 71.3857 - val_mean_absolute_error: 6.6795\n",
      "Epoch 28/100\n",
      "230/230 [==============================] - 8s 35ms/step - loss: 72.8758 - mean_absolute_error: 6.7611 - val_loss: 72.1991 - val_mean_absolute_error: 6.8022\n",
      "Epoch 29/100\n",
      "230/230 [==============================] - 9s 37ms/step - loss: 72.2942 - mean_absolute_error: 6.7302 - val_loss: 71.2268 - val_mean_absolute_error: 6.5831\n",
      "Epoch 30/100\n",
      "230/230 [==============================] - 8s 35ms/step - loss: 73.2865 - mean_absolute_error: 6.7949 - val_loss: 70.5522 - val_mean_absolute_error: 6.6867\n",
      "Epoch 31/100\n",
      "230/230 [==============================] - 8s 33ms/step - loss: 72.7419 - mean_absolute_error: 6.7553 - val_loss: 72.5202 - val_mean_absolute_error: 6.6947\n",
      "Epoch 32/100\n",
      "230/230 [==============================] - 8s 34ms/step - loss: 73.1447 - mean_absolute_error: 6.7637 - val_loss: 74.9437 - val_mean_absolute_error: 6.7765\n",
      "Epoch 33/100\n",
      "230/230 [==============================] - 9s 41ms/step - loss: 73.1216 - mean_absolute_error: 6.7741 - val_loss: 74.5752 - val_mean_absolute_error: 6.8169\n",
      "Epoch 34/100\n",
      "230/230 [==============================] - 11s 49ms/step - loss: 72.7347 - mean_absolute_error: 6.7513 - val_loss: 71.9704 - val_mean_absolute_error: 6.6978\n",
      "Epoch 35/100\n",
      "230/230 [==============================] - 11s 46ms/step - loss: 72.7816 - mean_absolute_error: 6.7681 - val_loss: 70.9384 - val_mean_absolute_error: 6.7284\n",
      "Epoch 36/100\n",
      "230/230 [==============================] - 9s 38ms/step - loss: 72.3522 - mean_absolute_error: 6.7467 - val_loss: 71.5621 - val_mean_absolute_error: 6.6336\n",
      "Epoch 37/100\n",
      "230/230 [==============================] - 9s 39ms/step - loss: 72.1542 - mean_absolute_error: 6.7318 - val_loss: 71.6909 - val_mean_absolute_error: 6.8054\n",
      "Epoch 38/100\n",
      "230/230 [==============================] - 9s 40ms/step - loss: 72.9421 - mean_absolute_error: 6.7698 - val_loss: 71.3413 - val_mean_absolute_error: 6.6582\n",
      "Epoch 39/100\n",
      "230/230 [==============================] - 10s 43ms/step - loss: 72.3342 - mean_absolute_error: 6.7393 - val_loss: 70.8181 - val_mean_absolute_error: 6.7082\n",
      "Epoch 40/100\n",
      "230/230 [==============================] - 10s 44ms/step - loss: 72.3867 - mean_absolute_error: 6.7436 - val_loss: 72.1445 - val_mean_absolute_error: 6.6031\n",
      "Epoch 41/100\n",
      "230/230 [==============================] - 10s 44ms/step - loss: 72.4419 - mean_absolute_error: 6.7301 - val_loss: 71.0373 - val_mean_absolute_error: 6.6797\n",
      "Epoch 42/100\n",
      "230/230 [==============================] - 10s 45ms/step - loss: 72.6752 - mean_absolute_error: 6.7613 - val_loss: 71.1132 - val_mean_absolute_error: 6.6674\n",
      "Epoch 43/100\n",
      "230/230 [==============================] - 10s 45ms/step - loss: 71.9700 - mean_absolute_error: 6.7198 - val_loss: 72.1712 - val_mean_absolute_error: 6.7982\n",
      "Epoch 44/100\n",
      "230/230 [==============================] - 8s 35ms/step - loss: 72.5409 - mean_absolute_error: 6.7636 - val_loss: 71.6261 - val_mean_absolute_error: 6.8026\n",
      "Epoch 45/100\n",
      "230/230 [==============================] - 7s 29ms/step - loss: 72.0114 - mean_absolute_error: 6.7205 - val_loss: 70.4675 - val_mean_absolute_error: 6.6349\n",
      "Epoch 46/100\n",
      "230/230 [==============================] - 7s 28ms/step - loss: 71.7490 - mean_absolute_error: 6.7078 - val_loss: 69.9955 - val_mean_absolute_error: 6.6445\n",
      "Epoch 47/100\n",
      "230/230 [==============================] - 6s 27ms/step - loss: 72.2009 - mean_absolute_error: 6.7521 - val_loss: 72.8692 - val_mean_absolute_error: 6.7110\n",
      "Epoch 48/100\n",
      "230/230 [==============================] - 6s 28ms/step - loss: 71.9363 - mean_absolute_error: 6.7285 - val_loss: 71.4570 - val_mean_absolute_error: 6.7276\n",
      "Epoch 49/100\n"
     ]
    },
    {
     "name": "stdout",
     "output_type": "stream",
     "text": [
      "230/230 [==============================] - 7s 31ms/step - loss: 72.0148 - mean_absolute_error: 6.7244 - val_loss: 71.5540 - val_mean_absolute_error: 6.6858\n",
      "Epoch 50/100\n",
      "230/230 [==============================] - 8s 36ms/step - loss: 72.1394 - mean_absolute_error: 6.7322 - val_loss: 73.2794 - val_mean_absolute_error: 6.7374\n",
      "Epoch 51/100\n",
      "230/230 [==============================] - 8s 34ms/step - loss: 71.8570 - mean_absolute_error: 6.7199 - val_loss: 71.9005 - val_mean_absolute_error: 6.7926\n",
      "Epoch 52/100\n",
      "230/230 [==============================] - 8s 34ms/step - loss: 71.8418 - mean_absolute_error: 6.7041 - val_loss: 73.4929 - val_mean_absolute_error: 6.6716\n",
      "Epoch 53/100\n",
      "230/230 [==============================] - 8s 35ms/step - loss: 71.4432 - mean_absolute_error: 6.6870 - val_loss: 70.6304 - val_mean_absolute_error: 6.5969\n",
      "Epoch 54/100\n",
      "230/230 [==============================] - 8s 37ms/step - loss: 71.7878 - mean_absolute_error: 6.7030 - val_loss: 73.4388 - val_mean_absolute_error: 6.9018\n",
      "Epoch 55/100\n",
      "230/230 [==============================] - 9s 41ms/step - loss: 71.8797 - mean_absolute_error: 6.7160 - val_loss: 73.4063 - val_mean_absolute_error: 6.7627\n",
      "Epoch 56/100\n",
      "230/230 [==============================] - 10s 43ms/step - loss: 72.4207 - mean_absolute_error: 6.7369 - val_loss: 78.7997 - val_mean_absolute_error: 7.0307\n",
      "Epoch 57/100\n",
      "230/230 [==============================] - 10s 42ms/step - loss: 72.5040 - mean_absolute_error: 6.7598 - val_loss: 71.6290 - val_mean_absolute_error: 6.6629\n",
      "Epoch 58/100\n",
      "230/230 [==============================] - 11s 46ms/step - loss: 73.0236 - mean_absolute_error: 6.7597 - val_loss: 75.9643 - val_mean_absolute_error: 6.7557\n",
      "Epoch 59/100\n",
      "230/230 [==============================] - 13s 55ms/step - loss: 71.6356 - mean_absolute_error: 6.7044 - val_loss: 72.4125 - val_mean_absolute_error: 6.8410\n",
      "Epoch 60/100\n",
      "230/230 [==============================] - 13s 55ms/step - loss: 71.0293 - mean_absolute_error: 6.6633 - val_loss: 70.7679 - val_mean_absolute_error: 6.7100\n",
      "Epoch 61/100\n",
      "230/230 [==============================] - 11s 47ms/step - loss: 70.7635 - mean_absolute_error: 6.6707 - val_loss: 79.1729 - val_mean_absolute_error: 6.9514\n",
      "Epoch 62/100\n",
      "230/230 [==============================] - 11s 47ms/step - loss: 71.0595 - mean_absolute_error: 6.6682 - val_loss: 71.8661 - val_mean_absolute_error: 6.7160\n",
      "Epoch 63/100\n",
      "230/230 [==============================] - 9s 39ms/step - loss: 70.5814 - mean_absolute_error: 6.6591 - val_loss: 71.4361 - val_mean_absolute_error: 6.7411\n",
      "Epoch 64/100\n",
      "230/230 [==============================] - 9s 40ms/step - loss: 70.3411 - mean_absolute_error: 6.6242 - val_loss: 73.4078 - val_mean_absolute_error: 6.7092\n",
      "Epoch 65/100\n",
      "230/230 [==============================] - 11s 47ms/step - loss: 70.6809 - mean_absolute_error: 6.6566 - val_loss: 70.4888 - val_mean_absolute_error: 6.6820\n",
      "Epoch 66/100\n",
      "230/230 [==============================] - 9s 41ms/step - loss: 70.6110 - mean_absolute_error: 6.6336 - val_loss: 71.6792 - val_mean_absolute_error: 6.7093\n",
      "Epoch 67/100\n",
      "230/230 [==============================] - 8s 33ms/step - loss: 70.7872 - mean_absolute_error: 6.6727 - val_loss: 74.4082 - val_mean_absolute_error: 6.7303\n",
      "Epoch 68/100\n",
      "230/230 [==============================] - 9s 37ms/step - loss: 70.5164 - mean_absolute_error: 6.6285 - val_loss: 70.4254 - val_mean_absolute_error: 6.6924\n",
      "Epoch 69/100\n",
      "230/230 [==============================] - 9s 39ms/step - loss: 70.1255 - mean_absolute_error: 6.6338 - val_loss: 70.6978 - val_mean_absolute_error: 6.6837\n",
      "Epoch 70/100\n",
      "230/230 [==============================] - 9s 39ms/step - loss: 70.7691 - mean_absolute_error: 6.6660 - val_loss: 74.3614 - val_mean_absolute_error: 6.8479\n",
      "Epoch 71/100\n",
      "230/230 [==============================] - 9s 40ms/step - loss: 70.1241 - mean_absolute_error: 6.6228 - val_loss: 74.0235 - val_mean_absolute_error: 6.9002\n",
      "Epoch 72/100\n",
      "230/230 [==============================] - 9s 39ms/step - loss: 70.4398 - mean_absolute_error: 6.6642 - val_loss: 72.7417 - val_mean_absolute_error: 6.6658\n",
      "Epoch 73/100\n",
      "230/230 [==============================] - 10s 44ms/step - loss: 70.0998 - mean_absolute_error: 6.6376 - val_loss: 72.2288 - val_mean_absolute_error: 6.7498\n",
      "Epoch 74/100\n",
      "230/230 [==============================] - 10s 41ms/step - loss: 70.3402 - mean_absolute_error: 6.6324 - val_loss: 71.8817 - val_mean_absolute_error: 6.6661\n",
      "Epoch 75/100\n",
      "230/230 [==============================] - 10s 42ms/step - loss: 69.8755 - mean_absolute_error: 6.6232 - val_loss: 71.2475 - val_mean_absolute_error: 6.7051\n",
      "Epoch 76/100\n",
      "230/230 [==============================] - 10s 44ms/step - loss: 70.1144 - mean_absolute_error: 6.6421 - val_loss: 75.2199 - val_mean_absolute_error: 6.8973\n",
      "Epoch 77/100\n",
      "230/230 [==============================] - 10s 44ms/step - loss: 69.9673 - mean_absolute_error: 6.6175 - val_loss: 73.0975 - val_mean_absolute_error: 6.8848\n",
      "Epoch 78/100\n",
      "230/230 [==============================] - 10s 43ms/step - loss: 69.6084 - mean_absolute_error: 6.5963 - val_loss: 70.8136 - val_mean_absolute_error: 6.6438\n",
      "Epoch 79/100\n",
      "230/230 [==============================] - 9s 40ms/step - loss: 69.4714 - mean_absolute_error: 6.5942 - val_loss: 75.0843 - val_mean_absolute_error: 6.8823\n",
      "Epoch 80/100\n",
      "230/230 [==============================] - 10s 44ms/step - loss: 70.5333 - mean_absolute_error: 6.6524 - val_loss: 71.8336 - val_mean_absolute_error: 6.7414\n",
      "Epoch 81/100\n",
      "230/230 [==============================] - 11s 48ms/step - loss: 69.7617 - mean_absolute_error: 6.6223 - val_loss: 71.7882 - val_mean_absolute_error: 6.6937\n",
      "Epoch 82/100\n",
      "230/230 [==============================] - 11s 50ms/step - loss: 70.5204 - mean_absolute_error: 6.6455 - val_loss: 74.5173 - val_mean_absolute_error: 6.7845\n",
      "Epoch 83/100\n",
      "230/230 [==============================] - 11s 47ms/step - loss: 69.6922 - mean_absolute_error: 6.6122 - val_loss: 71.0982 - val_mean_absolute_error: 6.6312\n",
      "Epoch 84/100\n",
      "230/230 [==============================] - 10s 42ms/step - loss: 69.4521 - mean_absolute_error: 6.6150 - val_loss: 72.5010 - val_mean_absolute_error: 6.6692\n",
      "Epoch 85/100\n",
      "230/230 [==============================] - 10s 43ms/step - loss: 69.2902 - mean_absolute_error: 6.5836 - val_loss: 71.7695 - val_mean_absolute_error: 6.7178\n",
      "Epoch 86/100\n",
      "230/230 [==============================] - 10s 44ms/step - loss: 68.8822 - mean_absolute_error: 6.5668 - val_loss: 72.2773 - val_mean_absolute_error: 6.7052\n",
      "Epoch 87/100\n",
      "230/230 [==============================] - 11s 46ms/step - loss: 68.7490 - mean_absolute_error: 6.5579 - val_loss: 74.2333 - val_mean_absolute_error: 6.8333\n",
      "Epoch 88/100\n",
      "230/230 [==============================] - 10s 43ms/step - loss: 69.0503 - mean_absolute_error: 6.5721 - val_loss: 72.4031 - val_mean_absolute_error: 6.6362\n",
      "Epoch 89/100\n",
      "230/230 [==============================] - 11s 47ms/step - loss: 68.6776 - mean_absolute_error: 6.5594 - val_loss: 72.8582 - val_mean_absolute_error: 6.7875\n",
      "Epoch 90/100\n",
      "230/230 [==============================] - 12s 51ms/step - loss: 68.5989 - mean_absolute_error: 6.5525 - val_loss: 73.6918 - val_mean_absolute_error: 6.9030\n",
      "Epoch 91/100\n",
      "230/230 [==============================] - 12s 50ms/step - loss: 68.8794 - mean_absolute_error: 6.5580 - val_loss: 71.7031 - val_mean_absolute_error: 6.7389\n",
      "Epoch 92/100\n",
      "230/230 [==============================] - 9s 38ms/step - loss: 68.4077 - mean_absolute_error: 6.5408 - val_loss: 72.4882 - val_mean_absolute_error: 6.6789\n",
      "Epoch 93/100\n",
      "230/230 [==============================] - 9s 40ms/step - loss: 68.1108 - mean_absolute_error: 6.5306 - val_loss: 74.2996 - val_mean_absolute_error: 6.9723\n",
      "Epoch 94/100\n",
      "230/230 [==============================] - 9s 37ms/step - loss: 68.2019 - mean_absolute_error: 6.5603 - val_loss: 71.4691 - val_mean_absolute_error: 6.7324\n",
      "Epoch 95/100\n",
      "230/230 [==============================] - 8s 36ms/step - loss: 68.3761 - mean_absolute_error: 6.5549 - val_loss: 75.2169 - val_mean_absolute_error: 6.9008\n",
      "Epoch 96/100\n",
      "230/230 [==============================] - 9s 37ms/step - loss: 68.1700 - mean_absolute_error: 6.5383 - val_loss: 72.6753 - val_mean_absolute_error: 6.6732\n",
      "Epoch 97/100\n"
     ]
    },
    {
     "name": "stdout",
     "output_type": "stream",
     "text": [
      "230/230 [==============================] - 7s 32ms/step - loss: 67.7247 - mean_absolute_error: 6.5238 - val_loss: 73.8129 - val_mean_absolute_error: 6.7659\n",
      "Epoch 98/100\n",
      "230/230 [==============================] - 8s 34ms/step - loss: 68.0881 - mean_absolute_error: 6.5419 - val_loss: 74.7149 - val_mean_absolute_error: 6.8036\n",
      "Epoch 99/100\n",
      "230/230 [==============================] - 8s 35ms/step - loss: 68.0785 - mean_absolute_error: 6.5211 - val_loss: 73.1013 - val_mean_absolute_error: 6.8497\n",
      "Epoch 100/100\n",
      "230/230 [==============================] - 7s 32ms/step - loss: 67.9235 - mean_absolute_error: 6.5261 - val_loss: 71.4570 - val_mean_absolute_error: 6.7213\n"
     ]
    },
    {
     "data": {
      "text/plain": [
       "<keras.callbacks.History at 0x7f9c2bd0fbb0>"
      ]
     },
     "execution_count": 13,
     "metadata": {},
     "output_type": "execute_result"
    }
   ],
   "source": [
    "#Build, compile, fit LSTM model\n",
    "\n",
    "model = Sequential([layers.Input((lookback, 1)),\n",
    "                    layers.LSTM(64),\n",
    "                    layers.Dense(64, activation='relu'),\n",
    "                    layers.Dense(64, activation='relu'),\n",
    "                    layers.Dense(1)])\n",
    "\n",
    "model.compile(loss='mse',\n",
    "              optimizer=Adam(learning_rate=0.001),\n",
    "              metrics=['mean_absolute_error'])\n",
    "\n",
    "model.fit(X_train1, y_train1, validation_data=(X_val1, y_val1), epochs=100)"
   ]
  },
  {
   "cell_type": "code",
   "execution_count": 14,
   "id": "51ca424b",
   "metadata": {
    "scrolled": false
   },
   "outputs": [
    {
     "name": "stdout",
     "output_type": "stream",
     "text": [
      "230/230 [==============================] - 8s 13ms/step\n"
     ]
    },
    {
     "data": {
      "text/plain": [
       "<matplotlib.legend.Legend at 0x7f9c2ef566b0>"
      ]
     },
     "execution_count": 14,
     "metadata": {},
     "output_type": "execute_result"
    },
    {
     "data": {
      "image/png": "[encoded data removed]",
      "text/plain": [
       "<Figure size 640x480 with 1 Axes>"
      ]
     },
     "metadata": {},
     "output_type": "display_data"
    }
   ],
   "source": [
    "# Check training predictions (use np.exp to transform scaled data back to original scale)\n",
    "\n",
    "train_predictions = model.predict(X_train1).flatten()\n",
    "\n",
    "plt.plot(dates_train1, (train_predictions))\n",
    "plt.plot(dates_train1, (y_train1))\n",
    "plt.xticks(rotation=90)\n",
    "plt.legend(['Training Predictions', 'Training Observations'])"
   ]
  },
  {
   "cell_type": "code",
   "execution_count": 15,
   "id": "07b3b236",
   "metadata": {},
   "outputs": [
    {
     "name": "stdout",
     "output_type": "stream",
     "text": [
      "Val loss: 71.4570083618164\n",
      "Val MAE: 6.721324443817139\n"
     ]
    }
   ],
   "source": [
    "# Check scores for val period\n",
    "score = model.evaluate(X_val1, y_val1, verbose = 0) \n",
    "\n",
    "print('Val loss:', score[0]) \n",
    "print('Val MAE:', score[1])"
   ]
  },
  {
   "cell_type": "code",
   "execution_count": 16,
   "id": "6aebf414",
   "metadata": {},
   "outputs": [
    {
     "name": "stdout",
     "output_type": "stream",
     "text": [
      "29/29 [==============================] - 1s 18ms/step\n"
     ]
    },
    {
     "data": {
      "text/plain": [
       "<matplotlib.legend.Legend at 0x7f9c2ef54940>"
      ]
     },
     "execution_count": 16,
     "metadata": {},
     "output_type": "execute_result"
    },
    {
     "data": {
      "image/png": "[encoded data removed]",
      "text/plain": [
       "<Figure size 640x480 with 1 Axes>"
      ]
     },
     "metadata": {},
     "output_type": "display_data"
    }
   ],
   "source": [
    "# graphed performance of val data in model\n",
    "val_predictions = model.predict(X_val1).flatten()\n",
    "\n",
    "plt.plot(dates_val1, (val_predictions))\n",
    "plt.plot(dates_val1, (y_val1))\n",
    "plt.xticks(rotation=90)\n",
    "plt.legend(['Validation Predictions', 'Validation Observations'])"
   ]
  },
  {
   "cell_type": "code",
   "execution_count": 17,
   "id": "7d677f73",
   "metadata": {},
   "outputs": [
    {
     "name": "stdout",
     "output_type": "stream",
     "text": [
      "Test loss: 74.64449310302734\n",
      "Test MAE: 6.949621200561523\n"
     ]
    }
   ],
   "source": [
    "score = model.evaluate(X_test1, y_test1, verbose = 0) \n",
    "\n",
    "print('Test loss:', score[0]) \n",
    "print('Test MAE:', score[1])"
   ]
  },
  {
   "cell_type": "code",
   "execution_count": 23,
   "id": "07b063e2",
   "metadata": {
    "scrolled": true
   },
   "outputs": [
    {
     "name": "stdout",
     "output_type": "stream",
     "text": [
      "29/29 [==============================] - 0s 11ms/step\n"
     ]
    },
    {
     "data": {
      "text/plain": [
       "<matplotlib.legend.Legend at 0x7f9c4a9c3f70>"
      ]
     },
     "execution_count": 23,
     "metadata": {},
     "output_type": "execute_result"
    },
    {
     "data": {
      "image/png": "[encoded data removed]",
      "text/plain": [
       "<Figure size 640x480 with 1 Axes>"
      ]
     },
     "metadata": {},
     "output_type": "display_data"
    }
   ],
   "source": [
    "#check model against test data\n",
    "test_predictions = model.predict(X_test1).flatten()\n",
    "\n",
    "plt.plot(dates_test1[-30:],(test_predictions[-30:]))\n",
    "plt.plot(dates_test1[-30:], (y_test1[-30:]))\n",
    "plt.xticks(rotation=90)\n",
    "plt.legend(['Testing Predictions', 'Testing Observations'])"
   ]
  },
  {
   "cell_type": "code",
   "execution_count": 24,
   "id": "d15ebd95",
   "metadata": {
    "scrolled": true
   },
   "outputs": [
    {
     "name": "stdout",
     "output_type": "stream",
     "text": [
      "R2 Score:  0.8163793774587051\n"
     ]
    }
   ],
   "source": [
    "# Check r2 score\n",
    "print('R2 Score: ', r2_score(y_test1, test_predictions))"
   ]
  },
  {
   "cell_type": "markdown",
   "id": "96ee29fc",
   "metadata": {},
   "source": [
    "## Future Prediction\n",
    "- Attempting to look ahead x days in an attempt to predict upcoming trends"
   ]
  },
  {
   "cell_type": "code",
   "execution_count": 25,
   "id": "2f8f2ce4",
   "metadata": {
    "scrolled": false
   },
   "outputs": [
    {
     "name": "stdout",
     "output_type": "stream",
     "text": [
      "1/1 [==============================] - 0s 95ms/step\n",
      "1/1 [==============================] - 0s 153ms/step\n",
      "1/1 [==============================] - 0s 121ms/step\n",
      "1/1 [==============================] - 0s 114ms/step\n",
      "1/1 [==============================] - 0s 110ms/step\n",
      "[15.215556, 37.439133, 57.794224, 66.24918, 66.06951]\n"
     ]
    }
   ],
   "source": [
    "# Initialize an array to store predictions\n",
    "predictions = []\n",
    "predicted_dates = []\n",
    "prediction_range = 5\n",
    "\n",
    "#create list of numbers to add to date based on date range\n",
    "date_range = list(range(1, prediction_range +1))\n",
    "\n",
    "# Use the last n_steps data points from the training set to make predictions\n",
    "current_batch = X_test1[-1]\n",
    "current_reshape = current_batch.reshape((1, lookback, 1))\n",
    "# initial_date = dates_test1[-1]\n",
    "\n",
    "# Generate predictions for 7 days\n",
    "for i in range(prediction_range): # Generate predictions for 7 days\n",
    "    # Predict the next data point\n",
    "    current_pred = model.predict(current_reshape)[0,0]\n",
    "    \n",
    "    # Append the prediction to the list of predictions\n",
    "    predictions.append(current_pred)\n",
    "        \n",
    "\n",
    "    # Update initial input for the next step\n",
    "    updated_batch = np.insert(current_batch, -1, current_pred)\n",
    "    \n",
    "    #resize batch \n",
    "    current_batch = updated_batch[1:]\n",
    "    \n",
    "    #reshape batch\n",
    "    current_reshape = current_batch.reshape((1, lookback, 1))\n",
    "\n",
    "    \n",
    "# for day in date_range:\n",
    "#     new_date = initial_date + dt.timedelta(days=day)\n",
    "#     predicted_dates.append(new_date\n",
    "#                           )\n",
    "# 'predictions' contains 7-day forecast\n",
    "print(predictions)\n",
    "\n",
    "# for date in predicted_dates:\n",
    "#     print(date)"
   ]
  },
  {
   "cell_type": "code",
   "execution_count": 26,
   "id": "9ed93589",
   "metadata": {
    "scrolled": true
   },
   "outputs": [],
   "source": [
    "# Export model1 to HDF5 file\n",
    "model.save(\"pb.h5\")"
   ]
  },
  {
   "cell_type": "code",
   "execution_count": 27,
   "id": "45ac09d9",
   "metadata": {},
   "outputs": [
    {
     "data": {
      "text/plain": [
       "[15, 37, 57, 66, 66]"
      ]
     },
     "execution_count": 27,
     "metadata": {},
     "output_type": "execute_result"
    }
   ],
   "source": [
    "int_predictions = [int(x) for x in predictions]\n",
    "\n",
    "int_predictions"
   ]
  },
  {
   "cell_type": "code",
   "execution_count": null,
   "id": "b641c082",
   "metadata": {},
   "outputs": [],
   "source": []
  }
 ],
 "metadata": {
  "kernelspec": {
   "display_name": "Python 3 (ipykernel)",
   "language": "python",
   "name": "python3"
  },
  "language_info": {
   "codemirror_mode": {
    "name": "ipython",
    "version": 3
   },
   "file_extension": ".py",
   "mimetype": "text/x-python",
   "name": "python",
   "nbconvert_exporter": "python",
   "pygments_lexer": "ipython3",
   "version": "3.10.10"
  }
 },
 "nbformat": 4,
 "nbformat_minor": 5
}
