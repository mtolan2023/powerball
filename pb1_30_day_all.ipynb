{
 "cells": [
  {
   "cell_type": "code",
   "execution_count": 1,
   "id": "3e7a8876",
   "metadata": {},
   "outputs": [
    {
     "name": "stderr",
     "output_type": "stream",
     "text": [
      "2023-10-08 23:04:19.645484: I tensorflow/core/platform/cpu_feature_guard.cc:193] This TensorFlow binary is optimized with oneAPI Deep Neural Network Library (oneDNN) to use the following CPU instructions in performance-critical operations:  SSE4.1 SSE4.2 AVX AVX2 FMA\n",
      "To enable them in other operations, rebuild TensorFlow with the appropriate compiler flags.\n"
     ]
    }
   ],
   "source": [
    "import pandas as pd\n",
    "import numpy as np\n",
    "import matplotlib.pyplot as plt\n",
    "import requests\n",
    "import json\n",
    "import tensorflow as tf\n",
    "from copy import deepcopy as dc\n",
    "from tensorflow.keras.models import Sequential\n",
    "from tensorflow.keras import layers\n",
    "from tensorflow.keras.layers import *\n",
    "from tensorflow.keras.losses import MeanSquaredError\n",
    "from tensorflow.keras.metrics import RootMeanSquaredError\n",
    "from sklearn.metrics import mean_squared_error, r2_score, mean_absolute_error\n",
    "from tensorflow.keras.optimizers import Adam\n",
    "import datetime as dt\n",
    "\n"
   ]
  },
  {
   "cell_type": "code",
   "execution_count": 2,
   "id": "54d6506d",
   "metadata": {},
   "outputs": [],
   "source": [
    "\n",
    "df = pd.read_csv('data/powerball_cleaned_231007.csv')\n",
    "\n",
    "# Now 'df' contains your data in a DataFrame\n"
   ]
  },
  {
   "cell_type": "code",
   "execution_count": 3,
   "id": "e51c3c9a",
   "metadata": {},
   "outputs": [
    {
     "data": {
      "text/html": [
       "<div>\n",
       "<style scoped>\n",
       "    .dataframe tbody tr th:only-of-type {\n",
       "        vertical-align: middle;\n",
       "    }\n",
       "\n",
       "    .dataframe tbody tr th {\n",
       "        vertical-align: top;\n",
       "    }\n",
       "\n",
       "    .dataframe thead th {\n",
       "        text-align: right;\n",
       "    }\n",
       "</style>\n",
       "<table border=\"1\" class=\"dataframe\">\n",
       "  <thead>\n",
       "    <tr style=\"text-align: right;\">\n",
       "      <th></th>\n",
       "      <th>Draw Date</th>\n",
       "      <th>Wi</th>\n",
       "      <th>nni</th>\n",
       "      <th>ng</th>\n",
       "      <th>Num</th>\n",
       "      <th>ber</th>\n",
       "    </tr>\n",
       "  </thead>\n",
       "  <tbody>\n",
       "    <tr>\n",
       "      <th>0</th>\n",
       "      <td>10/7/23</td>\n",
       "      <td>47</td>\n",
       "      <td>54</td>\n",
       "      <td>57</td>\n",
       "      <td>60</td>\n",
       "      <td>65</td>\n",
       "    </tr>\n",
       "    <tr>\n",
       "      <th>1</th>\n",
       "      <td>10/4/23</td>\n",
       "      <td>9</td>\n",
       "      <td>35</td>\n",
       "      <td>54</td>\n",
       "      <td>63</td>\n",
       "      <td>64</td>\n",
       "    </tr>\n",
       "    <tr>\n",
       "      <th>2</th>\n",
       "      <td>10/2/23</td>\n",
       "      <td>12</td>\n",
       "      <td>26</td>\n",
       "      <td>27</td>\n",
       "      <td>43</td>\n",
       "      <td>47</td>\n",
       "    </tr>\n",
       "    <tr>\n",
       "      <th>3</th>\n",
       "      <td>9/30/23</td>\n",
       "      <td>19</td>\n",
       "      <td>30</td>\n",
       "      <td>37</td>\n",
       "      <td>44</td>\n",
       "      <td>46</td>\n",
       "    </tr>\n",
       "    <tr>\n",
       "      <th>4</th>\n",
       "      <td>9/27/23</td>\n",
       "      <td>1</td>\n",
       "      <td>7</td>\n",
       "      <td>46</td>\n",
       "      <td>47</td>\n",
       "      <td>63</td>\n",
       "    </tr>\n",
       "  </tbody>\n",
       "</table>\n",
       "</div>"
      ],
      "text/plain": [
       "  Draw Date  Wi  nni  ng  Num  ber\n",
       "0   10/7/23  47   54  57   60   65\n",
       "1   10/4/23   9   35  54   63   64\n",
       "2   10/2/23  12   26  27   43   47\n",
       "3   9/30/23  19   30  37   44   46\n",
       "4   9/27/23   1    7  46   47   63"
      ]
     },
     "execution_count": 3,
     "metadata": {},
     "output_type": "execute_result"
    }
   ],
   "source": [
    "df.head()"
   ]
  },
  {
   "cell_type": "code",
   "execution_count": 4,
   "id": "5a78ceef",
   "metadata": {
    "scrolled": true
   },
   "outputs": [
    {
     "data": {
      "text/html": [
       "<div>\n",
       "<style scoped>\n",
       "    .dataframe tbody tr th:only-of-type {\n",
       "        vertical-align: middle;\n",
       "    }\n",
       "\n",
       "    .dataframe tbody tr th {\n",
       "        vertical-align: top;\n",
       "    }\n",
       "\n",
       "    .dataframe thead th {\n",
       "        text-align: right;\n",
       "    }\n",
       "</style>\n",
       "<table border=\"1\" class=\"dataframe\">\n",
       "  <thead>\n",
       "    <tr style=\"text-align: right;\">\n",
       "      <th></th>\n",
       "      <th>Wi</th>\n",
       "      <th>nni</th>\n",
       "      <th>ng</th>\n",
       "      <th>Num</th>\n",
       "      <th>ber</th>\n",
       "    </tr>\n",
       "    <tr>\n",
       "      <th>Date</th>\n",
       "      <th></th>\n",
       "      <th></th>\n",
       "      <th></th>\n",
       "      <th></th>\n",
       "      <th></th>\n",
       "    </tr>\n",
       "  </thead>\n",
       "  <tbody>\n",
       "    <tr>\n",
       "      <th>2010-02-03</th>\n",
       "      <td>17</td>\n",
       "      <td>22</td>\n",
       "      <td>36</td>\n",
       "      <td>37</td>\n",
       "      <td>52</td>\n",
       "    </tr>\n",
       "    <tr>\n",
       "      <th>2010-02-06</th>\n",
       "      <td>14</td>\n",
       "      <td>22</td>\n",
       "      <td>52</td>\n",
       "      <td>54</td>\n",
       "      <td>59</td>\n",
       "    </tr>\n",
       "    <tr>\n",
       "      <th>2010-02-10</th>\n",
       "      <td>5</td>\n",
       "      <td>8</td>\n",
       "      <td>29</td>\n",
       "      <td>37</td>\n",
       "      <td>38</td>\n",
       "    </tr>\n",
       "    <tr>\n",
       "      <th>2010-02-13</th>\n",
       "      <td>10</td>\n",
       "      <td>14</td>\n",
       "      <td>30</td>\n",
       "      <td>40</td>\n",
       "      <td>51</td>\n",
       "    </tr>\n",
       "    <tr>\n",
       "      <th>2010-02-17</th>\n",
       "      <td>7</td>\n",
       "      <td>8</td>\n",
       "      <td>19</td>\n",
       "      <td>26</td>\n",
       "      <td>36</td>\n",
       "    </tr>\n",
       "  </tbody>\n",
       "</table>\n",
       "</div>"
      ],
      "text/plain": [
       "            Wi  nni  ng  Num  ber\n",
       "Date                             \n",
       "2010-02-03  17   22  36   37   52\n",
       "2010-02-06  14   22  52   54   59\n",
       "2010-02-10   5    8  29   37   38\n",
       "2010-02-13  10   14  30   40   51\n",
       "2010-02-17   7    8  19   26   36"
      ]
     },
     "execution_count": 4,
     "metadata": {},
     "output_type": "execute_result"
    }
   ],
   "source": [
    "\n",
    "\n",
    "#rename columns\n",
    "df = df.rename(columns={\"Draw Date\":\"Date\"})\n",
    "\n",
    "#convert date to dt, refomat to yyyymmdd\n",
    "df['Date'] = pd.to_datetime(df['Date']).dt.date\n",
    "\n",
    "#json return began with most recent date, reversed for plotting/analysis\n",
    "df = df.reindex(index=df.index[::-1])\n",
    "\n",
    "#set date as index\n",
    "df.set_index('Date', inplace=True)\n",
    "\n",
    "df.head()"
   ]
  },
  {
   "cell_type": "code",
   "execution_count": 5,
   "id": "e608f20e",
   "metadata": {
    "scrolled": false
   },
   "outputs": [
    {
     "data": {
      "text/plain": [
       "[17, 22, 36, 37, 52]"
      ]
     },
     "execution_count": 5,
     "metadata": {},
     "output_type": "execute_result"
    }
   ],
   "source": [
    "stacked_list = df.stack().tolist()\n",
    "\n",
    "stacked_list[0:5]"
   ]
  },
  {
   "cell_type": "code",
   "execution_count": 6,
   "id": "4411b7b3",
   "metadata": {},
   "outputs": [
    {
     "data": {
      "text/html": [
       "<div>\n",
       "<style scoped>\n",
       "    .dataframe tbody tr th:only-of-type {\n",
       "        vertical-align: middle;\n",
       "    }\n",
       "\n",
       "    .dataframe tbody tr th {\n",
       "        vertical-align: top;\n",
       "    }\n",
       "\n",
       "    .dataframe thead th {\n",
       "        text-align: right;\n",
       "    }\n",
       "</style>\n",
       "<table border=\"1\" class=\"dataframe\">\n",
       "  <thead>\n",
       "    <tr style=\"text-align: right;\">\n",
       "      <th></th>\n",
       "      <th>numbers</th>\n",
       "    </tr>\n",
       "  </thead>\n",
       "  <tbody>\n",
       "    <tr>\n",
       "      <th>0</th>\n",
       "      <td>17</td>\n",
       "    </tr>\n",
       "    <tr>\n",
       "      <th>1</th>\n",
       "      <td>22</td>\n",
       "    </tr>\n",
       "    <tr>\n",
       "      <th>2</th>\n",
       "      <td>36</td>\n",
       "    </tr>\n",
       "    <tr>\n",
       "      <th>3</th>\n",
       "      <td>37</td>\n",
       "    </tr>\n",
       "    <tr>\n",
       "      <th>4</th>\n",
       "      <td>52</td>\n",
       "    </tr>\n",
       "  </tbody>\n",
       "</table>\n",
       "</div>"
      ],
      "text/plain": [
       "   numbers\n",
       "0       17\n",
       "1       22\n",
       "2       36\n",
       "3       37\n",
       "4       52"
      ]
     },
     "execution_count": 6,
     "metadata": {},
     "output_type": "execute_result"
    }
   ],
   "source": [
    "numbers_df = pd.DataFrame(stacked_list, columns=[\"numbers\"])\n",
    "\n",
    "numbers_df.head()"
   ]
  },
  {
   "cell_type": "code",
   "execution_count": 7,
   "id": "d0564b55",
   "metadata": {
    "scrolled": true
   },
   "outputs": [
    {
     "data": {
      "text/plain": [
       "[<matplotlib.lines.Line2D at 0x7f9ee053f640>]"
      ]
     },
     "execution_count": 7,
     "metadata": {},
     "output_type": "execute_result"
    },
    {
     "data": {
      "image/png": "[encoded data removed]",
      "text/plain": [
       "<Figure size 640x480 with 1 Axes>"
      ]
     },
     "metadata": {},
     "output_type": "display_data"
    }
   ],
   "source": [
    "#plot historical amzn price\n",
    "plt.plot(numbers_df)"
   ]
  },
  {
   "cell_type": "code",
   "execution_count": 8,
   "id": "6e17819b",
   "metadata": {},
   "outputs": [],
   "source": [
    "# Set parameters for model\n",
    "\n",
    "lookback = 30\n",
    "\n",
    "split_1 = .8\n",
    "split_2 = .9"
   ]
  },
  {
   "cell_type": "code",
   "execution_count": 9,
   "id": "8d086f9f",
   "metadata": {
    "scrolled": true
   },
   "outputs": [
    {
     "data": {
      "text/html": [
       "<div>\n",
       "<style scoped>\n",
       "    .dataframe tbody tr th:only-of-type {\n",
       "        vertical-align: middle;\n",
       "    }\n",
       "\n",
       "    .dataframe tbody tr th {\n",
       "        vertical-align: top;\n",
       "    }\n",
       "\n",
       "    .dataframe thead th {\n",
       "        text-align: right;\n",
       "    }\n",
       "</style>\n",
       "<table border=\"1\" class=\"dataframe\">\n",
       "  <thead>\n",
       "    <tr style=\"text-align: right;\">\n",
       "      <th></th>\n",
       "      <th>numbers</th>\n",
       "      <th>numbers(t-1)</th>\n",
       "      <th>numbers(t-2)</th>\n",
       "      <th>numbers(t-3)</th>\n",
       "      <th>numbers(t-4)</th>\n",
       "      <th>numbers(t-5)</th>\n",
       "      <th>numbers(t-6)</th>\n",
       "      <th>numbers(t-7)</th>\n",
       "      <th>numbers(t-8)</th>\n",
       "      <th>numbers(t-9)</th>\n",
       "      <th>...</th>\n",
       "      <th>numbers(t-21)</th>\n",
       "      <th>numbers(t-22)</th>\n",
       "      <th>numbers(t-23)</th>\n",
       "      <th>numbers(t-24)</th>\n",
       "      <th>numbers(t-25)</th>\n",
       "      <th>numbers(t-26)</th>\n",
       "      <th>numbers(t-27)</th>\n",
       "      <th>numbers(t-28)</th>\n",
       "      <th>numbers(t-29)</th>\n",
       "      <th>numbers(t-30)</th>\n",
       "    </tr>\n",
       "  </thead>\n",
       "  <tbody>\n",
       "    <tr>\n",
       "      <th>30</th>\n",
       "      <td>4</td>\n",
       "      <td>54.0</td>\n",
       "      <td>41.0</td>\n",
       "      <td>37.0</td>\n",
       "      <td>27.0</td>\n",
       "      <td>13.0</td>\n",
       "      <td>36.0</td>\n",
       "      <td>26.0</td>\n",
       "      <td>19.0</td>\n",
       "      <td>8.0</td>\n",
       "      <td>...</td>\n",
       "      <td>59.0</td>\n",
       "      <td>54.0</td>\n",
       "      <td>52.0</td>\n",
       "      <td>22.0</td>\n",
       "      <td>14.0</td>\n",
       "      <td>52.0</td>\n",
       "      <td>37.0</td>\n",
       "      <td>36.0</td>\n",
       "      <td>22.0</td>\n",
       "      <td>17.0</td>\n",
       "    </tr>\n",
       "    <tr>\n",
       "      <th>31</th>\n",
       "      <td>17</td>\n",
       "      <td>4.0</td>\n",
       "      <td>54.0</td>\n",
       "      <td>41.0</td>\n",
       "      <td>37.0</td>\n",
       "      <td>27.0</td>\n",
       "      <td>13.0</td>\n",
       "      <td>36.0</td>\n",
       "      <td>26.0</td>\n",
       "      <td>19.0</td>\n",
       "      <td>...</td>\n",
       "      <td>5.0</td>\n",
       "      <td>59.0</td>\n",
       "      <td>54.0</td>\n",
       "      <td>52.0</td>\n",
       "      <td>22.0</td>\n",
       "      <td>14.0</td>\n",
       "      <td>52.0</td>\n",
       "      <td>37.0</td>\n",
       "      <td>36.0</td>\n",
       "      <td>22.0</td>\n",
       "    </tr>\n",
       "    <tr>\n",
       "      <th>32</th>\n",
       "      <td>35</td>\n",
       "      <td>17.0</td>\n",
       "      <td>4.0</td>\n",
       "      <td>54.0</td>\n",
       "      <td>41.0</td>\n",
       "      <td>37.0</td>\n",
       "      <td>27.0</td>\n",
       "      <td>13.0</td>\n",
       "      <td>36.0</td>\n",
       "      <td>26.0</td>\n",
       "      <td>...</td>\n",
       "      <td>8.0</td>\n",
       "      <td>5.0</td>\n",
       "      <td>59.0</td>\n",
       "      <td>54.0</td>\n",
       "      <td>52.0</td>\n",
       "      <td>22.0</td>\n",
       "      <td>14.0</td>\n",
       "      <td>52.0</td>\n",
       "      <td>37.0</td>\n",
       "      <td>36.0</td>\n",
       "    </tr>\n",
       "    <tr>\n",
       "      <th>33</th>\n",
       "      <td>50</td>\n",
       "      <td>35.0</td>\n",
       "      <td>17.0</td>\n",
       "      <td>4.0</td>\n",
       "      <td>54.0</td>\n",
       "      <td>41.0</td>\n",
       "      <td>37.0</td>\n",
       "      <td>27.0</td>\n",
       "      <td>13.0</td>\n",
       "      <td>36.0</td>\n",
       "      <td>...</td>\n",
       "      <td>29.0</td>\n",
       "      <td>8.0</td>\n",
       "      <td>5.0</td>\n",
       "      <td>59.0</td>\n",
       "      <td>54.0</td>\n",
       "      <td>52.0</td>\n",
       "      <td>22.0</td>\n",
       "      <td>14.0</td>\n",
       "      <td>52.0</td>\n",
       "      <td>37.0</td>\n",
       "    </tr>\n",
       "    <tr>\n",
       "      <th>34</th>\n",
       "      <td>57</td>\n",
       "      <td>50.0</td>\n",
       "      <td>35.0</td>\n",
       "      <td>17.0</td>\n",
       "      <td>4.0</td>\n",
       "      <td>54.0</td>\n",
       "      <td>41.0</td>\n",
       "      <td>37.0</td>\n",
       "      <td>27.0</td>\n",
       "      <td>13.0</td>\n",
       "      <td>...</td>\n",
       "      <td>37.0</td>\n",
       "      <td>29.0</td>\n",
       "      <td>8.0</td>\n",
       "      <td>5.0</td>\n",
       "      <td>59.0</td>\n",
       "      <td>54.0</td>\n",
       "      <td>52.0</td>\n",
       "      <td>22.0</td>\n",
       "      <td>14.0</td>\n",
       "      <td>52.0</td>\n",
       "    </tr>\n",
       "  </tbody>\n",
       "</table>\n",
       "<p>5 rows × 31 columns</p>\n",
       "</div>"
      ],
      "text/plain": [
       "    numbers  numbers(t-1)  numbers(t-2)  numbers(t-3)  numbers(t-4)  \\\n",
       "30        4          54.0          41.0          37.0          27.0   \n",
       "31       17           4.0          54.0          41.0          37.0   \n",
       "32       35          17.0           4.0          54.0          41.0   \n",
       "33       50          35.0          17.0           4.0          54.0   \n",
       "34       57          50.0          35.0          17.0           4.0   \n",
       "\n",
       "    numbers(t-5)  numbers(t-6)  numbers(t-7)  numbers(t-8)  numbers(t-9)  ...  \\\n",
       "30          13.0          36.0          26.0          19.0           8.0  ...   \n",
       "31          27.0          13.0          36.0          26.0          19.0  ...   \n",
       "32          37.0          27.0          13.0          36.0          26.0  ...   \n",
       "33          41.0          37.0          27.0          13.0          36.0  ...   \n",
       "34          54.0          41.0          37.0          27.0          13.0  ...   \n",
       "\n",
       "    numbers(t-21)  numbers(t-22)  numbers(t-23)  numbers(t-24)  numbers(t-25)  \\\n",
       "30           59.0           54.0           52.0           22.0           14.0   \n",
       "31            5.0           59.0           54.0           52.0           22.0   \n",
       "32            8.0            5.0           59.0           54.0           52.0   \n",
       "33           29.0            8.0            5.0           59.0           54.0   \n",
       "34           37.0           29.0            8.0            5.0           59.0   \n",
       "\n",
       "    numbers(t-26)  numbers(t-27)  numbers(t-28)  numbers(t-29)  numbers(t-30)  \n",
       "30           52.0           37.0           36.0           22.0           17.0  \n",
       "31           14.0           52.0           37.0           36.0           22.0  \n",
       "32           22.0           14.0           52.0           37.0           36.0  \n",
       "33           52.0           22.0           14.0           52.0           37.0  \n",
       "34           54.0           52.0           22.0           14.0           52.0  \n",
       "\n",
       "[5 rows x 31 columns]"
      ]
     },
     "execution_count": 9,
     "metadata": {},
     "output_type": "execute_result"
    }
   ],
   "source": [
    "# build lookback for lstm training\n",
    "def prepare_dataframe_for_lstm(data, n_steps):\n",
    "    data = dc(data)\n",
    "    \n",
    "    for i in range(1, n_steps+1):\n",
    "        data[f'numbers(t-{i})'] = data['numbers'].shift(i)\n",
    "        \n",
    "    data.dropna(inplace=True)\n",
    "    \n",
    "    return data\n",
    "\n",
    "shifted_df = prepare_dataframe_for_lstm(numbers_df, lookback)\n",
    "\n",
    "shifted_df.head()"
   ]
  },
  {
   "cell_type": "code",
   "execution_count": 10,
   "id": "2d54a71a",
   "metadata": {},
   "outputs": [
    {
     "data": {
      "text/html": [
       "<div>\n",
       "<style scoped>\n",
       "    .dataframe tbody tr th:only-of-type {\n",
       "        vertical-align: middle;\n",
       "    }\n",
       "\n",
       "    .dataframe tbody tr th {\n",
       "        vertical-align: top;\n",
       "    }\n",
       "\n",
       "    .dataframe thead th {\n",
       "        text-align: right;\n",
       "    }\n",
       "</style>\n",
       "<table border=\"1\" class=\"dataframe\">\n",
       "  <thead>\n",
       "    <tr style=\"text-align: right;\">\n",
       "      <th></th>\n",
       "      <th>numbers</th>\n",
       "      <th>numbers(t-1)</th>\n",
       "      <th>numbers(t-2)</th>\n",
       "      <th>numbers(t-3)</th>\n",
       "      <th>numbers(t-4)</th>\n",
       "      <th>numbers(t-5)</th>\n",
       "      <th>numbers(t-6)</th>\n",
       "      <th>numbers(t-7)</th>\n",
       "      <th>numbers(t-8)</th>\n",
       "      <th>numbers(t-9)</th>\n",
       "      <th>...</th>\n",
       "      <th>numbers(t-21)</th>\n",
       "      <th>numbers(t-22)</th>\n",
       "      <th>numbers(t-23)</th>\n",
       "      <th>numbers(t-24)</th>\n",
       "      <th>numbers(t-25)</th>\n",
       "      <th>numbers(t-26)</th>\n",
       "      <th>numbers(t-27)</th>\n",
       "      <th>numbers(t-28)</th>\n",
       "      <th>numbers(t-29)</th>\n",
       "      <th>numbers(t-30)</th>\n",
       "    </tr>\n",
       "  </thead>\n",
       "  <tbody>\n",
       "    <tr>\n",
       "      <th>30</th>\n",
       "      <td>4</td>\n",
       "      <td>54</td>\n",
       "      <td>41</td>\n",
       "      <td>37</td>\n",
       "      <td>27</td>\n",
       "      <td>13</td>\n",
       "      <td>36</td>\n",
       "      <td>26</td>\n",
       "      <td>19</td>\n",
       "      <td>8</td>\n",
       "      <td>...</td>\n",
       "      <td>59</td>\n",
       "      <td>54</td>\n",
       "      <td>52</td>\n",
       "      <td>22</td>\n",
       "      <td>14</td>\n",
       "      <td>52</td>\n",
       "      <td>37</td>\n",
       "      <td>36</td>\n",
       "      <td>22</td>\n",
       "      <td>17</td>\n",
       "    </tr>\n",
       "    <tr>\n",
       "      <th>31</th>\n",
       "      <td>17</td>\n",
       "      <td>4</td>\n",
       "      <td>54</td>\n",
       "      <td>41</td>\n",
       "      <td>37</td>\n",
       "      <td>27</td>\n",
       "      <td>13</td>\n",
       "      <td>36</td>\n",
       "      <td>26</td>\n",
       "      <td>19</td>\n",
       "      <td>...</td>\n",
       "      <td>5</td>\n",
       "      <td>59</td>\n",
       "      <td>54</td>\n",
       "      <td>52</td>\n",
       "      <td>22</td>\n",
       "      <td>14</td>\n",
       "      <td>52</td>\n",
       "      <td>37</td>\n",
       "      <td>36</td>\n",
       "      <td>22</td>\n",
       "    </tr>\n",
       "    <tr>\n",
       "      <th>32</th>\n",
       "      <td>35</td>\n",
       "      <td>17</td>\n",
       "      <td>4</td>\n",
       "      <td>54</td>\n",
       "      <td>41</td>\n",
       "      <td>37</td>\n",
       "      <td>27</td>\n",
       "      <td>13</td>\n",
       "      <td>36</td>\n",
       "      <td>26</td>\n",
       "      <td>...</td>\n",
       "      <td>8</td>\n",
       "      <td>5</td>\n",
       "      <td>59</td>\n",
       "      <td>54</td>\n",
       "      <td>52</td>\n",
       "      <td>22</td>\n",
       "      <td>14</td>\n",
       "      <td>52</td>\n",
       "      <td>37</td>\n",
       "      <td>36</td>\n",
       "    </tr>\n",
       "    <tr>\n",
       "      <th>33</th>\n",
       "      <td>50</td>\n",
       "      <td>35</td>\n",
       "      <td>17</td>\n",
       "      <td>4</td>\n",
       "      <td>54</td>\n",
       "      <td>41</td>\n",
       "      <td>37</td>\n",
       "      <td>27</td>\n",
       "      <td>13</td>\n",
       "      <td>36</td>\n",
       "      <td>...</td>\n",
       "      <td>29</td>\n",
       "      <td>8</td>\n",
       "      <td>5</td>\n",
       "      <td>59</td>\n",
       "      <td>54</td>\n",
       "      <td>52</td>\n",
       "      <td>22</td>\n",
       "      <td>14</td>\n",
       "      <td>52</td>\n",
       "      <td>37</td>\n",
       "    </tr>\n",
       "    <tr>\n",
       "      <th>34</th>\n",
       "      <td>57</td>\n",
       "      <td>50</td>\n",
       "      <td>35</td>\n",
       "      <td>17</td>\n",
       "      <td>4</td>\n",
       "      <td>54</td>\n",
       "      <td>41</td>\n",
       "      <td>37</td>\n",
       "      <td>27</td>\n",
       "      <td>13</td>\n",
       "      <td>...</td>\n",
       "      <td>37</td>\n",
       "      <td>29</td>\n",
       "      <td>8</td>\n",
       "      <td>5</td>\n",
       "      <td>59</td>\n",
       "      <td>54</td>\n",
       "      <td>52</td>\n",
       "      <td>22</td>\n",
       "      <td>14</td>\n",
       "      <td>52</td>\n",
       "    </tr>\n",
       "  </tbody>\n",
       "</table>\n",
       "<p>5 rows × 31 columns</p>\n",
       "</div>"
      ],
      "text/plain": [
       "    numbers  numbers(t-1)  numbers(t-2)  numbers(t-3)  numbers(t-4)  \\\n",
       "30        4            54            41            37            27   \n",
       "31       17             4            54            41            37   \n",
       "32       35            17             4            54            41   \n",
       "33       50            35            17             4            54   \n",
       "34       57            50            35            17             4   \n",
       "\n",
       "    numbers(t-5)  numbers(t-6)  numbers(t-7)  numbers(t-8)  numbers(t-9)  ...  \\\n",
       "30            13            36            26            19             8  ...   \n",
       "31            27            13            36            26            19  ...   \n",
       "32            37            27            13            36            26  ...   \n",
       "33            41            37            27            13            36  ...   \n",
       "34            54            41            37            27            13  ...   \n",
       "\n",
       "    numbers(t-21)  numbers(t-22)  numbers(t-23)  numbers(t-24)  numbers(t-25)  \\\n",
       "30             59             54             52             22             14   \n",
       "31              5             59             54             52             22   \n",
       "32              8              5             59             54             52   \n",
       "33             29              8              5             59             54   \n",
       "34             37             29              8              5             59   \n",
       "\n",
       "    numbers(t-26)  numbers(t-27)  numbers(t-28)  numbers(t-29)  numbers(t-30)  \n",
       "30             52             37             36             22             17  \n",
       "31             14             52             37             36             22  \n",
       "32             22             14             52             37             36  \n",
       "33             52             22             14             52             37  \n",
       "34             54             52             22             14             52  \n",
       "\n",
       "[5 rows x 31 columns]"
      ]
     },
     "execution_count": 10,
     "metadata": {},
     "output_type": "execute_result"
    }
   ],
   "source": [
    "shifted_df = shifted_df.astype(int)\n",
    "\n",
    "shifted_df.head()"
   ]
  },
  {
   "cell_type": "code",
   "execution_count": 11,
   "id": "aed0cc8d",
   "metadata": {},
   "outputs": [
    {
     "data": {
      "text/plain": [
       "((7635, 30), (7635,), (7635,))"
      ]
     },
     "execution_count": 11,
     "metadata": {},
     "output_type": "execute_result"
    }
   ],
   "source": [
    "from sklearn.preprocessing import StandardScaler\n",
    "\n",
    "# name date column from new index (since start date is absorbed into first x windows)\n",
    "dates = shifted_df.index\n",
    "\n",
    "#convert from df to numpy array\n",
    "shifted_df_as_np = shifted_df.to_numpy()\n",
    "\n",
    "#Scale data\n",
    "# log_transformed_data = np.log(shifted_df_as_np)\n",
    "# scaler = StandardScaler()\n",
    "\n",
    "# scaled_data = scaler.fit_transform(shifted_df_as_np)\n",
    "\n",
    "\n",
    "# split reference from deatures\n",
    "X1 = shifted_df_as_np[:, 1:]\n",
    "y1 = shifted_df_as_np[:, 0]\n",
    "\n",
    "#flip order of windows (needs to start with most recent)\n",
    "\n",
    "X1 = dc(np.flip(X1, axis=1))\n",
    "X1\n",
    "\n",
    "\n",
    "X1.shape, y1.shape, dates.shape\n"
   ]
  },
  {
   "cell_type": "code",
   "execution_count": 12,
   "id": "aa584493",
   "metadata": {
    "scrolled": true
   },
   "outputs": [
    {
     "data": {
      "text/plain": [
       "((6108, 30), (6108,), (763, 30), (763,), (764, 30), (764,))"
      ]
     },
     "execution_count": 12,
     "metadata": {},
     "output_type": "execute_result"
    }
   ],
   "source": [
    "#Calculate split points based on previously defined variables\n",
    "train_split = int(len(X1) * split_1)\n",
    "test_split = int(len(X1) * split_2)\n",
    "\n",
    "#Define spilt points for train/val/test\n",
    "dates_train1, X_train1, y_train1 = dates[:train_split],X1[:train_split], y1[:train_split]\n",
    "dates_val1, X_val1, y_val1 = dates[train_split:test_split], X1[train_split:test_split], y1[train_split:test_split]\n",
    "dates_test1, X_test1, y_test1 = dates[test_split:], X1[test_split:], y1[test_split:]\n",
    "X_train1.shape, y_train1.shape, X_val1.shape, y_val1.shape, X_test1.shape, y_test1.shape"
   ]
  },
  {
   "cell_type": "code",
   "execution_count": 25,
   "id": "732ba944",
   "metadata": {},
   "outputs": [
    {
     "name": "stdout",
     "output_type": "stream",
     "text": [
      "Epoch 1/100\n",
      "191/191 [==============================] - 7s 22ms/step - loss: 347.1228 - mean_absolute_error: 14.9401 - val_loss: 323.0889 - val_mean_absolute_error: 14.7102\n",
      "Epoch 2/100\n",
      "191/191 [==============================] - 3s 15ms/step - loss: 177.5753 - mean_absolute_error: 10.3805 - val_loss: 115.8321 - val_mean_absolute_error: 8.2179\n",
      "Epoch 3/100\n",
      "191/191 [==============================] - 3s 16ms/step - loss: 100.7436 - mean_absolute_error: 7.7862 - val_loss: 84.4907 - val_mean_absolute_error: 7.0785\n",
      "Epoch 4/100\n",
      "191/191 [==============================] - 3s 16ms/step - loss: 83.7851 - mean_absolute_error: 7.1852 - val_loss: 111.7395 - val_mean_absolute_error: 8.4499\n",
      "Epoch 5/100\n",
      "191/191 [==============================] - 3s 15ms/step - loss: 82.8704 - mean_absolute_error: 7.1320 - val_loss: 80.5207 - val_mean_absolute_error: 6.9377\n",
      "Epoch 6/100\n",
      "191/191 [==============================] - 3s 18ms/step - loss: 74.9736 - mean_absolute_error: 6.8024 - val_loss: 78.9449 - val_mean_absolute_error: 6.6574\n",
      "Epoch 7/100\n",
      "191/191 [==============================] - 3s 16ms/step - loss: 79.7745 - mean_absolute_error: 6.9813 - val_loss: 113.1309 - val_mean_absolute_error: 8.2627\n",
      "Epoch 8/100\n",
      "191/191 [==============================] - 3s 16ms/step - loss: 75.1203 - mean_absolute_error: 6.8035 - val_loss: 74.6297 - val_mean_absolute_error: 6.7520\n",
      "Epoch 9/100\n",
      "191/191 [==============================] - 3s 15ms/step - loss: 74.8628 - mean_absolute_error: 6.8046 - val_loss: 91.6457 - val_mean_absolute_error: 7.2218\n",
      "Epoch 10/100\n",
      "191/191 [==============================] - 4s 22ms/step - loss: 75.2463 - mean_absolute_error: 6.8067 - val_loss: 75.6780 - val_mean_absolute_error: 6.7852\n",
      "Epoch 11/100\n",
      "191/191 [==============================] - 4s 19ms/step - loss: 79.9591 - mean_absolute_error: 6.9591 - val_loss: 80.9091 - val_mean_absolute_error: 6.9652\n",
      "Epoch 12/100\n",
      "191/191 [==============================] - 4s 19ms/step - loss: 74.8221 - mean_absolute_error: 6.8031 - val_loss: 85.3957 - val_mean_absolute_error: 7.0914\n",
      "Epoch 13/100\n",
      "191/191 [==============================] - 3s 18ms/step - loss: 76.2846 - mean_absolute_error: 6.8379 - val_loss: 78.0116 - val_mean_absolute_error: 6.9101\n",
      "Epoch 14/100\n",
      "191/191 [==============================] - 3s 18ms/step - loss: 75.5978 - mean_absolute_error: 6.8090 - val_loss: 75.8200 - val_mean_absolute_error: 6.6275\n",
      "Epoch 15/100\n",
      "191/191 [==============================] - 4s 23ms/step - loss: 73.5820 - mean_absolute_error: 6.7209 - val_loss: 75.2304 - val_mean_absolute_error: 6.7004\n",
      "Epoch 16/100\n",
      "191/191 [==============================] - 6s 30ms/step - loss: 77.8246 - mean_absolute_error: 6.8904 - val_loss: 86.3469 - val_mean_absolute_error: 7.0743\n",
      "Epoch 17/100\n",
      "191/191 [==============================] - 3s 17ms/step - loss: 83.4171 - mean_absolute_error: 7.1020 - val_loss: 78.6453 - val_mean_absolute_error: 6.8562\n",
      "Epoch 18/100\n",
      "191/191 [==============================] - 3s 16ms/step - loss: 76.2615 - mean_absolute_error: 6.8544 - val_loss: 75.1835 - val_mean_absolute_error: 6.7035\n",
      "Epoch 19/100\n",
      "191/191 [==============================] - 3s 17ms/step - loss: 76.9193 - mean_absolute_error: 6.8598 - val_loss: 78.3107 - val_mean_absolute_error: 6.8204\n",
      "Epoch 20/100\n",
      "191/191 [==============================] - 3s 16ms/step - loss: 74.9625 - mean_absolute_error: 6.7804 - val_loss: 76.9173 - val_mean_absolute_error: 7.0409\n",
      "Epoch 21/100\n",
      "191/191 [==============================] - 3s 15ms/step - loss: 74.6246 - mean_absolute_error: 6.7940 - val_loss: 82.3051 - val_mean_absolute_error: 6.9614\n",
      "Epoch 22/100\n",
      "191/191 [==============================] - 3s 15ms/step - loss: 73.0314 - mean_absolute_error: 6.6931 - val_loss: 80.8400 - val_mean_absolute_error: 7.0162\n",
      "Epoch 23/100\n",
      "191/191 [==============================] - 3s 15ms/step - loss: 136.0215 - mean_absolute_error: 8.6711 - val_loss: 171.4152 - val_mean_absolute_error: 10.2138\n",
      "Epoch 24/100\n",
      "191/191 [==============================] - 3s 15ms/step - loss: 100.0382 - mean_absolute_error: 7.7240 - val_loss: 78.7937 - val_mean_absolute_error: 6.8763\n",
      "Epoch 25/100\n",
      "191/191 [==============================] - 3s 15ms/step - loss: 78.0729 - mean_absolute_error: 6.9246 - val_loss: 83.6267 - val_mean_absolute_error: 7.0944\n",
      "Epoch 26/100\n",
      "191/191 [==============================] - 3s 15ms/step - loss: 74.3844 - mean_absolute_error: 6.7551 - val_loss: 78.1738 - val_mean_absolute_error: 6.9493\n",
      "Epoch 27/100\n",
      "191/191 [==============================] - 3s 16ms/step - loss: 73.3329 - mean_absolute_error: 6.7053 - val_loss: 79.0799 - val_mean_absolute_error: 6.9054\n",
      "Epoch 28/100\n",
      "191/191 [==============================] - 3s 15ms/step - loss: 73.1435 - mean_absolute_error: 6.7050 - val_loss: 83.4574 - val_mean_absolute_error: 6.9977\n",
      "Epoch 29/100\n",
      "191/191 [==============================] - 3s 15ms/step - loss: 73.4708 - mean_absolute_error: 6.7112 - val_loss: 77.7119 - val_mean_absolute_error: 6.8158\n",
      "Epoch 30/100\n",
      "191/191 [==============================] - 3s 15ms/step - loss: 72.3705 - mean_absolute_error: 6.6676 - val_loss: 74.7731 - val_mean_absolute_error: 6.7178\n",
      "Epoch 31/100\n",
      "191/191 [==============================] - 3s 15ms/step - loss: 72.7032 - mean_absolute_error: 6.6787 - val_loss: 75.5242 - val_mean_absolute_error: 6.7923\n",
      "Epoch 32/100\n",
      "191/191 [==============================] - 3s 15ms/step - loss: 74.7418 - mean_absolute_error: 6.7401 - val_loss: 79.7460 - val_mean_absolute_error: 6.8156\n",
      "Epoch 33/100\n",
      "191/191 [==============================] - 3s 15ms/step - loss: 72.7468 - mean_absolute_error: 6.6810 - val_loss: 76.4736 - val_mean_absolute_error: 6.6888\n",
      "Epoch 34/100\n",
      "191/191 [==============================] - 3s 15ms/step - loss: 72.2302 - mean_absolute_error: 6.6373 - val_loss: 74.8705 - val_mean_absolute_error: 6.8451\n",
      "Epoch 35/100\n",
      "191/191 [==============================] - 3s 15ms/step - loss: 72.5382 - mean_absolute_error: 6.6478 - val_loss: 74.7041 - val_mean_absolute_error: 6.8487\n",
      "Epoch 36/100\n",
      "191/191 [==============================] - 3s 15ms/step - loss: 73.2768 - mean_absolute_error: 6.7118 - val_loss: 77.4485 - val_mean_absolute_error: 6.8027\n",
      "Epoch 37/100\n",
      "191/191 [==============================] - 3s 15ms/step - loss: 72.3820 - mean_absolute_error: 6.6817 - val_loss: 76.7087 - val_mean_absolute_error: 6.8630\n",
      "Epoch 38/100\n",
      "191/191 [==============================] - 3s 15ms/step - loss: 72.3526 - mean_absolute_error: 6.6639 - val_loss: 73.8946 - val_mean_absolute_error: 6.6673\n",
      "Epoch 39/100\n",
      "191/191 [==============================] - 3s 15ms/step - loss: 72.5881 - mean_absolute_error: 6.6782 - val_loss: 75.6457 - val_mean_absolute_error: 6.7887\n",
      "Epoch 40/100\n",
      "191/191 [==============================] - 3s 15ms/step - loss: 72.3664 - mean_absolute_error: 6.6678 - val_loss: 81.1673 - val_mean_absolute_error: 6.8488\n",
      "Epoch 41/100\n",
      "191/191 [==============================] - 3s 15ms/step - loss: 71.9810 - mean_absolute_error: 6.6241 - val_loss: 74.7202 - val_mean_absolute_error: 6.8329\n",
      "Epoch 42/100\n",
      "191/191 [==============================] - 3s 15ms/step - loss: 72.1954 - mean_absolute_error: 6.6680 - val_loss: 80.8135 - val_mean_absolute_error: 6.8401\n",
      "Epoch 43/100\n",
      "191/191 [==============================] - 3s 15ms/step - loss: 71.7285 - mean_absolute_error: 6.6228 - val_loss: 76.1099 - val_mean_absolute_error: 6.7223\n",
      "Epoch 44/100\n",
      "191/191 [==============================] - 3s 15ms/step - loss: 72.0471 - mean_absolute_error: 6.6385 - val_loss: 74.7255 - val_mean_absolute_error: 6.7816\n",
      "Epoch 45/100\n",
      "191/191 [==============================] - 3s 15ms/step - loss: 71.6294 - mean_absolute_error: 6.6176 - val_loss: 74.8684 - val_mean_absolute_error: 6.7841\n",
      "Epoch 46/100\n",
      "191/191 [==============================] - 3s 15ms/step - loss: 72.8179 - mean_absolute_error: 6.6735 - val_loss: 82.2966 - val_mean_absolute_error: 7.0310\n",
      "Epoch 47/100\n",
      "191/191 [==============================] - 3s 15ms/step - loss: 72.7456 - mean_absolute_error: 6.6902 - val_loss: 78.6766 - val_mean_absolute_error: 6.8999\n",
      "Epoch 48/100\n",
      "191/191 [==============================] - 3s 15ms/step - loss: 76.2153 - mean_absolute_error: 6.8266 - val_loss: 76.7609 - val_mean_absolute_error: 6.9599\n",
      "Epoch 49/100\n"
     ]
    },
    {
     "name": "stdout",
     "output_type": "stream",
     "text": [
      "191/191 [==============================] - 3s 17ms/step - loss: 74.4549 - mean_absolute_error: 6.7564 - val_loss: 74.9736 - val_mean_absolute_error: 6.7376\n",
      "Epoch 50/100\n",
      "191/191 [==============================] - 3s 15ms/step - loss: 72.2507 - mean_absolute_error: 6.6574 - val_loss: 83.5825 - val_mean_absolute_error: 6.9529\n",
      "Epoch 51/100\n",
      "191/191 [==============================] - 3s 15ms/step - loss: 73.2214 - mean_absolute_error: 6.6957 - val_loss: 76.9569 - val_mean_absolute_error: 7.0629\n",
      "Epoch 52/100\n",
      "191/191 [==============================] - 3s 15ms/step - loss: 72.6665 - mean_absolute_error: 6.6545 - val_loss: 75.8754 - val_mean_absolute_error: 6.7061\n",
      "Epoch 53/100\n",
      "191/191 [==============================] - 3s 15ms/step - loss: 72.0094 - mean_absolute_error: 6.6435 - val_loss: 77.4595 - val_mean_absolute_error: 6.8275\n",
      "Epoch 54/100\n",
      "191/191 [==============================] - 3s 15ms/step - loss: 72.0203 - mean_absolute_error: 6.6260 - val_loss: 81.5230 - val_mean_absolute_error: 6.9988\n",
      "Epoch 55/100\n",
      "191/191 [==============================] - 3s 15ms/step - loss: 72.5418 - mean_absolute_error: 6.6858 - val_loss: 75.5073 - val_mean_absolute_error: 6.6436\n",
      "Epoch 56/100\n",
      "191/191 [==============================] - 3s 15ms/step - loss: 72.8281 - mean_absolute_error: 6.6788 - val_loss: 74.2606 - val_mean_absolute_error: 6.7003\n",
      "Epoch 57/100\n",
      "191/191 [==============================] - 3s 16ms/step - loss: 71.6563 - mean_absolute_error: 6.6180 - val_loss: 77.7308 - val_mean_absolute_error: 6.6760\n",
      "Epoch 58/100\n",
      "191/191 [==============================] - 3s 15ms/step - loss: 71.4141 - mean_absolute_error: 6.6207 - val_loss: 77.3704 - val_mean_absolute_error: 6.7077\n",
      "Epoch 59/100\n",
      "191/191 [==============================] - 3s 15ms/step - loss: 72.9023 - mean_absolute_error: 6.6884 - val_loss: 76.9619 - val_mean_absolute_error: 6.8099\n",
      "Epoch 60/100\n",
      "191/191 [==============================] - 3s 15ms/step - loss: 72.6363 - mean_absolute_error: 6.6629 - val_loss: 76.4032 - val_mean_absolute_error: 6.6693\n",
      "Epoch 61/100\n",
      "191/191 [==============================] - 3s 15ms/step - loss: 72.8733 - mean_absolute_error: 6.6805 - val_loss: 77.2776 - val_mean_absolute_error: 6.8669\n",
      "Epoch 62/100\n",
      "191/191 [==============================] - 3s 15ms/step - loss: 80.8550 - mean_absolute_error: 6.9462 - val_loss: 73.7078 - val_mean_absolute_error: 6.6678\n",
      "Epoch 63/100\n",
      "191/191 [==============================] - 3s 15ms/step - loss: 76.1752 - mean_absolute_error: 6.8269 - val_loss: 77.8342 - val_mean_absolute_error: 6.8573\n",
      "Epoch 64/100\n",
      "191/191 [==============================] - 3s 15ms/step - loss: 74.6123 - mean_absolute_error: 6.7319 - val_loss: 76.2346 - val_mean_absolute_error: 6.9301\n",
      "Epoch 65/100\n",
      "191/191 [==============================] - 3s 15ms/step - loss: 72.9323 - mean_absolute_error: 6.6999 - val_loss: 77.8929 - val_mean_absolute_error: 6.8828\n",
      "Epoch 66/100\n",
      "191/191 [==============================] - 3s 15ms/step - loss: 72.2059 - mean_absolute_error: 6.6363 - val_loss: 75.6341 - val_mean_absolute_error: 6.8696\n",
      "Epoch 67/100\n",
      "191/191 [==============================] - 3s 15ms/step - loss: 72.1572 - mean_absolute_error: 6.6453 - val_loss: 85.0302 - val_mean_absolute_error: 7.1051\n",
      "Epoch 68/100\n",
      "191/191 [==============================] - 3s 15ms/step - loss: 89.1714 - mean_absolute_error: 7.2197 - val_loss: 93.5378 - val_mean_absolute_error: 7.7785\n",
      "Epoch 69/100\n",
      "191/191 [==============================] - 3s 15ms/step - loss: 76.1943 - mean_absolute_error: 6.8315 - val_loss: 79.4494 - val_mean_absolute_error: 6.7180\n",
      "Epoch 70/100\n",
      "191/191 [==============================] - 3s 16ms/step - loss: 73.0673 - mean_absolute_error: 6.6885 - val_loss: 75.2293 - val_mean_absolute_error: 6.8482\n",
      "Epoch 71/100\n",
      "191/191 [==============================] - 3s 15ms/step - loss: 72.2864 - mean_absolute_error: 6.6576 - val_loss: 73.9759 - val_mean_absolute_error: 6.8961\n",
      "Epoch 72/100\n",
      "191/191 [==============================] - 3s 15ms/step - loss: 73.0056 - mean_absolute_error: 6.6989 - val_loss: 79.2538 - val_mean_absolute_error: 6.8326\n",
      "Epoch 73/100\n",
      "191/191 [==============================] - 3s 15ms/step - loss: 71.5720 - mean_absolute_error: 6.6171 - val_loss: 74.6837 - val_mean_absolute_error: 6.7402\n",
      "Epoch 74/100\n",
      "191/191 [==============================] - 3s 15ms/step - loss: 71.1449 - mean_absolute_error: 6.5988 - val_loss: 74.5845 - val_mean_absolute_error: 6.6647\n",
      "Epoch 75/100\n",
      "191/191 [==============================] - 3s 15ms/step - loss: 72.3318 - mean_absolute_error: 6.6603 - val_loss: 83.8674 - val_mean_absolute_error: 7.1518\n",
      "Epoch 76/100\n",
      "191/191 [==============================] - 3s 15ms/step - loss: 72.4156 - mean_absolute_error: 6.6727 - val_loss: 82.0572 - val_mean_absolute_error: 6.8690\n",
      "Epoch 77/100\n",
      "191/191 [==============================] - 3s 15ms/step - loss: 74.9341 - mean_absolute_error: 6.7493 - val_loss: 77.3904 - val_mean_absolute_error: 6.9653\n",
      "Epoch 78/100\n",
      "191/191 [==============================] - 3s 15ms/step - loss: 77.2749 - mean_absolute_error: 6.8019 - val_loss: 76.6928 - val_mean_absolute_error: 6.7535\n",
      "Epoch 79/100\n",
      "191/191 [==============================] - 3s 15ms/step - loss: 87.7387 - mean_absolute_error: 7.0796 - val_loss: 158.6517 - val_mean_absolute_error: 9.6845\n",
      "Epoch 80/100\n",
      "191/191 [==============================] - 3s 15ms/step - loss: 82.7950 - mean_absolute_error: 7.0720 - val_loss: 74.9096 - val_mean_absolute_error: 6.7142\n",
      "Epoch 81/100\n",
      "191/191 [==============================] - 3s 15ms/step - loss: 73.3079 - mean_absolute_error: 6.7010 - val_loss: 78.7406 - val_mean_absolute_error: 6.9629\n",
      "Epoch 82/100\n",
      "191/191 [==============================] - 3s 15ms/step - loss: 75.6973 - mean_absolute_error: 6.8286 - val_loss: 74.7035 - val_mean_absolute_error: 6.6707\n",
      "Epoch 83/100\n",
      "191/191 [==============================] - 3s 15ms/step - loss: 77.3516 - mean_absolute_error: 6.8260 - val_loss: 74.9889 - val_mean_absolute_error: 6.6554\n",
      "Epoch 84/100\n",
      "191/191 [==============================] - 3s 15ms/step - loss: 71.9289 - mean_absolute_error: 6.6428 - val_loss: 75.7876 - val_mean_absolute_error: 6.6884\n",
      "Epoch 85/100\n",
      "191/191 [==============================] - 3s 15ms/step - loss: 72.1009 - mean_absolute_error: 6.6400 - val_loss: 76.1865 - val_mean_absolute_error: 6.7794\n",
      "Epoch 86/100\n",
      "191/191 [==============================] - 3s 15ms/step - loss: 73.0947 - mean_absolute_error: 6.7060 - val_loss: 83.2686 - val_mean_absolute_error: 7.0633\n",
      "Epoch 87/100\n",
      "191/191 [==============================] - 3s 15ms/step - loss: 87.4323 - mean_absolute_error: 7.1421 - val_loss: 77.4403 - val_mean_absolute_error: 6.8791\n",
      "Epoch 88/100\n",
      "191/191 [==============================] - 3s 15ms/step - loss: 73.9417 - mean_absolute_error: 6.6829 - val_loss: 79.0047 - val_mean_absolute_error: 6.9501\n",
      "Epoch 89/100\n",
      "191/191 [==============================] - 3s 15ms/step - loss: 75.5524 - mean_absolute_error: 6.7154 - val_loss: 83.4206 - val_mean_absolute_error: 7.0654\n",
      "Epoch 90/100\n",
      "191/191 [==============================] - 3s 15ms/step - loss: 74.7421 - mean_absolute_error: 6.7913 - val_loss: 75.4949 - val_mean_absolute_error: 6.7005\n",
      "Epoch 91/100\n",
      "191/191 [==============================] - 3s 15ms/step - loss: 72.4432 - mean_absolute_error: 6.6488 - val_loss: 75.1498 - val_mean_absolute_error: 6.7847\n",
      "Epoch 92/100\n",
      "191/191 [==============================] - 3s 15ms/step - loss: 74.1552 - mean_absolute_error: 6.7043 - val_loss: 77.9617 - val_mean_absolute_error: 6.8224\n",
      "Epoch 93/100\n",
      "191/191 [==============================] - 3s 15ms/step - loss: 73.0188 - mean_absolute_error: 6.6794 - val_loss: 76.2959 - val_mean_absolute_error: 6.7209\n",
      "Epoch 94/100\n",
      "191/191 [==============================] - 3s 15ms/step - loss: 75.2434 - mean_absolute_error: 6.7443 - val_loss: 79.1361 - val_mean_absolute_error: 6.8454\n",
      "Epoch 95/100\n",
      "191/191 [==============================] - 3s 15ms/step - loss: 73.6027 - mean_absolute_error: 6.6997 - val_loss: 75.3176 - val_mean_absolute_error: 6.7575\n",
      "Epoch 96/100\n",
      "191/191 [==============================] - 3s 15ms/step - loss: 72.2103 - mean_absolute_error: 6.6353 - val_loss: 75.4121 - val_mean_absolute_error: 6.7484\n",
      "Epoch 97/100\n"
     ]
    },
    {
     "name": "stdout",
     "output_type": "stream",
     "text": [
      "191/191 [==============================] - 3s 15ms/step - loss: 72.0424 - mean_absolute_error: 6.6334 - val_loss: 75.3229 - val_mean_absolute_error: 6.6782\n",
      "Epoch 98/100\n",
      "191/191 [==============================] - 3s 15ms/step - loss: 74.0093 - mean_absolute_error: 6.7144 - val_loss: 76.1856 - val_mean_absolute_error: 6.8194\n",
      "Epoch 99/100\n",
      "191/191 [==============================] - 3s 15ms/step - loss: 72.7527 - mean_absolute_error: 6.6691 - val_loss: 78.7470 - val_mean_absolute_error: 6.7975\n",
      "Epoch 100/100\n",
      "191/191 [==============================] - 3s 15ms/step - loss: 71.7891 - mean_absolute_error: 6.6314 - val_loss: 75.0561 - val_mean_absolute_error: 6.6392\n"
     ]
    },
    {
     "data": {
      "text/plain": [
       "<keras.callbacks.History at 0x7f9ec7760a30>"
      ]
     },
     "execution_count": 25,
     "metadata": {},
     "output_type": "execute_result"
    }
   ],
   "source": [
    "#Build, compile, fit LSTM model\n",
    "\n",
    "model = Sequential([layers.Input((lookback, 1)),\n",
    "                    layers.LSTM(64),\n",
    "                    layers.Dense(64, activation='relu'),\n",
    "                    layers.Dense(64, activation='relu'),\n",
    "                    layers.Dense(1)])\n",
    "\n",
    "model.compile(loss='mse',\n",
    "              optimizer=Adam(learning_rate=0.01),\n",
    "              metrics=['mean_absolute_error'])\n",
    "\n",
    "model.fit(X_train1, y_train1, validation_data=(X_val1, y_val1), epochs=100)"
   ]
  },
  {
   "cell_type": "code",
   "execution_count": 26,
   "id": "51ca424b",
   "metadata": {
    "scrolled": false
   },
   "outputs": [
    {
     "name": "stdout",
     "output_type": "stream",
     "text": [
      "191/191 [==============================] - 1s 5ms/step\n"
     ]
    },
    {
     "data": {
      "text/plain": [
       "<matplotlib.legend.Legend at 0x7f9ec9d584c0>"
      ]
     },
     "execution_count": 26,
     "metadata": {},
     "output_type": "execute_result"
    },
    {
     "data": {
      "image/png": "[encoded data removed]",
      "text/plain": [
       "<Figure size 640x480 with 1 Axes>"
      ]
     },
     "metadata": {},
     "output_type": "display_data"
    }
   ],
   "source": [
    "# Check training predictions (use np.exp to transform scaled data back to original scale)\n",
    "\n",
    "train_predictions = model.predict(X_train1).flatten()\n",
    "\n",
    "plt.plot(dates_train1, (train_predictions))\n",
    "plt.plot(dates_train1, (y_train1))\n",
    "plt.xticks(rotation=90)\n",
    "plt.legend(['Training Predictions', 'Training Observations'])"
   ]
  },
  {
   "cell_type": "code",
   "execution_count": 27,
   "id": "07b3b236",
   "metadata": {},
   "outputs": [
    {
     "name": "stdout",
     "output_type": "stream",
     "text": [
      "Val loss: 75.05609893798828\n",
      "Val MAE: 6.639226913452148\n"
     ]
    }
   ],
   "source": [
    "# Check scores for val period\n",
    "score = model.evaluate(X_val1, y_val1, verbose = 0) \n",
    "\n",
    "print('Val loss:', score[0]) \n",
    "print('Val MAE:', score[1])"
   ]
  },
  {
   "cell_type": "code",
   "execution_count": 28,
   "id": "6aebf414",
   "metadata": {},
   "outputs": [
    {
     "name": "stdout",
     "output_type": "stream",
     "text": [
      "24/24 [==============================] - 0s 5ms/step\n"
     ]
    },
    {
     "data": {
      "text/plain": [
       "<matplotlib.legend.Legend at 0x7f9ecb0726b0>"
      ]
     },
     "execution_count": 28,
     "metadata": {},
     "output_type": "execute_result"
    },
    {
     "data": {
      "image/png": "[encoded data removed]",
      "text/plain": [
       "<Figure size 640x480 with 1 Axes>"
      ]
     },
     "metadata": {},
     "output_type": "display_data"
    }
   ],
   "source": [
    "# graphed performance of val data in model\n",
    "val_predictions = model.predict(X_val1).flatten()\n",
    "\n",
    "plt.plot(dates_val1, (val_predictions))\n",
    "plt.plot(dates_val1, (y_val1))\n",
    "plt.xticks(rotation=90)\n",
    "plt.legend(['Validation Predictions', 'Validation Observations'])"
   ]
  },
  {
   "cell_type": "code",
   "execution_count": 29,
   "id": "7d677f73",
   "metadata": {},
   "outputs": [
    {
     "name": "stdout",
     "output_type": "stream",
     "text": [
      "Test loss: 78.40442657470703\n",
      "Test MAE: 6.855936050415039\n"
     ]
    }
   ],
   "source": [
    "score = model.evaluate(X_test1, y_test1, verbose = 0) \n",
    "\n",
    "print('Test loss:', score[0]) \n",
    "print('Test MAE:', score[1])"
   ]
  },
  {
   "cell_type": "code",
   "execution_count": 30,
   "id": "07b063e2",
   "metadata": {
    "scrolled": true
   },
   "outputs": [
    {
     "name": "stdout",
     "output_type": "stream",
     "text": [
      "24/24 [==============================] - 0s 5ms/step\n"
     ]
    },
    {
     "data": {
      "text/plain": [
       "<matplotlib.legend.Legend at 0x7f9ec7159900>"
      ]
     },
     "execution_count": 30,
     "metadata": {},
     "output_type": "execute_result"
    },
    {
     "data": {
      "image/png": "[encoded data removed]",
      "text/plain": [
       "<Figure size 640x480 with 1 Axes>"
      ]
     },
     "metadata": {},
     "output_type": "display_data"
    }
   ],
   "source": [
    "#check model against test data\n",
    "test_predictions = model.predict(X_test1).flatten()\n",
    "\n",
    "plt.plot(dates_test1[-30:],(test_predictions[-30:]))\n",
    "plt.plot(dates_test1[-30:], (y_test1[-30:]))\n",
    "plt.xticks(rotation=90)\n",
    "plt.legend(['Testing Predictions', 'Testing Observations'])"
   ]
  },
  {
   "cell_type": "code",
   "execution_count": 31,
   "id": "d15ebd95",
   "metadata": {
    "scrolled": true
   },
   "outputs": [
    {
     "name": "stdout",
     "output_type": "stream",
     "text": [
      "R2 Score:  0.8001734788150687\n"
     ]
    }
   ],
   "source": [
    "# Check r2 score\n",
    "print('R2 Score: ', r2_score(y_test1, test_predictions))"
   ]
  },
  {
   "cell_type": "markdown",
   "id": "96ee29fc",
   "metadata": {},
   "source": [
    "## Future Prediction\n",
    "- Attempting to look ahead x days in an attempt to predict upcoming trends"
   ]
  },
  {
   "cell_type": "code",
   "execution_count": 32,
   "id": "2f8f2ce4",
   "metadata": {
    "scrolled": false
   },
   "outputs": [
    {
     "name": "stdout",
     "output_type": "stream",
     "text": [
      "1/1 [==============================] - 1s 583ms/step\n",
      "1/1 [==============================] - 0s 23ms/step\n",
      "1/1 [==============================] - 0s 24ms/step\n",
      "1/1 [==============================] - 0s 22ms/step\n",
      "1/1 [==============================] - 0s 22ms/step\n",
      "1/1 [==============================] - 0s 23ms/step\n",
      "1/1 [==============================] - 0s 22ms/step\n",
      "1/1 [==============================] - 0s 23ms/step\n",
      "1/1 [==============================] - 0s 23ms/step\n",
      "1/1 [==============================] - 0s 22ms/step\n",
      "[66.3345, 10.153748, 57.045643, 59.54013, 63.428333, 60.622734, 51.053303, 54.74332, 59.90025, 63.898]\n"
     ]
    }
   ],
   "source": [
    "# Initialize an array to store predictions\n",
    "predictions = []\n",
    "predicted_dates = []\n",
    "prediction_range = 10\n",
    "\n",
    "#create list of numbers to add to date based on date range\n",
    "date_range = list(range(1, prediction_range +1))\n",
    "\n",
    "# Use the last n_steps data points from the training set to make predictions\n",
    "current_batch = X_test1[-1]\n",
    "current_reshape = current_batch.reshape((1, lookback, 1))\n",
    "# initial_date = dates_test1[-1]\n",
    "\n",
    "# Generate predictions for 7 days\n",
    "for i in range(prediction_range): # Generate predictions for 7 days\n",
    "    # Predict the next data point\n",
    "    current_pred = model.predict(current_reshape)[0,0]\n",
    "    \n",
    "    # Append the prediction to the list of predictions\n",
    "    predictions.append(current_pred)\n",
    "        \n",
    "\n",
    "    # Update initial input for the next step\n",
    "    updated_batch = np.insert(current_batch, -1, current_pred)\n",
    "    \n",
    "    #resize batch \n",
    "    current_batch = updated_batch[1:]\n",
    "    \n",
    "    #reshape batch\n",
    "    current_reshape = current_batch.reshape((1, lookback, 1))\n",
    "\n",
    "    \n",
    "# for day in date_range:\n",
    "#     new_date = initial_date + dt.timedelta(days=day)\n",
    "#     predicted_dates.append(new_date\n",
    "#                           )\n",
    "# 'predictions' contains 7-day forecast\n",
    "print(predictions)\n",
    "\n",
    "# for date in predicted_dates:\n",
    "#     print(date)"
   ]
  },
  {
   "cell_type": "code",
   "execution_count": 33,
   "id": "9ed93589",
   "metadata": {
    "scrolled": true
   },
   "outputs": [],
   "source": [
    "# Export model1 to HDF5 file\n",
    "model.save(\"pb.h5\")"
   ]
  },
  {
   "cell_type": "code",
   "execution_count": 34,
   "id": "45ac09d9",
   "metadata": {},
   "outputs": [
    {
     "data": {
      "text/plain": [
       "[66, 10, 57, 60, 63, 61, 51, 55, 60, 64]"
      ]
     },
     "execution_count": 34,
     "metadata": {},
     "output_type": "execute_result"
    }
   ],
   "source": [
    "int_predictions = [round(x) for x in predictions]\n",
    "\n",
    "int_predictions"
   ]
  },
  {
   "cell_type": "code",
   "execution_count": 35,
   "id": "b641c082",
   "metadata": {},
   "outputs": [],
   "source": [
    "winner = int_predictions[0:5]"
   ]
  },
  {
   "cell_type": "code",
   "execution_count": 36,
   "id": "c1cb964e",
   "metadata": {},
   "outputs": [
    {
     "name": "stdout",
     "output_type": "stream",
     "text": [
      "[10, 57, 60, 63, 66]\n"
     ]
    }
   ],
   "source": [
    "winner.sort()\n",
    "print(winner)"
   ]
  },
  {
   "cell_type": "code",
   "execution_count": null,
   "id": "27d8848d",
   "metadata": {},
   "outputs": [],
   "source": []
  },
  {
   "cell_type": "code",
   "execution_count": null,
   "id": "7f603bbb",
   "metadata": {},
   "outputs": [],
   "source": []
  }
 ],
 "metadata": {
  "kernelspec": {
   "display_name": "Python 3 (ipykernel)",
   "language": "python",
   "name": "python3"
  },
  "language_info": {
   "codemirror_mode": {
    "name": "ipython",
    "version": 3
   },
   "file_extension": ".py",
   "mimetype": "text/x-python",
   "name": "python",
   "nbconvert_exporter": "python",
   "pygments_lexer": "ipython3",
   "version": "3.10.10"
  }
 },
 "nbformat": 4,
 "nbformat_minor": 5
}
