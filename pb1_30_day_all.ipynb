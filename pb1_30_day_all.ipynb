{
 "cells": [
  {
   "cell_type": "code",
   "execution_count": 1,
   "id": "3e7a8876",
   "metadata": {},
   "outputs": [
    {
     "name": "stderr",
     "output_type": "stream",
     "text": [
      "2023-10-08 11:20:13.160356: I tensorflow/core/platform/cpu_feature_guard.cc:193] This TensorFlow binary is optimized with oneAPI Deep Neural Network Library (oneDNN) to use the following CPU instructions in performance-critical operations:  SSE4.1 SSE4.2 AVX AVX2 FMA\n",
      "To enable them in other operations, rebuild TensorFlow with the appropriate compiler flags.\n"
     ]
    }
   ],
   "source": [
    "import pandas as pd\n",
    "import numpy as np\n",
    "import matplotlib.pyplot as plt\n",
    "import requests\n",
    "import json\n",
    "import tensorflow as tf\n",
    "from copy import deepcopy as dc\n",
    "from tensorflow.keras.models import Sequential\n",
    "from tensorflow.keras import layers\n",
    "from tensorflow.keras.layers import *\n",
    "from tensorflow.keras.losses import MeanSquaredError\n",
    "from tensorflow.keras.metrics import RootMeanSquaredError\n",
    "from sklearn.metrics import mean_squared_error, r2_score, mean_absolute_error\n",
    "from tensorflow.keras.optimizers import Adam\n",
    "import datetime as dt\n",
    "\n"
   ]
  },
  {
   "cell_type": "code",
   "execution_count": 2,
   "id": "54d6506d",
   "metadata": {},
   "outputs": [],
   "source": [
    "\n",
    "df = pd.read_csv('data/powerball_cleaned_231007.csv')\n",
    "\n",
    "# Now 'df' contains your data in a DataFrame\n"
   ]
  },
  {
   "cell_type": "code",
   "execution_count": 3,
   "id": "e51c3c9a",
   "metadata": {},
   "outputs": [
    {
     "data": {
      "text/html": [
       "<div>\n",
       "<style scoped>\n",
       "    .dataframe tbody tr th:only-of-type {\n",
       "        vertical-align: middle;\n",
       "    }\n",
       "\n",
       "    .dataframe tbody tr th {\n",
       "        vertical-align: top;\n",
       "    }\n",
       "\n",
       "    .dataframe thead th {\n",
       "        text-align: right;\n",
       "    }\n",
       "</style>\n",
       "<table border=\"1\" class=\"dataframe\">\n",
       "  <thead>\n",
       "    <tr style=\"text-align: right;\">\n",
       "      <th></th>\n",
       "      <th>Draw Date</th>\n",
       "      <th>Wi</th>\n",
       "      <th>nni</th>\n",
       "      <th>ng</th>\n",
       "      <th>Num</th>\n",
       "      <th>ber</th>\n",
       "      <th>s</th>\n",
       "    </tr>\n",
       "  </thead>\n",
       "  <tbody>\n",
       "    <tr>\n",
       "      <th>0</th>\n",
       "      <td>10/7/23</td>\n",
       "      <td>47</td>\n",
       "      <td>54</td>\n",
       "      <td>57</td>\n",
       "      <td>60</td>\n",
       "      <td>65</td>\n",
       "      <td>19</td>\n",
       "    </tr>\n",
       "    <tr>\n",
       "      <th>1</th>\n",
       "      <td>10/4/23</td>\n",
       "      <td>9</td>\n",
       "      <td>35</td>\n",
       "      <td>54</td>\n",
       "      <td>63</td>\n",
       "      <td>64</td>\n",
       "      <td>1</td>\n",
       "    </tr>\n",
       "    <tr>\n",
       "      <th>2</th>\n",
       "      <td>10/2/23</td>\n",
       "      <td>12</td>\n",
       "      <td>26</td>\n",
       "      <td>27</td>\n",
       "      <td>43</td>\n",
       "      <td>47</td>\n",
       "      <td>5</td>\n",
       "    </tr>\n",
       "    <tr>\n",
       "      <th>3</th>\n",
       "      <td>9/30/23</td>\n",
       "      <td>19</td>\n",
       "      <td>30</td>\n",
       "      <td>37</td>\n",
       "      <td>44</td>\n",
       "      <td>46</td>\n",
       "      <td>22</td>\n",
       "    </tr>\n",
       "    <tr>\n",
       "      <th>4</th>\n",
       "      <td>9/27/23</td>\n",
       "      <td>1</td>\n",
       "      <td>7</td>\n",
       "      <td>46</td>\n",
       "      <td>47</td>\n",
       "      <td>63</td>\n",
       "      <td>7</td>\n",
       "    </tr>\n",
       "  </tbody>\n",
       "</table>\n",
       "</div>"
      ],
      "text/plain": [
       "  Draw Date  Wi  nni  ng  Num  ber   s\n",
       "0   10/7/23  47   54  57   60   65  19\n",
       "1   10/4/23   9   35  54   63   64   1\n",
       "2   10/2/23  12   26  27   43   47   5\n",
       "3   9/30/23  19   30  37   44   46  22\n",
       "4   9/27/23   1    7  46   47   63   7"
      ]
     },
     "execution_count": 3,
     "metadata": {},
     "output_type": "execute_result"
    }
   ],
   "source": [
    "df.head()"
   ]
  },
  {
   "cell_type": "code",
   "execution_count": 4,
   "id": "5a78ceef",
   "metadata": {
    "scrolled": true
   },
   "outputs": [
    {
     "data": {
      "text/html": [
       "<div>\n",
       "<style scoped>\n",
       "    .dataframe tbody tr th:only-of-type {\n",
       "        vertical-align: middle;\n",
       "    }\n",
       "\n",
       "    .dataframe tbody tr th {\n",
       "        vertical-align: top;\n",
       "    }\n",
       "\n",
       "    .dataframe thead th {\n",
       "        text-align: right;\n",
       "    }\n",
       "</style>\n",
       "<table border=\"1\" class=\"dataframe\">\n",
       "  <thead>\n",
       "    <tr style=\"text-align: right;\">\n",
       "      <th></th>\n",
       "      <th>Wi</th>\n",
       "      <th>nni</th>\n",
       "      <th>ng</th>\n",
       "      <th>Num</th>\n",
       "      <th>ber</th>\n",
       "      <th>s</th>\n",
       "    </tr>\n",
       "    <tr>\n",
       "      <th>Date</th>\n",
       "      <th></th>\n",
       "      <th></th>\n",
       "      <th></th>\n",
       "      <th></th>\n",
       "      <th></th>\n",
       "      <th></th>\n",
       "    </tr>\n",
       "  </thead>\n",
       "  <tbody>\n",
       "    <tr>\n",
       "      <th>2010-02-03</th>\n",
       "      <td>17</td>\n",
       "      <td>22</td>\n",
       "      <td>36</td>\n",
       "      <td>37</td>\n",
       "      <td>52</td>\n",
       "      <td>24</td>\n",
       "    </tr>\n",
       "    <tr>\n",
       "      <th>2010-02-06</th>\n",
       "      <td>14</td>\n",
       "      <td>22</td>\n",
       "      <td>52</td>\n",
       "      <td>54</td>\n",
       "      <td>59</td>\n",
       "      <td>4</td>\n",
       "    </tr>\n",
       "    <tr>\n",
       "      <th>2010-02-10</th>\n",
       "      <td>5</td>\n",
       "      <td>8</td>\n",
       "      <td>29</td>\n",
       "      <td>37</td>\n",
       "      <td>38</td>\n",
       "      <td>34</td>\n",
       "    </tr>\n",
       "    <tr>\n",
       "      <th>2010-02-13</th>\n",
       "      <td>10</td>\n",
       "      <td>14</td>\n",
       "      <td>30</td>\n",
       "      <td>40</td>\n",
       "      <td>51</td>\n",
       "      <td>1</td>\n",
       "    </tr>\n",
       "    <tr>\n",
       "      <th>2010-02-17</th>\n",
       "      <td>7</td>\n",
       "      <td>8</td>\n",
       "      <td>19</td>\n",
       "      <td>26</td>\n",
       "      <td>36</td>\n",
       "      <td>15</td>\n",
       "    </tr>\n",
       "  </tbody>\n",
       "</table>\n",
       "</div>"
      ],
      "text/plain": [
       "            Wi  nni  ng  Num  ber   s\n",
       "Date                                 \n",
       "2010-02-03  17   22  36   37   52  24\n",
       "2010-02-06  14   22  52   54   59   4\n",
       "2010-02-10   5    8  29   37   38  34\n",
       "2010-02-13  10   14  30   40   51   1\n",
       "2010-02-17   7    8  19   26   36  15"
      ]
     },
     "execution_count": 4,
     "metadata": {},
     "output_type": "execute_result"
    }
   ],
   "source": [
    "\n",
    "\n",
    "#rename columns\n",
    "df = df.rename(columns={\"Draw Date\":\"Date\"})\n",
    "\n",
    "#convert date to dt, refomat to yyyymmdd\n",
    "df['Date'] = pd.to_datetime(df['Date']).dt.date\n",
    "\n",
    "#json return began with most recent date, reversed for plotting/analysis\n",
    "df = df.reindex(index=df.index[::-1])\n",
    "\n",
    "#set date as index\n",
    "df.set_index('Date', inplace=True)\n",
    "\n",
    "df.head()"
   ]
  },
  {
   "cell_type": "code",
   "execution_count": 5,
   "id": "e608f20e",
   "metadata": {
    "scrolled": false
   },
   "outputs": [
    {
     "data": {
      "text/plain": [
       "[17, 22, 36, 37, 52]"
      ]
     },
     "execution_count": 5,
     "metadata": {},
     "output_type": "execute_result"
    }
   ],
   "source": [
    "stacked_list = df.stack().tolist()\n",
    "\n",
    "stacked_list[0:5]"
   ]
  },
  {
   "cell_type": "code",
   "execution_count": 6,
   "id": "4411b7b3",
   "metadata": {},
   "outputs": [
    {
     "data": {
      "text/html": [
       "<div>\n",
       "<style scoped>\n",
       "    .dataframe tbody tr th:only-of-type {\n",
       "        vertical-align: middle;\n",
       "    }\n",
       "\n",
       "    .dataframe tbody tr th {\n",
       "        vertical-align: top;\n",
       "    }\n",
       "\n",
       "    .dataframe thead th {\n",
       "        text-align: right;\n",
       "    }\n",
       "</style>\n",
       "<table border=\"1\" class=\"dataframe\">\n",
       "  <thead>\n",
       "    <tr style=\"text-align: right;\">\n",
       "      <th></th>\n",
       "      <th>numbers</th>\n",
       "    </tr>\n",
       "  </thead>\n",
       "  <tbody>\n",
       "    <tr>\n",
       "      <th>0</th>\n",
       "      <td>17</td>\n",
       "    </tr>\n",
       "    <tr>\n",
       "      <th>1</th>\n",
       "      <td>22</td>\n",
       "    </tr>\n",
       "    <tr>\n",
       "      <th>2</th>\n",
       "      <td>36</td>\n",
       "    </tr>\n",
       "    <tr>\n",
       "      <th>3</th>\n",
       "      <td>37</td>\n",
       "    </tr>\n",
       "    <tr>\n",
       "      <th>4</th>\n",
       "      <td>52</td>\n",
       "    </tr>\n",
       "  </tbody>\n",
       "</table>\n",
       "</div>"
      ],
      "text/plain": [
       "   numbers\n",
       "0       17\n",
       "1       22\n",
       "2       36\n",
       "3       37\n",
       "4       52"
      ]
     },
     "execution_count": 6,
     "metadata": {},
     "output_type": "execute_result"
    }
   ],
   "source": [
    "numbers_df = pd.DataFrame(stacked_list, columns=[\"numbers\"])\n",
    "\n",
    "numbers_df.head()"
   ]
  },
  {
   "cell_type": "code",
   "execution_count": 7,
   "id": "d0564b55",
   "metadata": {
    "scrolled": true
   },
   "outputs": [
    {
     "data": {
      "text/plain": [
       "[<matplotlib.lines.Line2D at 0x7ff60951fb80>]"
      ]
     },
     "execution_count": 7,
     "metadata": {},
     "output_type": "execute_result"
    },
    {
     "data": {
      "image/png": "[encoded data removed]",
      "text/plain": [
       "<Figure size 640x480 with 1 Axes>"
      ]
     },
     "metadata": {},
     "output_type": "display_data"
    }
   ],
   "source": [
    "#plot historical amzn price\n",
    "plt.plot(numbers_df)"
   ]
  },
  {
   "cell_type": "code",
   "execution_count": 8,
   "id": "6e17819b",
   "metadata": {},
   "outputs": [],
   "source": [
    "# Set parameters for model\n",
    "\n",
    "lookback = 30\n",
    "\n",
    "split_1 = .8\n",
    "split_2 = .9"
   ]
  },
  {
   "cell_type": "code",
   "execution_count": 9,
   "id": "8d086f9f",
   "metadata": {
    "scrolled": true
   },
   "outputs": [
    {
     "data": {
      "text/html": [
       "<div>\n",
       "<style scoped>\n",
       "    .dataframe tbody tr th:only-of-type {\n",
       "        vertical-align: middle;\n",
       "    }\n",
       "\n",
       "    .dataframe tbody tr th {\n",
       "        vertical-align: top;\n",
       "    }\n",
       "\n",
       "    .dataframe thead th {\n",
       "        text-align: right;\n",
       "    }\n",
       "</style>\n",
       "<table border=\"1\" class=\"dataframe\">\n",
       "  <thead>\n",
       "    <tr style=\"text-align: right;\">\n",
       "      <th></th>\n",
       "      <th>numbers</th>\n",
       "      <th>numbers(t-1)</th>\n",
       "      <th>numbers(t-2)</th>\n",
       "      <th>numbers(t-3)</th>\n",
       "      <th>numbers(t-4)</th>\n",
       "      <th>numbers(t-5)</th>\n",
       "      <th>numbers(t-6)</th>\n",
       "      <th>numbers(t-7)</th>\n",
       "      <th>numbers(t-8)</th>\n",
       "      <th>numbers(t-9)</th>\n",
       "      <th>...</th>\n",
       "      <th>numbers(t-21)</th>\n",
       "      <th>numbers(t-22)</th>\n",
       "      <th>numbers(t-23)</th>\n",
       "      <th>numbers(t-24)</th>\n",
       "      <th>numbers(t-25)</th>\n",
       "      <th>numbers(t-26)</th>\n",
       "      <th>numbers(t-27)</th>\n",
       "      <th>numbers(t-28)</th>\n",
       "      <th>numbers(t-29)</th>\n",
       "      <th>numbers(t-30)</th>\n",
       "    </tr>\n",
       "  </thead>\n",
       "  <tbody>\n",
       "    <tr>\n",
       "      <th>30</th>\n",
       "      <td>13</td>\n",
       "      <td>15.0</td>\n",
       "      <td>36.0</td>\n",
       "      <td>26.0</td>\n",
       "      <td>19.0</td>\n",
       "      <td>8.0</td>\n",
       "      <td>7.0</td>\n",
       "      <td>1.0</td>\n",
       "      <td>51.0</td>\n",
       "      <td>40.0</td>\n",
       "      <td>...</td>\n",
       "      <td>54.0</td>\n",
       "      <td>52.0</td>\n",
       "      <td>22.0</td>\n",
       "      <td>14.0</td>\n",
       "      <td>24.0</td>\n",
       "      <td>52.0</td>\n",
       "      <td>37.0</td>\n",
       "      <td>36.0</td>\n",
       "      <td>22.0</td>\n",
       "      <td>17.0</td>\n",
       "    </tr>\n",
       "    <tr>\n",
       "      <th>31</th>\n",
       "      <td>27</td>\n",
       "      <td>13.0</td>\n",
       "      <td>15.0</td>\n",
       "      <td>36.0</td>\n",
       "      <td>26.0</td>\n",
       "      <td>19.0</td>\n",
       "      <td>8.0</td>\n",
       "      <td>7.0</td>\n",
       "      <td>1.0</td>\n",
       "      <td>51.0</td>\n",
       "      <td>...</td>\n",
       "      <td>59.0</td>\n",
       "      <td>54.0</td>\n",
       "      <td>52.0</td>\n",
       "      <td>22.0</td>\n",
       "      <td>14.0</td>\n",
       "      <td>24.0</td>\n",
       "      <td>52.0</td>\n",
       "      <td>37.0</td>\n",
       "      <td>36.0</td>\n",
       "      <td>22.0</td>\n",
       "    </tr>\n",
       "    <tr>\n",
       "      <th>32</th>\n",
       "      <td>37</td>\n",
       "      <td>27.0</td>\n",
       "      <td>13.0</td>\n",
       "      <td>15.0</td>\n",
       "      <td>36.0</td>\n",
       "      <td>26.0</td>\n",
       "      <td>19.0</td>\n",
       "      <td>8.0</td>\n",
       "      <td>7.0</td>\n",
       "      <td>1.0</td>\n",
       "      <td>...</td>\n",
       "      <td>4.0</td>\n",
       "      <td>59.0</td>\n",
       "      <td>54.0</td>\n",
       "      <td>52.0</td>\n",
       "      <td>22.0</td>\n",
       "      <td>14.0</td>\n",
       "      <td>24.0</td>\n",
       "      <td>52.0</td>\n",
       "      <td>37.0</td>\n",
       "      <td>36.0</td>\n",
       "    </tr>\n",
       "    <tr>\n",
       "      <th>33</th>\n",
       "      <td>41</td>\n",
       "      <td>37.0</td>\n",
       "      <td>27.0</td>\n",
       "      <td>13.0</td>\n",
       "      <td>15.0</td>\n",
       "      <td>36.0</td>\n",
       "      <td>26.0</td>\n",
       "      <td>19.0</td>\n",
       "      <td>8.0</td>\n",
       "      <td>7.0</td>\n",
       "      <td>...</td>\n",
       "      <td>5.0</td>\n",
       "      <td>4.0</td>\n",
       "      <td>59.0</td>\n",
       "      <td>54.0</td>\n",
       "      <td>52.0</td>\n",
       "      <td>22.0</td>\n",
       "      <td>14.0</td>\n",
       "      <td>24.0</td>\n",
       "      <td>52.0</td>\n",
       "      <td>37.0</td>\n",
       "    </tr>\n",
       "    <tr>\n",
       "      <th>34</th>\n",
       "      <td>54</td>\n",
       "      <td>41.0</td>\n",
       "      <td>37.0</td>\n",
       "      <td>27.0</td>\n",
       "      <td>13.0</td>\n",
       "      <td>15.0</td>\n",
       "      <td>36.0</td>\n",
       "      <td>26.0</td>\n",
       "      <td>19.0</td>\n",
       "      <td>8.0</td>\n",
       "      <td>...</td>\n",
       "      <td>8.0</td>\n",
       "      <td>5.0</td>\n",
       "      <td>4.0</td>\n",
       "      <td>59.0</td>\n",
       "      <td>54.0</td>\n",
       "      <td>52.0</td>\n",
       "      <td>22.0</td>\n",
       "      <td>14.0</td>\n",
       "      <td>24.0</td>\n",
       "      <td>52.0</td>\n",
       "    </tr>\n",
       "  </tbody>\n",
       "</table>\n",
       "<p>5 rows × 31 columns</p>\n",
       "</div>"
      ],
      "text/plain": [
       "    numbers  numbers(t-1)  numbers(t-2)  numbers(t-3)  numbers(t-4)  \\\n",
       "30       13          15.0          36.0          26.0          19.0   \n",
       "31       27          13.0          15.0          36.0          26.0   \n",
       "32       37          27.0          13.0          15.0          36.0   \n",
       "33       41          37.0          27.0          13.0          15.0   \n",
       "34       54          41.0          37.0          27.0          13.0   \n",
       "\n",
       "    numbers(t-5)  numbers(t-6)  numbers(t-7)  numbers(t-8)  numbers(t-9)  ...  \\\n",
       "30           8.0           7.0           1.0          51.0          40.0  ...   \n",
       "31          19.0           8.0           7.0           1.0          51.0  ...   \n",
       "32          26.0          19.0           8.0           7.0           1.0  ...   \n",
       "33          36.0          26.0          19.0           8.0           7.0  ...   \n",
       "34          15.0          36.0          26.0          19.0           8.0  ...   \n",
       "\n",
       "    numbers(t-21)  numbers(t-22)  numbers(t-23)  numbers(t-24)  numbers(t-25)  \\\n",
       "30           54.0           52.0           22.0           14.0           24.0   \n",
       "31           59.0           54.0           52.0           22.0           14.0   \n",
       "32            4.0           59.0           54.0           52.0           22.0   \n",
       "33            5.0            4.0           59.0           54.0           52.0   \n",
       "34            8.0            5.0            4.0           59.0           54.0   \n",
       "\n",
       "    numbers(t-26)  numbers(t-27)  numbers(t-28)  numbers(t-29)  numbers(t-30)  \n",
       "30           52.0           37.0           36.0           22.0           17.0  \n",
       "31           24.0           52.0           37.0           36.0           22.0  \n",
       "32           14.0           24.0           52.0           37.0           36.0  \n",
       "33           22.0           14.0           24.0           52.0           37.0  \n",
       "34           52.0           22.0           14.0           24.0           52.0  \n",
       "\n",
       "[5 rows x 31 columns]"
      ]
     },
     "execution_count": 9,
     "metadata": {},
     "output_type": "execute_result"
    }
   ],
   "source": [
    "# build lookback for lstm training\n",
    "def prepare_dataframe_for_lstm(data, n_steps):\n",
    "    data = dc(data)\n",
    "    \n",
    "    for i in range(1, n_steps+1):\n",
    "        data[f'numbers(t-{i})'] = data['numbers'].shift(i)\n",
    "        \n",
    "    data.dropna(inplace=True)\n",
    "    \n",
    "    return data\n",
    "\n",
    "shifted_df = prepare_dataframe_for_lstm(numbers_df, lookback)\n",
    "\n",
    "shifted_df.head()"
   ]
  },
  {
   "cell_type": "code",
   "execution_count": 10,
   "id": "2d54a71a",
   "metadata": {},
   "outputs": [
    {
     "data": {
      "text/html": [
       "<div>\n",
       "<style scoped>\n",
       "    .dataframe tbody tr th:only-of-type {\n",
       "        vertical-align: middle;\n",
       "    }\n",
       "\n",
       "    .dataframe tbody tr th {\n",
       "        vertical-align: top;\n",
       "    }\n",
       "\n",
       "    .dataframe thead th {\n",
       "        text-align: right;\n",
       "    }\n",
       "</style>\n",
       "<table border=\"1\" class=\"dataframe\">\n",
       "  <thead>\n",
       "    <tr style=\"text-align: right;\">\n",
       "      <th></th>\n",
       "      <th>numbers</th>\n",
       "      <th>numbers(t-1)</th>\n",
       "      <th>numbers(t-2)</th>\n",
       "      <th>numbers(t-3)</th>\n",
       "      <th>numbers(t-4)</th>\n",
       "      <th>numbers(t-5)</th>\n",
       "      <th>numbers(t-6)</th>\n",
       "      <th>numbers(t-7)</th>\n",
       "      <th>numbers(t-8)</th>\n",
       "      <th>numbers(t-9)</th>\n",
       "      <th>...</th>\n",
       "      <th>numbers(t-21)</th>\n",
       "      <th>numbers(t-22)</th>\n",
       "      <th>numbers(t-23)</th>\n",
       "      <th>numbers(t-24)</th>\n",
       "      <th>numbers(t-25)</th>\n",
       "      <th>numbers(t-26)</th>\n",
       "      <th>numbers(t-27)</th>\n",
       "      <th>numbers(t-28)</th>\n",
       "      <th>numbers(t-29)</th>\n",
       "      <th>numbers(t-30)</th>\n",
       "    </tr>\n",
       "  </thead>\n",
       "  <tbody>\n",
       "    <tr>\n",
       "      <th>30</th>\n",
       "      <td>13</td>\n",
       "      <td>15</td>\n",
       "      <td>36</td>\n",
       "      <td>26</td>\n",
       "      <td>19</td>\n",
       "      <td>8</td>\n",
       "      <td>7</td>\n",
       "      <td>1</td>\n",
       "      <td>51</td>\n",
       "      <td>40</td>\n",
       "      <td>...</td>\n",
       "      <td>54</td>\n",
       "      <td>52</td>\n",
       "      <td>22</td>\n",
       "      <td>14</td>\n",
       "      <td>24</td>\n",
       "      <td>52</td>\n",
       "      <td>37</td>\n",
       "      <td>36</td>\n",
       "      <td>22</td>\n",
       "      <td>17</td>\n",
       "    </tr>\n",
       "    <tr>\n",
       "      <th>31</th>\n",
       "      <td>27</td>\n",
       "      <td>13</td>\n",
       "      <td>15</td>\n",
       "      <td>36</td>\n",
       "      <td>26</td>\n",
       "      <td>19</td>\n",
       "      <td>8</td>\n",
       "      <td>7</td>\n",
       "      <td>1</td>\n",
       "      <td>51</td>\n",
       "      <td>...</td>\n",
       "      <td>59</td>\n",
       "      <td>54</td>\n",
       "      <td>52</td>\n",
       "      <td>22</td>\n",
       "      <td>14</td>\n",
       "      <td>24</td>\n",
       "      <td>52</td>\n",
       "      <td>37</td>\n",
       "      <td>36</td>\n",
       "      <td>22</td>\n",
       "    </tr>\n",
       "    <tr>\n",
       "      <th>32</th>\n",
       "      <td>37</td>\n",
       "      <td>27</td>\n",
       "      <td>13</td>\n",
       "      <td>15</td>\n",
       "      <td>36</td>\n",
       "      <td>26</td>\n",
       "      <td>19</td>\n",
       "      <td>8</td>\n",
       "      <td>7</td>\n",
       "      <td>1</td>\n",
       "      <td>...</td>\n",
       "      <td>4</td>\n",
       "      <td>59</td>\n",
       "      <td>54</td>\n",
       "      <td>52</td>\n",
       "      <td>22</td>\n",
       "      <td>14</td>\n",
       "      <td>24</td>\n",
       "      <td>52</td>\n",
       "      <td>37</td>\n",
       "      <td>36</td>\n",
       "    </tr>\n",
       "    <tr>\n",
       "      <th>33</th>\n",
       "      <td>41</td>\n",
       "      <td>37</td>\n",
       "      <td>27</td>\n",
       "      <td>13</td>\n",
       "      <td>15</td>\n",
       "      <td>36</td>\n",
       "      <td>26</td>\n",
       "      <td>19</td>\n",
       "      <td>8</td>\n",
       "      <td>7</td>\n",
       "      <td>...</td>\n",
       "      <td>5</td>\n",
       "      <td>4</td>\n",
       "      <td>59</td>\n",
       "      <td>54</td>\n",
       "      <td>52</td>\n",
       "      <td>22</td>\n",
       "      <td>14</td>\n",
       "      <td>24</td>\n",
       "      <td>52</td>\n",
       "      <td>37</td>\n",
       "    </tr>\n",
       "    <tr>\n",
       "      <th>34</th>\n",
       "      <td>54</td>\n",
       "      <td>41</td>\n",
       "      <td>37</td>\n",
       "      <td>27</td>\n",
       "      <td>13</td>\n",
       "      <td>15</td>\n",
       "      <td>36</td>\n",
       "      <td>26</td>\n",
       "      <td>19</td>\n",
       "      <td>8</td>\n",
       "      <td>...</td>\n",
       "      <td>8</td>\n",
       "      <td>5</td>\n",
       "      <td>4</td>\n",
       "      <td>59</td>\n",
       "      <td>54</td>\n",
       "      <td>52</td>\n",
       "      <td>22</td>\n",
       "      <td>14</td>\n",
       "      <td>24</td>\n",
       "      <td>52</td>\n",
       "    </tr>\n",
       "  </tbody>\n",
       "</table>\n",
       "<p>5 rows × 31 columns</p>\n",
       "</div>"
      ],
      "text/plain": [
       "    numbers  numbers(t-1)  numbers(t-2)  numbers(t-3)  numbers(t-4)  \\\n",
       "30       13            15            36            26            19   \n",
       "31       27            13            15            36            26   \n",
       "32       37            27            13            15            36   \n",
       "33       41            37            27            13            15   \n",
       "34       54            41            37            27            13   \n",
       "\n",
       "    numbers(t-5)  numbers(t-6)  numbers(t-7)  numbers(t-8)  numbers(t-9)  ...  \\\n",
       "30             8             7             1            51            40  ...   \n",
       "31            19             8             7             1            51  ...   \n",
       "32            26            19             8             7             1  ...   \n",
       "33            36            26            19             8             7  ...   \n",
       "34            15            36            26            19             8  ...   \n",
       "\n",
       "    numbers(t-21)  numbers(t-22)  numbers(t-23)  numbers(t-24)  numbers(t-25)  \\\n",
       "30             54             52             22             14             24   \n",
       "31             59             54             52             22             14   \n",
       "32              4             59             54             52             22   \n",
       "33              5              4             59             54             52   \n",
       "34              8              5              4             59             54   \n",
       "\n",
       "    numbers(t-26)  numbers(t-27)  numbers(t-28)  numbers(t-29)  numbers(t-30)  \n",
       "30             52             37             36             22             17  \n",
       "31             24             52             37             36             22  \n",
       "32             14             24             52             37             36  \n",
       "33             22             14             24             52             37  \n",
       "34             52             22             14             24             52  \n",
       "\n",
       "[5 rows x 31 columns]"
      ]
     },
     "execution_count": 10,
     "metadata": {},
     "output_type": "execute_result"
    }
   ],
   "source": [
    "shifted_df = shifted_df.astype(int)\n",
    "\n",
    "shifted_df.head()"
   ]
  },
  {
   "cell_type": "code",
   "execution_count": 11,
   "id": "aed0cc8d",
   "metadata": {},
   "outputs": [
    {
     "data": {
      "text/plain": [
       "((9168, 30), (9168,), (9168,))"
      ]
     },
     "execution_count": 11,
     "metadata": {},
     "output_type": "execute_result"
    }
   ],
   "source": [
    "from sklearn.preprocessing import StandardScaler\n",
    "\n",
    "# name date column from new index (since start date is absorbed into first x windows)\n",
    "dates = shifted_df.index\n",
    "\n",
    "#convert from df to numpy array\n",
    "shifted_df_as_np = shifted_df.to_numpy()\n",
    "\n",
    "#Scale data\n",
    "# log_transformed_data = np.log(shifted_df_as_np)\n",
    "# scaler = StandardScaler()\n",
    "\n",
    "# scaled_data = scaler.fit_transform(shifted_df_as_np)\n",
    "\n",
    "\n",
    "# split reference from deatures\n",
    "X1 = shifted_df_as_np[:, 1:]\n",
    "y1 = shifted_df_as_np[:, 0]\n",
    "\n",
    "#flip order of windows (needs to start with most recent)\n",
    "\n",
    "X1 = dc(np.flip(X1, axis=1))\n",
    "X1\n",
    "\n",
    "\n",
    "X1.shape, y1.shape, dates.shape\n"
   ]
  },
  {
   "cell_type": "code",
   "execution_count": 12,
   "id": "aa584493",
   "metadata": {
    "scrolled": true
   },
   "outputs": [
    {
     "data": {
      "text/plain": [
       "((7334, 30), (7334,), (917, 30), (917,), (917, 30), (917,))"
      ]
     },
     "execution_count": 12,
     "metadata": {},
     "output_type": "execute_result"
    }
   ],
   "source": [
    "#Calculate split points based on previously defined variables\n",
    "train_split = int(len(X1) * split_1)\n",
    "test_split = int(len(X1) * split_2)\n",
    "\n",
    "#Define spilt points for train/val/test\n",
    "dates_train1, X_train1, y_train1 = dates[:train_split],X1[:train_split], y1[:train_split]\n",
    "dates_val1, X_val1, y_val1 = dates[train_split:test_split], X1[train_split:test_split], y1[train_split:test_split]\n",
    "dates_test1, X_test1, y_test1 = dates[test_split:], X1[test_split:], y1[test_split:]\n",
    "X_train1.shape, y_train1.shape, X_val1.shape, y_val1.shape, X_test1.shape, y_test1.shape"
   ]
  },
  {
   "cell_type": "code",
   "execution_count": 14,
   "id": "732ba944",
   "metadata": {},
   "outputs": [
    {
     "name": "stdout",
     "output_type": "stream",
     "text": [
      "Epoch 1/100\n",
      "230/230 [==============================] - 6s 18ms/step - loss: 248.7023 - mean_absolute_error: 12.4119 - val_loss: 91.5674 - val_mean_absolute_error: 7.4886\n",
      "Epoch 2/100\n",
      "230/230 [==============================] - 4s 17ms/step - loss: 92.8161 - mean_absolute_error: 7.6148 - val_loss: 73.7157 - val_mean_absolute_error: 6.9230\n",
      "Epoch 3/100\n",
      "230/230 [==============================] - 4s 16ms/step - loss: 80.0922 - mean_absolute_error: 7.1275 - val_loss: 78.5143 - val_mean_absolute_error: 6.9340\n",
      "Epoch 4/100\n",
      "230/230 [==============================] - 4s 16ms/step - loss: 80.2153 - mean_absolute_error: 7.1475 - val_loss: 74.6969 - val_mean_absolute_error: 6.5837\n",
      "Epoch 5/100\n",
      "230/230 [==============================] - 4s 18ms/step - loss: 155.4261 - mean_absolute_error: 9.6500 - val_loss: 95.4153 - val_mean_absolute_error: 7.4648\n",
      "Epoch 6/100\n",
      "230/230 [==============================] - 4s 16ms/step - loss: 84.9081 - mean_absolute_error: 7.3134 - val_loss: 88.8279 - val_mean_absolute_error: 7.3880\n",
      "Epoch 7/100\n",
      "230/230 [==============================] - 4s 17ms/step - loss: 81.5469 - mean_absolute_error: 7.1873 - val_loss: 81.2962 - val_mean_absolute_error: 7.1020\n",
      "Epoch 8/100\n",
      "230/230 [==============================] - 4s 17ms/step - loss: 94.1462 - mean_absolute_error: 7.5947 - val_loss: 219.9252 - val_mean_absolute_error: 11.4921\n",
      "Epoch 9/100\n",
      "230/230 [==============================] - 4s 17ms/step - loss: 97.1270 - mean_absolute_error: 7.7272 - val_loss: 74.9551 - val_mean_absolute_error: 6.8502\n",
      "Epoch 10/100\n",
      "230/230 [==============================] - 4s 17ms/step - loss: 79.0252 - mean_absolute_error: 7.0856 - val_loss: 82.1345 - val_mean_absolute_error: 7.1504\n",
      "Epoch 11/100\n",
      "230/230 [==============================] - 4s 17ms/step - loss: 80.4293 - mean_absolute_error: 7.1560 - val_loss: 77.4733 - val_mean_absolute_error: 6.8797\n",
      "Epoch 12/100\n",
      "230/230 [==============================] - 4s 17ms/step - loss: 104.9165 - mean_absolute_error: 7.9726 - val_loss: 165.7909 - val_mean_absolute_error: 10.0386\n",
      "Epoch 13/100\n",
      "230/230 [==============================] - 4s 17ms/step - loss: 93.7650 - mean_absolute_error: 7.6913 - val_loss: 79.4430 - val_mean_absolute_error: 6.9959\n",
      "Epoch 14/100\n",
      "230/230 [==============================] - 4s 19ms/step - loss: 85.7741 - mean_absolute_error: 7.3869 - val_loss: 73.5579 - val_mean_absolute_error: 6.7105\n",
      "Epoch 15/100\n",
      "230/230 [==============================] - 4s 17ms/step - loss: 81.2914 - mean_absolute_error: 7.1726 - val_loss: 76.9433 - val_mean_absolute_error: 6.9549\n",
      "Epoch 16/100\n",
      "230/230 [==============================] - 5s 23ms/step - loss: 79.2058 - mean_absolute_error: 7.0984 - val_loss: 73.2431 - val_mean_absolute_error: 6.8437\n",
      "Epoch 17/100\n",
      "230/230 [==============================] - 5s 20ms/step - loss: 78.9869 - mean_absolute_error: 7.1009 - val_loss: 75.9742 - val_mean_absolute_error: 6.8085\n",
      "Epoch 18/100\n",
      "230/230 [==============================] - 4s 19ms/step - loss: 77.2236 - mean_absolute_error: 6.9982 - val_loss: 75.5683 - val_mean_absolute_error: 6.8599\n",
      "Epoch 19/100\n",
      "230/230 [==============================] - 4s 16ms/step - loss: 77.5069 - mean_absolute_error: 7.0124 - val_loss: 75.1448 - val_mean_absolute_error: 6.9641\n",
      "Epoch 20/100\n",
      "230/230 [==============================] - 4s 18ms/step - loss: 77.8929 - mean_absolute_error: 7.0381 - val_loss: 77.2707 - val_mean_absolute_error: 6.9510\n",
      "Epoch 21/100\n",
      "230/230 [==============================] - 4s 16ms/step - loss: 76.7298 - mean_absolute_error: 6.9736 - val_loss: 74.3058 - val_mean_absolute_error: 6.6533\n",
      "Epoch 22/100\n",
      "230/230 [==============================] - 4s 16ms/step - loss: 75.9325 - mean_absolute_error: 6.9378 - val_loss: 76.2825 - val_mean_absolute_error: 7.0926\n",
      "Epoch 23/100\n",
      "230/230 [==============================] - 4s 16ms/step - loss: 75.7788 - mean_absolute_error: 6.9312 - val_loss: 80.3430 - val_mean_absolute_error: 7.0069\n",
      "Epoch 24/100\n",
      "230/230 [==============================] - 4s 16ms/step - loss: 77.0096 - mean_absolute_error: 6.9831 - val_loss: 77.1618 - val_mean_absolute_error: 6.7925\n",
      "Epoch 25/100\n",
      "230/230 [==============================] - 4s 16ms/step - loss: 75.8709 - mean_absolute_error: 6.9381 - val_loss: 82.6908 - val_mean_absolute_error: 6.9559\n",
      "Epoch 26/100\n",
      "230/230 [==============================] - 4s 16ms/step - loss: 80.9592 - mean_absolute_error: 7.1259 - val_loss: 80.2169 - val_mean_absolute_error: 6.9711\n",
      "Epoch 27/100\n",
      "230/230 [==============================] - 4s 16ms/step - loss: 77.3006 - mean_absolute_error: 7.0089 - val_loss: 73.8591 - val_mean_absolute_error: 6.8603\n",
      "Epoch 28/100\n",
      "230/230 [==============================] - 4s 16ms/step - loss: 75.6093 - mean_absolute_error: 6.9180 - val_loss: 78.1097 - val_mean_absolute_error: 6.9273\n",
      "Epoch 29/100\n",
      "230/230 [==============================] - 4s 16ms/step - loss: 75.5499 - mean_absolute_error: 6.9217 - val_loss: 80.5144 - val_mean_absolute_error: 6.8036\n",
      "Epoch 30/100\n",
      "230/230 [==============================] - 4s 16ms/step - loss: 76.4526 - mean_absolute_error: 6.9591 - val_loss: 72.5604 - val_mean_absolute_error: 6.8242\n",
      "Epoch 31/100\n",
      "230/230 [==============================] - 4s 16ms/step - loss: 76.4851 - mean_absolute_error: 6.9606 - val_loss: 77.0227 - val_mean_absolute_error: 6.6558\n",
      "Epoch 32/100\n",
      "230/230 [==============================] - 4s 16ms/step - loss: 76.2045 - mean_absolute_error: 6.9210 - val_loss: 80.8769 - val_mean_absolute_error: 7.0481\n",
      "Epoch 33/100\n",
      "230/230 [==============================] - 4s 16ms/step - loss: 75.5823 - mean_absolute_error: 6.9011 - val_loss: 73.9466 - val_mean_absolute_error: 6.7732\n",
      "Epoch 34/100\n",
      "230/230 [==============================] - 4s 16ms/step - loss: 77.0382 - mean_absolute_error: 6.9444 - val_loss: 83.7281 - val_mean_absolute_error: 7.1605\n",
      "Epoch 35/100\n",
      "230/230 [==============================] - 4s 16ms/step - loss: 77.7844 - mean_absolute_error: 7.0386 - val_loss: 70.7201 - val_mean_absolute_error: 6.6078\n",
      "Epoch 36/100\n",
      "230/230 [==============================] - 4s 16ms/step - loss: 76.4228 - mean_absolute_error: 6.9379 - val_loss: 77.6911 - val_mean_absolute_error: 6.8799\n",
      "Epoch 37/100\n",
      "230/230 [==============================] - 4s 16ms/step - loss: 76.3632 - mean_absolute_error: 6.9432 - val_loss: 71.4094 - val_mean_absolute_error: 6.6371\n",
      "Epoch 38/100\n",
      "230/230 [==============================] - 4s 16ms/step - loss: 75.9333 - mean_absolute_error: 6.9225 - val_loss: 76.0287 - val_mean_absolute_error: 6.8923\n",
      "Epoch 39/100\n",
      "230/230 [==============================] - 4s 16ms/step - loss: 76.0003 - mean_absolute_error: 6.9153 - val_loss: 71.9408 - val_mean_absolute_error: 6.5857\n",
      "Epoch 40/100\n",
      "230/230 [==============================] - 4s 16ms/step - loss: 77.4534 - mean_absolute_error: 6.9863 - val_loss: 73.6791 - val_mean_absolute_error: 6.8251\n",
      "Epoch 41/100\n",
      "230/230 [==============================] - 4s 16ms/step - loss: 80.0390 - mean_absolute_error: 7.0893 - val_loss: 78.0502 - val_mean_absolute_error: 6.8765\n",
      "Epoch 42/100\n",
      "230/230 [==============================] - 4s 16ms/step - loss: 78.0985 - mean_absolute_error: 7.0172 - val_loss: 215.6084 - val_mean_absolute_error: 10.5480\n",
      "Epoch 43/100\n",
      "230/230 [==============================] - 4s 17ms/step - loss: 83.9391 - mean_absolute_error: 7.2486 - val_loss: 75.7914 - val_mean_absolute_error: 7.0301\n",
      "Epoch 44/100\n",
      "230/230 [==============================] - 4s 16ms/step - loss: 76.5756 - mean_absolute_error: 6.9635 - val_loss: 73.5611 - val_mean_absolute_error: 6.8281\n",
      "Epoch 45/100\n",
      "230/230 [==============================] - 4s 16ms/step - loss: 76.2265 - mean_absolute_error: 6.9627 - val_loss: 72.4212 - val_mean_absolute_error: 6.7091\n",
      "Epoch 46/100\n",
      "230/230 [==============================] - 4s 16ms/step - loss: 76.2224 - mean_absolute_error: 6.9528 - val_loss: 78.6037 - val_mean_absolute_error: 6.8186\n",
      "Epoch 47/100\n",
      "230/230 [==============================] - 4s 16ms/step - loss: 75.4543 - mean_absolute_error: 6.9063 - val_loss: 82.1750 - val_mean_absolute_error: 7.0382\n",
      "Epoch 48/100\n",
      "230/230 [==============================] - 4s 16ms/step - loss: 75.1399 - mean_absolute_error: 6.8877 - val_loss: 72.7552 - val_mean_absolute_error: 6.7464\n",
      "Epoch 49/100\n",
      "230/230 [==============================] - 4s 16ms/step - loss: 75.4657 - mean_absolute_error: 6.8782 - val_loss: 73.6514 - val_mean_absolute_error: 6.6562\n",
      "Epoch 50/100\n",
      "230/230 [==============================] - 4s 16ms/step - loss: 76.5654 - mean_absolute_error: 6.9537 - val_loss: 76.2714 - val_mean_absolute_error: 6.8194\n",
      "Epoch 51/100\n",
      "230/230 [==============================] - 4s 16ms/step - loss: 97.3152 - mean_absolute_error: 7.6079 - val_loss: 262.9422 - val_mean_absolute_error: 12.9464\n",
      "Epoch 52/100\n",
      "230/230 [==============================] - 4s 16ms/step - loss: 226.7854 - mean_absolute_error: 11.9469 - val_loss: 223.3217 - val_mean_absolute_error: 11.9179\n",
      "Epoch 53/100\n",
      "230/230 [==============================] - 4s 16ms/step - loss: 137.6827 - mean_absolute_error: 8.9669 - val_loss: 90.5335 - val_mean_absolute_error: 7.5124\n",
      "Epoch 54/100\n",
      "230/230 [==============================] - 4s 16ms/step - loss: 81.1656 - mean_absolute_error: 7.1542 - val_loss: 80.6656 - val_mean_absolute_error: 6.9791\n",
      "Epoch 55/100\n",
      "230/230 [==============================] - 4s 16ms/step - loss: 77.3233 - mean_absolute_error: 6.9812 - val_loss: 75.2489 - val_mean_absolute_error: 6.7249\n",
      "Epoch 56/100\n",
      "230/230 [==============================] - 4s 16ms/step - loss: 76.4288 - mean_absolute_error: 6.9755 - val_loss: 76.1186 - val_mean_absolute_error: 6.6989\n",
      "Epoch 57/100\n",
      "230/230 [==============================] - 4s 16ms/step - loss: 75.7646 - mean_absolute_error: 6.9086 - val_loss: 74.6065 - val_mean_absolute_error: 6.7660\n",
      "Epoch 58/100\n",
      "230/230 [==============================] - 4s 16ms/step - loss: 75.3045 - mean_absolute_error: 6.8931 - val_loss: 75.2933 - val_mean_absolute_error: 6.7713\n",
      "Epoch 59/100\n",
      "230/230 [==============================] - 4s 16ms/step - loss: 75.9570 - mean_absolute_error: 6.9131 - val_loss: 77.4638 - val_mean_absolute_error: 6.8520\n",
      "Epoch 60/100\n",
      "230/230 [==============================] - 4s 16ms/step - loss: 76.5586 - mean_absolute_error: 6.9433 - val_loss: 73.9101 - val_mean_absolute_error: 6.8096\n",
      "Epoch 61/100\n",
      "230/230 [==============================] - 4s 16ms/step - loss: 76.1907 - mean_absolute_error: 6.9473 - val_loss: 74.5635 - val_mean_absolute_error: 6.7486\n",
      "Epoch 62/100\n",
      "230/230 [==============================] - 4s 16ms/step - loss: 74.8893 - mean_absolute_error: 6.8747 - val_loss: 80.5086 - val_mean_absolute_error: 7.0476\n",
      "Epoch 63/100\n",
      "230/230 [==============================] - 4s 16ms/step - loss: 75.4374 - mean_absolute_error: 6.9007 - val_loss: 73.5332 - val_mean_absolute_error: 6.6940\n",
      "Epoch 64/100\n",
      "230/230 [==============================] - 4s 16ms/step - loss: 129.7683 - mean_absolute_error: 8.6795 - val_loss: 260.4434 - val_mean_absolute_error: 13.2955\n",
      "Epoch 65/100\n",
      "230/230 [==============================] - 4s 16ms/step - loss: 123.2358 - mean_absolute_error: 8.6580 - val_loss: 90.3358 - val_mean_absolute_error: 7.2422\n",
      "Epoch 66/100\n",
      "230/230 [==============================] - 4s 17ms/step - loss: 85.3710 - mean_absolute_error: 7.3070 - val_loss: 77.4234 - val_mean_absolute_error: 6.9493\n",
      "Epoch 67/100\n",
      "230/230 [==============================] - 4s 16ms/step - loss: 77.6160 - mean_absolute_error: 7.0167 - val_loss: 82.2460 - val_mean_absolute_error: 7.1013\n",
      "Epoch 68/100\n",
      "230/230 [==============================] - 4s 16ms/step - loss: 77.8717 - mean_absolute_error: 7.0030 - val_loss: 74.8650 - val_mean_absolute_error: 6.7801\n",
      "Epoch 69/100\n",
      "230/230 [==============================] - 4s 16ms/step - loss: 75.8735 - mean_absolute_error: 6.9166 - val_loss: 75.0919 - val_mean_absolute_error: 6.7405\n",
      "Epoch 70/100\n",
      "230/230 [==============================] - 4s 16ms/step - loss: 75.9836 - mean_absolute_error: 6.9182 - val_loss: 75.8907 - val_mean_absolute_error: 6.8273\n",
      "Epoch 71/100\n",
      "230/230 [==============================] - 4s 16ms/step - loss: 75.6362 - mean_absolute_error: 6.9051 - val_loss: 81.1067 - val_mean_absolute_error: 7.0177\n",
      "Epoch 72/100\n",
      "230/230 [==============================] - 4s 16ms/step - loss: 75.2678 - mean_absolute_error: 6.8735 - val_loss: 73.5682 - val_mean_absolute_error: 6.7001\n",
      "Epoch 73/100\n",
      "230/230 [==============================] - 4s 16ms/step - loss: 75.4814 - mean_absolute_error: 6.8841 - val_loss: 73.9632 - val_mean_absolute_error: 6.7461\n",
      "Epoch 74/100\n",
      "230/230 [==============================] - 4s 16ms/step - loss: 75.0889 - mean_absolute_error: 6.8930 - val_loss: 78.7746 - val_mean_absolute_error: 6.7877\n",
      "Epoch 75/100\n",
      "230/230 [==============================] - 4s 16ms/step - loss: 80.9189 - mean_absolute_error: 7.0896 - val_loss: 75.0412 - val_mean_absolute_error: 6.7976\n",
      "Epoch 76/100\n",
      "230/230 [==============================] - 4s 16ms/step - loss: 75.2167 - mean_absolute_error: 6.8894 - val_loss: 73.8521 - val_mean_absolute_error: 6.7503\n",
      "Epoch 77/100\n",
      "230/230 [==============================] - 4s 16ms/step - loss: 74.5256 - mean_absolute_error: 6.8370 - val_loss: 73.9685 - val_mean_absolute_error: 6.7045\n",
      "Epoch 78/100\n",
      "230/230 [==============================] - 4s 16ms/step - loss: 75.0442 - mean_absolute_error: 6.8497 - val_loss: 73.1692 - val_mean_absolute_error: 6.7275\n",
      "Epoch 79/100\n",
      "230/230 [==============================] - 4s 17ms/step - loss: 74.5838 - mean_absolute_error: 6.8352 - val_loss: 74.4078 - val_mean_absolute_error: 6.8118\n",
      "Epoch 80/100\n",
      "230/230 [==============================] - 4s 18ms/step - loss: 74.3588 - mean_absolute_error: 6.8372 - val_loss: 84.6941 - val_mean_absolute_error: 7.0693\n",
      "Epoch 81/100\n",
      "230/230 [==============================] - 4s 16ms/step - loss: 76.8001 - mean_absolute_error: 6.9527 - val_loss: 75.8675 - val_mean_absolute_error: 6.9072\n",
      "Epoch 82/100\n",
      "230/230 [==============================] - 4s 16ms/step - loss: 83.3900 - mean_absolute_error: 7.1918 - val_loss: 86.4046 - val_mean_absolute_error: 7.3010\n",
      "Epoch 83/100\n",
      "230/230 [==============================] - 4s 16ms/step - loss: 75.6820 - mean_absolute_error: 6.9061 - val_loss: 75.1764 - val_mean_absolute_error: 7.0053\n",
      "Epoch 84/100\n",
      "230/230 [==============================] - 4s 16ms/step - loss: 75.0666 - mean_absolute_error: 6.8738 - val_loss: 72.0770 - val_mean_absolute_error: 6.7448\n",
      "Epoch 85/100\n",
      "230/230 [==============================] - 4s 16ms/step - loss: 74.5608 - mean_absolute_error: 6.8442 - val_loss: 72.3740 - val_mean_absolute_error: 6.7080\n",
      "Epoch 86/100\n",
      "230/230 [==============================] - 4s 16ms/step - loss: 74.5360 - mean_absolute_error: 6.8540 - val_loss: 72.4424 - val_mean_absolute_error: 6.6841\n",
      "Epoch 87/100\n",
      "230/230 [==============================] - 4s 16ms/step - loss: 74.5668 - mean_absolute_error: 6.8691 - val_loss: 73.8001 - val_mean_absolute_error: 6.9007\n",
      "Epoch 88/100\n",
      "230/230 [==============================] - 4s 16ms/step - loss: 75.1154 - mean_absolute_error: 6.8745 - val_loss: 75.9113 - val_mean_absolute_error: 7.0078\n",
      "Epoch 89/100\n",
      "230/230 [==============================] - 4s 16ms/step - loss: 74.4952 - mean_absolute_error: 6.8492 - val_loss: 72.5382 - val_mean_absolute_error: 6.6597\n",
      "Epoch 90/100\n",
      "230/230 [==============================] - 4s 16ms/step - loss: 74.1253 - mean_absolute_error: 6.8304 - val_loss: 74.4002 - val_mean_absolute_error: 6.7749\n",
      "Epoch 91/100\n",
      "230/230 [==============================] - 4s 16ms/step - loss: 75.2947 - mean_absolute_error: 6.8996 - val_loss: 80.4752 - val_mean_absolute_error: 7.0311\n",
      "Epoch 92/100\n",
      "230/230 [==============================] - 4s 16ms/step - loss: 74.6506 - mean_absolute_error: 6.8547 - val_loss: 75.1649 - val_mean_absolute_error: 6.8201\n",
      "Epoch 93/100\n",
      "230/230 [==============================] - 4s 16ms/step - loss: 75.4865 - mean_absolute_error: 6.8895 - val_loss: 76.9139 - val_mean_absolute_error: 6.7794\n",
      "Epoch 94/100\n",
      "230/230 [==============================] - 4s 16ms/step - loss: 74.4587 - mean_absolute_error: 6.8602 - val_loss: 76.7271 - val_mean_absolute_error: 6.7506\n",
      "Epoch 95/100\n",
      "230/230 [==============================] - 4s 16ms/step - loss: 74.6111 - mean_absolute_error: 6.8459 - val_loss: 78.3835 - val_mean_absolute_error: 6.7679\n",
      "Epoch 96/100\n",
      "230/230 [==============================] - 4s 16ms/step - loss: 75.6122 - mean_absolute_error: 6.8559 - val_loss: 73.6812 - val_mean_absolute_error: 6.7721\n",
      "Epoch 97/100\n"
     ]
    },
    {
     "name": "stdout",
     "output_type": "stream",
     "text": [
      "230/230 [==============================] - 4s 17ms/step - loss: 74.7115 - mean_absolute_error: 6.8539 - val_loss: 72.8651 - val_mean_absolute_error: 6.7476\n",
      "Epoch 98/100\n",
      "230/230 [==============================] - 4s 16ms/step - loss: 76.2611 - mean_absolute_error: 6.9021 - val_loss: 105.1093 - val_mean_absolute_error: 8.0816\n",
      "Epoch 99/100\n",
      "230/230 [==============================] - 4s 18ms/step - loss: 80.9128 - mean_absolute_error: 7.1205 - val_loss: 86.7635 - val_mean_absolute_error: 7.5113\n",
      "Epoch 100/100\n",
      "230/230 [==============================] - 4s 17ms/step - loss: 79.0653 - mean_absolute_error: 6.9913 - val_loss: 74.6449 - val_mean_absolute_error: 6.7594\n"
     ]
    },
    {
     "data": {
      "text/plain": [
       "<keras.callbacks.History at 0x7ff5ef2942e0>"
      ]
     },
     "execution_count": 14,
     "metadata": {},
     "output_type": "execute_result"
    }
   ],
   "source": [
    "#Build, compile, fit LSTM model\n",
    "\n",
    "model = Sequential([layers.Input((lookback, 1)),\n",
    "                    layers.LSTM(64),\n",
    "                    layers.Dense(64, activation='relu'),\n",
    "                    layers.Dense(64, activation='relu'),\n",
    "                    layers.Dense(1)])\n",
    "\n",
    "model.compile(loss='mse',\n",
    "              optimizer=Adam(learning_rate=0.01),\n",
    "              metrics=['mean_absolute_error'])\n",
    "\n",
    "model.fit(X_train1, y_train1, validation_data=(X_val1, y_val1), epochs=100)"
   ]
  },
  {
   "cell_type": "code",
   "execution_count": 15,
   "id": "51ca424b",
   "metadata": {
    "scrolled": false
   },
   "outputs": [
    {
     "name": "stdout",
     "output_type": "stream",
     "text": [
      "230/230 [==============================] - 2s 6ms/step\n"
     ]
    },
    {
     "data": {
      "text/plain": [
       "<matplotlib.legend.Legend at 0x7ff5effc9330>"
      ]
     },
     "execution_count": 15,
     "metadata": {},
     "output_type": "execute_result"
    },
    {
     "data": {
      "image/png": "[encoded data removed]",
      "text/plain": [
       "<Figure size 640x480 with 1 Axes>"
      ]
     },
     "metadata": {},
     "output_type": "display_data"
    }
   ],
   "source": [
    "# Check training predictions (use np.exp to transform scaled data back to original scale)\n",
    "\n",
    "train_predictions = model.predict(X_train1).flatten()\n",
    "\n",
    "plt.plot(dates_train1, (train_predictions))\n",
    "plt.plot(dates_train1, (y_train1))\n",
    "plt.xticks(rotation=90)\n",
    "plt.legend(['Training Predictions', 'Training Observations'])"
   ]
  },
  {
   "cell_type": "code",
   "execution_count": 16,
   "id": "07b3b236",
   "metadata": {},
   "outputs": [
    {
     "name": "stdout",
     "output_type": "stream",
     "text": [
      "Val loss: 74.6448745727539\n",
      "Val MAE: 6.759397029876709\n"
     ]
    }
   ],
   "source": [
    "# Check scores for val period\n",
    "score = model.evaluate(X_val1, y_val1, verbose = 0) \n",
    "\n",
    "print('Val loss:', score[0]) \n",
    "print('Val MAE:', score[1])"
   ]
  },
  {
   "cell_type": "code",
   "execution_count": 17,
   "id": "6aebf414",
   "metadata": {},
   "outputs": [
    {
     "name": "stdout",
     "output_type": "stream",
     "text": [
      "29/29 [==============================] - 0s 5ms/step\n"
     ]
    },
    {
     "data": {
      "text/plain": [
       "<matplotlib.legend.Legend at 0x7ff5f0c88070>"
      ]
     },
     "execution_count": 17,
     "metadata": {},
     "output_type": "execute_result"
    },
    {
     "data": {
      "image/png": "[encoded data removed]",
      "text/plain": [
       "<Figure size 640x480 with 1 Axes>"
      ]
     },
     "metadata": {},
     "output_type": "display_data"
    }
   ],
   "source": [
    "# graphed performance of val data in model\n",
    "val_predictions = model.predict(X_val1).flatten()\n",
    "\n",
    "plt.plot(dates_val1, (val_predictions))\n",
    "plt.plot(dates_val1, (y_val1))\n",
    "plt.xticks(rotation=90)\n",
    "plt.legend(['Validation Predictions', 'Validation Observations'])"
   ]
  },
  {
   "cell_type": "code",
   "execution_count": 18,
   "id": "7d677f73",
   "metadata": {},
   "outputs": [
    {
     "name": "stdout",
     "output_type": "stream",
     "text": [
      "Test loss: 79.12718963623047\n",
      "Test MAE: 7.0561652183532715\n"
     ]
    }
   ],
   "source": [
    "score = model.evaluate(X_test1, y_test1, verbose = 0) \n",
    "\n",
    "print('Test loss:', score[0]) \n",
    "print('Test MAE:', score[1])"
   ]
  },
  {
   "cell_type": "code",
   "execution_count": 19,
   "id": "07b063e2",
   "metadata": {
    "scrolled": true
   },
   "outputs": [
    {
     "name": "stdout",
     "output_type": "stream",
     "text": [
      "29/29 [==============================] - 0s 5ms/step\n"
     ]
    },
    {
     "data": {
      "text/plain": [
       "<matplotlib.legend.Legend at 0x7ff5f0c8be20>"
      ]
     },
     "execution_count": 19,
     "metadata": {},
     "output_type": "execute_result"
    },
    {
     "data": {
      "image/png": "[encoded data removed]",
      "text/plain": [
       "<Figure size 640x480 with 1 Axes>"
      ]
     },
     "metadata": {},
     "output_type": "display_data"
    }
   ],
   "source": [
    "#check model against test data\n",
    "test_predictions = model.predict(X_test1).flatten()\n",
    "\n",
    "plt.plot(dates_test1[-30:],(test_predictions[-30:]))\n",
    "plt.plot(dates_test1[-30:], (y_test1[-30:]))\n",
    "plt.xticks(rotation=90)\n",
    "plt.legend(['Testing Predictions', 'Testing Observations'])"
   ]
  },
  {
   "cell_type": "code",
   "execution_count": 20,
   "id": "d15ebd95",
   "metadata": {
    "scrolled": true
   },
   "outputs": [
    {
     "name": "stdout",
     "output_type": "stream",
     "text": [
      "R2 Score:  0.8053522048238001\n"
     ]
    }
   ],
   "source": [
    "# Check r2 score\n",
    "print('R2 Score: ', r2_score(y_test1, test_predictions))"
   ]
  },
  {
   "cell_type": "markdown",
   "id": "96ee29fc",
   "metadata": {},
   "source": [
    "## Future Prediction\n",
    "- Attempting to look ahead x days in an attempt to predict upcoming trends"
   ]
  },
  {
   "cell_type": "code",
   "execution_count": 21,
   "id": "2f8f2ce4",
   "metadata": {
    "scrolled": false
   },
   "outputs": [
    {
     "name": "stdout",
     "output_type": "stream",
     "text": [
      "1/1 [==============================] - 0s 423ms/step\n",
      "1/1 [==============================] - 0s 23ms/step\n",
      "1/1 [==============================] - 0s 23ms/step\n",
      "1/1 [==============================] - 0s 23ms/step\n",
      "1/1 [==============================] - 0s 23ms/step\n",
      "1/1 [==============================] - 0s 23ms/step\n",
      "1/1 [==============================] - 0s 23ms/step\n",
      "1/1 [==============================] - 0s 23ms/step\n",
      "1/1 [==============================] - 0s 23ms/step\n",
      "1/1 [==============================] - 0s 26ms/step\n",
      "[14.577711, 52.15395, 47.561558, 63.6004, 66.47827, 14.366613, 54.483967, 51.9789, 63.60156, 66.51072]\n"
     ]
    }
   ],
   "source": [
    "# Initialize an array to store predictions\n",
    "predictions = []\n",
    "predicted_dates = []\n",
    "prediction_range = 10\n",
    "\n",
    "#create list of numbers to add to date based on date range\n",
    "date_range = list(range(1, prediction_range +1))\n",
    "\n",
    "# Use the last n_steps data points from the training set to make predictions\n",
    "current_batch = X_test1[-1]\n",
    "current_reshape = current_batch.reshape((1, lookback, 1))\n",
    "# initial_date = dates_test1[-1]\n",
    "\n",
    "# Generate predictions for 7 days\n",
    "for i in range(prediction_range): # Generate predictions for 7 days\n",
    "    # Predict the next data point\n",
    "    current_pred = model.predict(current_reshape)[0,0]\n",
    "    \n",
    "    # Append the prediction to the list of predictions\n",
    "    predictions.append(current_pred)\n",
    "        \n",
    "\n",
    "    # Update initial input for the next step\n",
    "    updated_batch = np.insert(current_batch, -1, current_pred)\n",
    "    \n",
    "    #resize batch \n",
    "    current_batch = updated_batch[1:]\n",
    "    \n",
    "    #reshape batch\n",
    "    current_reshape = current_batch.reshape((1, lookback, 1))\n",
    "\n",
    "    \n",
    "# for day in date_range:\n",
    "#     new_date = initial_date + dt.timedelta(days=day)\n",
    "#     predicted_dates.append(new_date\n",
    "#                           )\n",
    "# 'predictions' contains 7-day forecast\n",
    "print(predictions)\n",
    "\n",
    "# for date in predicted_dates:\n",
    "#     print(date)"
   ]
  },
  {
   "cell_type": "code",
   "execution_count": 22,
   "id": "9ed93589",
   "metadata": {
    "scrolled": true
   },
   "outputs": [],
   "source": [
    "# Export model1 to HDF5 file\n",
    "model.save(\"pb.h5\")"
   ]
  },
  {
   "cell_type": "code",
   "execution_count": 36,
   "id": "45ac09d9",
   "metadata": {},
   "outputs": [
    {
     "data": {
      "text/plain": [
       "[15, 52, 48, 64, 66, 14, 54, 52, 64, 67]"
      ]
     },
     "execution_count": 36,
     "metadata": {},
     "output_type": "execute_result"
    }
   ],
   "source": [
    "int_predictions = [round(x) for x in predictions]\n",
    "\n",
    "int_predictions"
   ]
  },
  {
   "cell_type": "code",
   "execution_count": 37,
   "id": "b641c082",
   "metadata": {},
   "outputs": [],
   "source": [
    "winner = int_predictions[0:5]"
   ]
  },
  {
   "cell_type": "code",
   "execution_count": 38,
   "id": "c1cb964e",
   "metadata": {},
   "outputs": [
    {
     "name": "stdout",
     "output_type": "stream",
     "text": [
      "[15, 48, 52, 64, 66]\n"
     ]
    }
   ],
   "source": [
    "winner.sort()\n",
    "print(winner)"
   ]
  },
  {
   "cell_type": "code",
   "execution_count": null,
   "id": "27d8848d",
   "metadata": {},
   "outputs": [],
   "source": []
  },
  {
   "cell_type": "code",
   "execution_count": null,
   "id": "7f603bbb",
   "metadata": {},
   "outputs": [],
   "source": []
  }
 ],
 "metadata": {
  "kernelspec": {
   "display_name": "Python 3 (ipykernel)",
   "language": "python",
   "name": "python3"
  },
  "language_info": {
   "codemirror_mode": {
    "name": "ipython",
    "version": 3
   },
   "file_extension": ".py",
   "mimetype": "text/x-python",
   "name": "python",
   "nbconvert_exporter": "python",
   "pygments_lexer": "ipython3",
   "version": "3.10.10"
  }
 },
 "nbformat": 4,
 "nbformat_minor": 5
}
