{
 "cells": [
  {
   "cell_type": "code",
   "execution_count": 1,
   "id": "3e7a8876",
   "metadata": {},
   "outputs": [],
   "source": [
    "import pandas as pd\n",
    "import numpy as np\n",
    "import matplotlib.pyplot as plt\n",
    "import requests\n",
    "import json\n",
    "import tensorflow as tf\n",
    "from copy import deepcopy as dc\n",
    "from tensorflow.keras.models import Sequential\n",
    "from tensorflow.keras import layers\n",
    "from tensorflow.keras.layers import *\n",
    "from tensorflow.keras.losses import MeanSquaredError\n",
    "from tensorflow.keras.metrics import RootMeanSquaredError\n",
    "from sklearn.metrics import mean_squared_error, r2_score, mean_absolute_error\n",
    "from tensorflow.keras.optimizers import Adam\n",
    "import datetime as dt\n",
    "\n"
   ]
  },
  {
   "cell_type": "code",
   "execution_count": 2,
   "id": "54d6506d",
   "metadata": {},
   "outputs": [],
   "source": [
    "\n",
    "df = pd.read_csv('data/powerball_cleaned_11052023.csv')\n",
    "\n",
    "# Now 'df' contains your data in a DataFrame\n"
   ]
  },
  {
   "cell_type": "code",
   "execution_count": 3,
   "id": "e51c3c9a",
   "metadata": {},
   "outputs": [
    {
     "data": {
      "text/html": [
       "<div>\n",
       "<style scoped>\n",
       "    .dataframe tbody tr th:only-of-type {\n",
       "        vertical-align: middle;\n",
       "    }\n",
       "\n",
       "    .dataframe tbody tr th {\n",
       "        vertical-align: top;\n",
       "    }\n",
       "\n",
       "    .dataframe thead th {\n",
       "        text-align: right;\n",
       "    }\n",
       "</style>\n",
       "<table border=\"1\" class=\"dataframe\">\n",
       "  <thead>\n",
       "    <tr style=\"text-align: right;\">\n",
       "      <th></th>\n",
       "      <th>Draw Date</th>\n",
       "      <th>Wi</th>\n",
       "      <th>nni</th>\n",
       "      <th>ng</th>\n",
       "      <th>Num</th>\n",
       "      <th>ber</th>\n",
       "      <th>s</th>\n",
       "    </tr>\n",
       "  </thead>\n",
       "  <tbody>\n",
       "    <tr>\n",
       "      <th>0</th>\n",
       "      <td>11/4/23</td>\n",
       "      <td>1</td>\n",
       "      <td>28</td>\n",
       "      <td>30</td>\n",
       "      <td>34</td>\n",
       "      <td>52</td>\n",
       "      <td>6</td>\n",
       "    </tr>\n",
       "    <tr>\n",
       "      <th>1</th>\n",
       "      <td>11/1/23</td>\n",
       "      <td>22</td>\n",
       "      <td>26</td>\n",
       "      <td>39</td>\n",
       "      <td>47</td>\n",
       "      <td>63</td>\n",
       "      <td>12</td>\n",
       "    </tr>\n",
       "    <tr>\n",
       "      <th>2</th>\n",
       "      <td>10/30/23</td>\n",
       "      <td>19</td>\n",
       "      <td>22</td>\n",
       "      <td>34</td>\n",
       "      <td>66</td>\n",
       "      <td>69</td>\n",
       "      <td>5</td>\n",
       "    </tr>\n",
       "    <tr>\n",
       "      <th>3</th>\n",
       "      <td>10/28/23</td>\n",
       "      <td>14</td>\n",
       "      <td>24</td>\n",
       "      <td>50</td>\n",
       "      <td>59</td>\n",
       "      <td>64</td>\n",
       "      <td>2</td>\n",
       "    </tr>\n",
       "    <tr>\n",
       "      <th>4</th>\n",
       "      <td>10/25/23</td>\n",
       "      <td>25</td>\n",
       "      <td>27</td>\n",
       "      <td>41</td>\n",
       "      <td>53</td>\n",
       "      <td>68</td>\n",
       "      <td>2</td>\n",
       "    </tr>\n",
       "  </tbody>\n",
       "</table>\n",
       "</div>"
      ],
      "text/plain": [
       "  Draw Date  Wi  nni  ng  Num  ber   s\n",
       "0   11/4/23   1   28  30   34   52   6\n",
       "1   11/1/23  22   26  39   47   63  12\n",
       "2  10/30/23  19   22  34   66   69   5\n",
       "3  10/28/23  14   24  50   59   64   2\n",
       "4  10/25/23  25   27  41   53   68   2"
      ]
     },
     "execution_count": 3,
     "metadata": {},
     "output_type": "execute_result"
    }
   ],
   "source": [
    "df.head()"
   ]
  },
  {
   "cell_type": "code",
   "execution_count": 8,
   "id": "5a78ceef",
   "metadata": {
    "scrolled": true
   },
   "outputs": [
    {
     "name": "stderr",
     "output_type": "stream",
     "text": [
      "/var/folders/p7/kg6hdwfn2855xlvf73rrgn7w0000gn/T/ipykernel_4931/4101382485.py:7: UserWarning: Could not infer format, so each element will be parsed individually, falling back to `dateutil`. To ensure parsing is consistent and as-expected, please specify a format.\n",
      "  df['Date'] = pd.to_datetime(df['Date']).dt.date\n"
     ]
    },
    {
     "data": {
      "text/html": [
       "<div>\n",
       "<style scoped>\n",
       "    .dataframe tbody tr th:only-of-type {\n",
       "        vertical-align: middle;\n",
       "    }\n",
       "\n",
       "    .dataframe tbody tr th {\n",
       "        vertical-align: top;\n",
       "    }\n",
       "\n",
       "    .dataframe thead th {\n",
       "        text-align: right;\n",
       "    }\n",
       "</style>\n",
       "<table border=\"1\" class=\"dataframe\">\n",
       "  <thead>\n",
       "    <tr style=\"text-align: right;\">\n",
       "      <th></th>\n",
       "      <th>Wi</th>\n",
       "      <th>nni</th>\n",
       "      <th>ng</th>\n",
       "      <th>Num</th>\n",
       "      <th>ber</th>\n",
       "    </tr>\n",
       "    <tr>\n",
       "      <th>Date</th>\n",
       "      <th></th>\n",
       "      <th></th>\n",
       "      <th></th>\n",
       "      <th></th>\n",
       "      <th></th>\n",
       "    </tr>\n",
       "  </thead>\n",
       "  <tbody>\n",
       "    <tr>\n",
       "      <th>2010-02-03</th>\n",
       "      <td>17</td>\n",
       "      <td>22</td>\n",
       "      <td>36</td>\n",
       "      <td>37</td>\n",
       "      <td>52</td>\n",
       "    </tr>\n",
       "    <tr>\n",
       "      <th>2010-02-06</th>\n",
       "      <td>14</td>\n",
       "      <td>22</td>\n",
       "      <td>52</td>\n",
       "      <td>54</td>\n",
       "      <td>59</td>\n",
       "    </tr>\n",
       "    <tr>\n",
       "      <th>2010-02-10</th>\n",
       "      <td>5</td>\n",
       "      <td>8</td>\n",
       "      <td>29</td>\n",
       "      <td>37</td>\n",
       "      <td>38</td>\n",
       "    </tr>\n",
       "    <tr>\n",
       "      <th>2010-02-13</th>\n",
       "      <td>10</td>\n",
       "      <td>14</td>\n",
       "      <td>30</td>\n",
       "      <td>40</td>\n",
       "      <td>51</td>\n",
       "    </tr>\n",
       "    <tr>\n",
       "      <th>2010-02-17</th>\n",
       "      <td>7</td>\n",
       "      <td>8</td>\n",
       "      <td>19</td>\n",
       "      <td>26</td>\n",
       "      <td>36</td>\n",
       "    </tr>\n",
       "  </tbody>\n",
       "</table>\n",
       "</div>"
      ],
      "text/plain": [
       "            Wi  nni  ng  Num  ber\n",
       "Date                             \n",
       "2010-02-03  17   22  36   37   52\n",
       "2010-02-06  14   22  52   54   59\n",
       "2010-02-10   5    8  29   37   38\n",
       "2010-02-13  10   14  30   40   51\n",
       "2010-02-17   7    8  19   26   36"
      ]
     },
     "execution_count": 8,
     "metadata": {},
     "output_type": "execute_result"
    }
   ],
   "source": [
    "\n",
    "\n",
    "#rename columns\n",
    "df = df.rename(columns={\"Draw Date\":\"Date\"})\n",
    "\n",
    "df = df.drop(['s'], axis=1)\n",
    "\n",
    "#convert date to dt, refomat to yyyymmdd\n",
    "df['Date'] = pd.to_datetime(df['Date']).dt.date\n",
    "\n",
    "#json return began with most recent date, reversed for plotting/analysis\n",
    "df = df.reindex(index=df.index[::-1])\n",
    "\n",
    "#set date as index\n",
    "df.set_index('Date', inplace=True)\n",
    "\n",
    "df.head()"
   ]
  },
  {
   "cell_type": "code",
   "execution_count": 9,
   "id": "e608f20e",
   "metadata": {},
   "outputs": [
    {
     "data": {
      "text/plain": [
       "[17, 22, 36, 37, 52]"
      ]
     },
     "execution_count": 9,
     "metadata": {},
     "output_type": "execute_result"
    }
   ],
   "source": [
    "stacked_list = df.stack().tolist()\n",
    "\n",
    "stacked_list[0:5]"
   ]
  },
  {
   "cell_type": "code",
   "execution_count": 10,
   "id": "4411b7b3",
   "metadata": {},
   "outputs": [
    {
     "data": {
      "text/html": [
       "<div>\n",
       "<style scoped>\n",
       "    .dataframe tbody tr th:only-of-type {\n",
       "        vertical-align: middle;\n",
       "    }\n",
       "\n",
       "    .dataframe tbody tr th {\n",
       "        vertical-align: top;\n",
       "    }\n",
       "\n",
       "    .dataframe thead th {\n",
       "        text-align: right;\n",
       "    }\n",
       "</style>\n",
       "<table border=\"1\" class=\"dataframe\">\n",
       "  <thead>\n",
       "    <tr style=\"text-align: right;\">\n",
       "      <th></th>\n",
       "      <th>numbers</th>\n",
       "    </tr>\n",
       "  </thead>\n",
       "  <tbody>\n",
       "    <tr>\n",
       "      <th>0</th>\n",
       "      <td>17</td>\n",
       "    </tr>\n",
       "    <tr>\n",
       "      <th>1</th>\n",
       "      <td>22</td>\n",
       "    </tr>\n",
       "    <tr>\n",
       "      <th>2</th>\n",
       "      <td>36</td>\n",
       "    </tr>\n",
       "    <tr>\n",
       "      <th>3</th>\n",
       "      <td>37</td>\n",
       "    </tr>\n",
       "    <tr>\n",
       "      <th>4</th>\n",
       "      <td>52</td>\n",
       "    </tr>\n",
       "  </tbody>\n",
       "</table>\n",
       "</div>"
      ],
      "text/plain": [
       "   numbers\n",
       "0       17\n",
       "1       22\n",
       "2       36\n",
       "3       37\n",
       "4       52"
      ]
     },
     "execution_count": 10,
     "metadata": {},
     "output_type": "execute_result"
    }
   ],
   "source": [
    "numbers_df = pd.DataFrame(stacked_list, columns=[\"numbers\"])\n",
    "\n",
    "numbers_df.head()"
   ]
  },
  {
   "cell_type": "code",
   "execution_count": 11,
   "id": "d0564b55",
   "metadata": {
    "scrolled": true
   },
   "outputs": [
    {
     "data": {
      "text/plain": [
       "[<matplotlib.lines.Line2D at 0x17d800c10>]"
      ]
     },
     "execution_count": 11,
     "metadata": {},
     "output_type": "execute_result"
    },
    {
     "data": {
      "image/png": "[encoded data removed]",
      "text/plain": [
       "<Figure size 640x480 with 1 Axes>"
      ]
     },
     "metadata": {},
     "output_type": "display_data"
    }
   ],
   "source": [
    "#plot historical amzn price\n",
    "plt.plot(numbers_df)"
   ]
  },
  {
   "cell_type": "code",
   "execution_count": 12,
   "id": "6e17819b",
   "metadata": {},
   "outputs": [],
   "source": [
    "# Set parameters for model\n",
    "\n",
    "lookback = 30\n",
    "\n",
    "split_1 = .8\n",
    "split_2 = .9"
   ]
  },
  {
   "cell_type": "code",
   "execution_count": 13,
   "id": "8d086f9f",
   "metadata": {
    "scrolled": true
   },
   "outputs": [
    {
     "data": {
      "text/html": [
       "<div>\n",
       "<style scoped>\n",
       "    .dataframe tbody tr th:only-of-type {\n",
       "        vertical-align: middle;\n",
       "    }\n",
       "\n",
       "    .dataframe tbody tr th {\n",
       "        vertical-align: top;\n",
       "    }\n",
       "\n",
       "    .dataframe thead th {\n",
       "        text-align: right;\n",
       "    }\n",
       "</style>\n",
       "<table border=\"1\" class=\"dataframe\">\n",
       "  <thead>\n",
       "    <tr style=\"text-align: right;\">\n",
       "      <th></th>\n",
       "      <th>numbers</th>\n",
       "      <th>numbers(t-1)</th>\n",
       "      <th>numbers(t-2)</th>\n",
       "      <th>numbers(t-3)</th>\n",
       "      <th>numbers(t-4)</th>\n",
       "      <th>numbers(t-5)</th>\n",
       "      <th>numbers(t-6)</th>\n",
       "      <th>numbers(t-7)</th>\n",
       "      <th>numbers(t-8)</th>\n",
       "      <th>numbers(t-9)</th>\n",
       "      <th>...</th>\n",
       "      <th>numbers(t-21)</th>\n",
       "      <th>numbers(t-22)</th>\n",
       "      <th>numbers(t-23)</th>\n",
       "      <th>numbers(t-24)</th>\n",
       "      <th>numbers(t-25)</th>\n",
       "      <th>numbers(t-26)</th>\n",
       "      <th>numbers(t-27)</th>\n",
       "      <th>numbers(t-28)</th>\n",
       "      <th>numbers(t-29)</th>\n",
       "      <th>numbers(t-30)</th>\n",
       "    </tr>\n",
       "  </thead>\n",
       "  <tbody>\n",
       "    <tr>\n",
       "      <th>30</th>\n",
       "      <td>4</td>\n",
       "      <td>54.0</td>\n",
       "      <td>41.0</td>\n",
       "      <td>37.0</td>\n",
       "      <td>27.0</td>\n",
       "      <td>13.0</td>\n",
       "      <td>36.0</td>\n",
       "      <td>26.0</td>\n",
       "      <td>19.0</td>\n",
       "      <td>8.0</td>\n",
       "      <td>...</td>\n",
       "      <td>59.0</td>\n",
       "      <td>54.0</td>\n",
       "      <td>52.0</td>\n",
       "      <td>22.0</td>\n",
       "      <td>14.0</td>\n",
       "      <td>52.0</td>\n",
       "      <td>37.0</td>\n",
       "      <td>36.0</td>\n",
       "      <td>22.0</td>\n",
       "      <td>17.0</td>\n",
       "    </tr>\n",
       "    <tr>\n",
       "      <th>31</th>\n",
       "      <td>17</td>\n",
       "      <td>4.0</td>\n",
       "      <td>54.0</td>\n",
       "      <td>41.0</td>\n",
       "      <td>37.0</td>\n",
       "      <td>27.0</td>\n",
       "      <td>13.0</td>\n",
       "      <td>36.0</td>\n",
       "      <td>26.0</td>\n",
       "      <td>19.0</td>\n",
       "      <td>...</td>\n",
       "      <td>5.0</td>\n",
       "      <td>59.0</td>\n",
       "      <td>54.0</td>\n",
       "      <td>52.0</td>\n",
       "      <td>22.0</td>\n",
       "      <td>14.0</td>\n",
       "      <td>52.0</td>\n",
       "      <td>37.0</td>\n",
       "      <td>36.0</td>\n",
       "      <td>22.0</td>\n",
       "    </tr>\n",
       "    <tr>\n",
       "      <th>32</th>\n",
       "      <td>35</td>\n",
       "      <td>17.0</td>\n",
       "      <td>4.0</td>\n",
       "      <td>54.0</td>\n",
       "      <td>41.0</td>\n",
       "      <td>37.0</td>\n",
       "      <td>27.0</td>\n",
       "      <td>13.0</td>\n",
       "      <td>36.0</td>\n",
       "      <td>26.0</td>\n",
       "      <td>...</td>\n",
       "      <td>8.0</td>\n",
       "      <td>5.0</td>\n",
       "      <td>59.0</td>\n",
       "      <td>54.0</td>\n",
       "      <td>52.0</td>\n",
       "      <td>22.0</td>\n",
       "      <td>14.0</td>\n",
       "      <td>52.0</td>\n",
       "      <td>37.0</td>\n",
       "      <td>36.0</td>\n",
       "    </tr>\n",
       "    <tr>\n",
       "      <th>33</th>\n",
       "      <td>50</td>\n",
       "      <td>35.0</td>\n",
       "      <td>17.0</td>\n",
       "      <td>4.0</td>\n",
       "      <td>54.0</td>\n",
       "      <td>41.0</td>\n",
       "      <td>37.0</td>\n",
       "      <td>27.0</td>\n",
       "      <td>13.0</td>\n",
       "      <td>36.0</td>\n",
       "      <td>...</td>\n",
       "      <td>29.0</td>\n",
       "      <td>8.0</td>\n",
       "      <td>5.0</td>\n",
       "      <td>59.0</td>\n",
       "      <td>54.0</td>\n",
       "      <td>52.0</td>\n",
       "      <td>22.0</td>\n",
       "      <td>14.0</td>\n",
       "      <td>52.0</td>\n",
       "      <td>37.0</td>\n",
       "    </tr>\n",
       "    <tr>\n",
       "      <th>34</th>\n",
       "      <td>57</td>\n",
       "      <td>50.0</td>\n",
       "      <td>35.0</td>\n",
       "      <td>17.0</td>\n",
       "      <td>4.0</td>\n",
       "      <td>54.0</td>\n",
       "      <td>41.0</td>\n",
       "      <td>37.0</td>\n",
       "      <td>27.0</td>\n",
       "      <td>13.0</td>\n",
       "      <td>...</td>\n",
       "      <td>37.0</td>\n",
       "      <td>29.0</td>\n",
       "      <td>8.0</td>\n",
       "      <td>5.0</td>\n",
       "      <td>59.0</td>\n",
       "      <td>54.0</td>\n",
       "      <td>52.0</td>\n",
       "      <td>22.0</td>\n",
       "      <td>14.0</td>\n",
       "      <td>52.0</td>\n",
       "    </tr>\n",
       "  </tbody>\n",
       "</table>\n",
       "<p>5 rows × 31 columns</p>\n",
       "</div>"
      ],
      "text/plain": [
       "    numbers  numbers(t-1)  numbers(t-2)  numbers(t-3)  numbers(t-4)  \\\n",
       "30        4          54.0          41.0          37.0          27.0   \n",
       "31       17           4.0          54.0          41.0          37.0   \n",
       "32       35          17.0           4.0          54.0          41.0   \n",
       "33       50          35.0          17.0           4.0          54.0   \n",
       "34       57          50.0          35.0          17.0           4.0   \n",
       "\n",
       "    numbers(t-5)  numbers(t-6)  numbers(t-7)  numbers(t-8)  numbers(t-9)  ...  \\\n",
       "30          13.0          36.0          26.0          19.0           8.0  ...   \n",
       "31          27.0          13.0          36.0          26.0          19.0  ...   \n",
       "32          37.0          27.0          13.0          36.0          26.0  ...   \n",
       "33          41.0          37.0          27.0          13.0          36.0  ...   \n",
       "34          54.0          41.0          37.0          27.0          13.0  ...   \n",
       "\n",
       "    numbers(t-21)  numbers(t-22)  numbers(t-23)  numbers(t-24)  numbers(t-25)  \\\n",
       "30           59.0           54.0           52.0           22.0           14.0   \n",
       "31            5.0           59.0           54.0           52.0           22.0   \n",
       "32            8.0            5.0           59.0           54.0           52.0   \n",
       "33           29.0            8.0            5.0           59.0           54.0   \n",
       "34           37.0           29.0            8.0            5.0           59.0   \n",
       "\n",
       "    numbers(t-26)  numbers(t-27)  numbers(t-28)  numbers(t-29)  numbers(t-30)  \n",
       "30           52.0           37.0           36.0           22.0           17.0  \n",
       "31           14.0           52.0           37.0           36.0           22.0  \n",
       "32           22.0           14.0           52.0           37.0           36.0  \n",
       "33           52.0           22.0           14.0           52.0           37.0  \n",
       "34           54.0           52.0           22.0           14.0           52.0  \n",
       "\n",
       "[5 rows x 31 columns]"
      ]
     },
     "execution_count": 13,
     "metadata": {},
     "output_type": "execute_result"
    }
   ],
   "source": [
    "# build lookback for lstm training\n",
    "def prepare_dataframe_for_lstm(data, n_steps):\n",
    "    data = dc(data)\n",
    "    \n",
    "    for i in range(1, n_steps+1):\n",
    "        data[f'numbers(t-{i})'] = data['numbers'].shift(i)\n",
    "        \n",
    "    data.dropna(inplace=True)\n",
    "    \n",
    "    return data\n",
    "\n",
    "shifted_df = prepare_dataframe_for_lstm(numbers_df, lookback)\n",
    "\n",
    "shifted_df.head()"
   ]
  },
  {
   "cell_type": "code",
   "execution_count": 14,
   "id": "2d54a71a",
   "metadata": {},
   "outputs": [
    {
     "data": {
      "text/html": [
       "<div>\n",
       "<style scoped>\n",
       "    .dataframe tbody tr th:only-of-type {\n",
       "        vertical-align: middle;\n",
       "    }\n",
       "\n",
       "    .dataframe tbody tr th {\n",
       "        vertical-align: top;\n",
       "    }\n",
       "\n",
       "    .dataframe thead th {\n",
       "        text-align: right;\n",
       "    }\n",
       "</style>\n",
       "<table border=\"1\" class=\"dataframe\">\n",
       "  <thead>\n",
       "    <tr style=\"text-align: right;\">\n",
       "      <th></th>\n",
       "      <th>numbers</th>\n",
       "      <th>numbers(t-1)</th>\n",
       "      <th>numbers(t-2)</th>\n",
       "      <th>numbers(t-3)</th>\n",
       "      <th>numbers(t-4)</th>\n",
       "      <th>numbers(t-5)</th>\n",
       "      <th>numbers(t-6)</th>\n",
       "      <th>numbers(t-7)</th>\n",
       "      <th>numbers(t-8)</th>\n",
       "      <th>numbers(t-9)</th>\n",
       "      <th>...</th>\n",
       "      <th>numbers(t-21)</th>\n",
       "      <th>numbers(t-22)</th>\n",
       "      <th>numbers(t-23)</th>\n",
       "      <th>numbers(t-24)</th>\n",
       "      <th>numbers(t-25)</th>\n",
       "      <th>numbers(t-26)</th>\n",
       "      <th>numbers(t-27)</th>\n",
       "      <th>numbers(t-28)</th>\n",
       "      <th>numbers(t-29)</th>\n",
       "      <th>numbers(t-30)</th>\n",
       "    </tr>\n",
       "  </thead>\n",
       "  <tbody>\n",
       "    <tr>\n",
       "      <th>30</th>\n",
       "      <td>4</td>\n",
       "      <td>54</td>\n",
       "      <td>41</td>\n",
       "      <td>37</td>\n",
       "      <td>27</td>\n",
       "      <td>13</td>\n",
       "      <td>36</td>\n",
       "      <td>26</td>\n",
       "      <td>19</td>\n",
       "      <td>8</td>\n",
       "      <td>...</td>\n",
       "      <td>59</td>\n",
       "      <td>54</td>\n",
       "      <td>52</td>\n",
       "      <td>22</td>\n",
       "      <td>14</td>\n",
       "      <td>52</td>\n",
       "      <td>37</td>\n",
       "      <td>36</td>\n",
       "      <td>22</td>\n",
       "      <td>17</td>\n",
       "    </tr>\n",
       "    <tr>\n",
       "      <th>31</th>\n",
       "      <td>17</td>\n",
       "      <td>4</td>\n",
       "      <td>54</td>\n",
       "      <td>41</td>\n",
       "      <td>37</td>\n",
       "      <td>27</td>\n",
       "      <td>13</td>\n",
       "      <td>36</td>\n",
       "      <td>26</td>\n",
       "      <td>19</td>\n",
       "      <td>...</td>\n",
       "      <td>5</td>\n",
       "      <td>59</td>\n",
       "      <td>54</td>\n",
       "      <td>52</td>\n",
       "      <td>22</td>\n",
       "      <td>14</td>\n",
       "      <td>52</td>\n",
       "      <td>37</td>\n",
       "      <td>36</td>\n",
       "      <td>22</td>\n",
       "    </tr>\n",
       "    <tr>\n",
       "      <th>32</th>\n",
       "      <td>35</td>\n",
       "      <td>17</td>\n",
       "      <td>4</td>\n",
       "      <td>54</td>\n",
       "      <td>41</td>\n",
       "      <td>37</td>\n",
       "      <td>27</td>\n",
       "      <td>13</td>\n",
       "      <td>36</td>\n",
       "      <td>26</td>\n",
       "      <td>...</td>\n",
       "      <td>8</td>\n",
       "      <td>5</td>\n",
       "      <td>59</td>\n",
       "      <td>54</td>\n",
       "      <td>52</td>\n",
       "      <td>22</td>\n",
       "      <td>14</td>\n",
       "      <td>52</td>\n",
       "      <td>37</td>\n",
       "      <td>36</td>\n",
       "    </tr>\n",
       "    <tr>\n",
       "      <th>33</th>\n",
       "      <td>50</td>\n",
       "      <td>35</td>\n",
       "      <td>17</td>\n",
       "      <td>4</td>\n",
       "      <td>54</td>\n",
       "      <td>41</td>\n",
       "      <td>37</td>\n",
       "      <td>27</td>\n",
       "      <td>13</td>\n",
       "      <td>36</td>\n",
       "      <td>...</td>\n",
       "      <td>29</td>\n",
       "      <td>8</td>\n",
       "      <td>5</td>\n",
       "      <td>59</td>\n",
       "      <td>54</td>\n",
       "      <td>52</td>\n",
       "      <td>22</td>\n",
       "      <td>14</td>\n",
       "      <td>52</td>\n",
       "      <td>37</td>\n",
       "    </tr>\n",
       "    <tr>\n",
       "      <th>34</th>\n",
       "      <td>57</td>\n",
       "      <td>50</td>\n",
       "      <td>35</td>\n",
       "      <td>17</td>\n",
       "      <td>4</td>\n",
       "      <td>54</td>\n",
       "      <td>41</td>\n",
       "      <td>37</td>\n",
       "      <td>27</td>\n",
       "      <td>13</td>\n",
       "      <td>...</td>\n",
       "      <td>37</td>\n",
       "      <td>29</td>\n",
       "      <td>8</td>\n",
       "      <td>5</td>\n",
       "      <td>59</td>\n",
       "      <td>54</td>\n",
       "      <td>52</td>\n",
       "      <td>22</td>\n",
       "      <td>14</td>\n",
       "      <td>52</td>\n",
       "    </tr>\n",
       "  </tbody>\n",
       "</table>\n",
       "<p>5 rows × 31 columns</p>\n",
       "</div>"
      ],
      "text/plain": [
       "    numbers  numbers(t-1)  numbers(t-2)  numbers(t-3)  numbers(t-4)  \\\n",
       "30        4            54            41            37            27   \n",
       "31       17             4            54            41            37   \n",
       "32       35            17             4            54            41   \n",
       "33       50            35            17             4            54   \n",
       "34       57            50            35            17             4   \n",
       "\n",
       "    numbers(t-5)  numbers(t-6)  numbers(t-7)  numbers(t-8)  numbers(t-9)  ...  \\\n",
       "30            13            36            26            19             8  ...   \n",
       "31            27            13            36            26            19  ...   \n",
       "32            37            27            13            36            26  ...   \n",
       "33            41            37            27            13            36  ...   \n",
       "34            54            41            37            27            13  ...   \n",
       "\n",
       "    numbers(t-21)  numbers(t-22)  numbers(t-23)  numbers(t-24)  numbers(t-25)  \\\n",
       "30             59             54             52             22             14   \n",
       "31              5             59             54             52             22   \n",
       "32              8              5             59             54             52   \n",
       "33             29              8              5             59             54   \n",
       "34             37             29              8              5             59   \n",
       "\n",
       "    numbers(t-26)  numbers(t-27)  numbers(t-28)  numbers(t-29)  numbers(t-30)  \n",
       "30             52             37             36             22             17  \n",
       "31             14             52             37             36             22  \n",
       "32             22             14             52             37             36  \n",
       "33             52             22             14             52             37  \n",
       "34             54             52             22             14             52  \n",
       "\n",
       "[5 rows x 31 columns]"
      ]
     },
     "execution_count": 14,
     "metadata": {},
     "output_type": "execute_result"
    }
   ],
   "source": [
    "shifted_df = shifted_df.astype(int)\n",
    "\n",
    "shifted_df.head()"
   ]
  },
  {
   "cell_type": "code",
   "execution_count": 15,
   "id": "aed0cc8d",
   "metadata": {},
   "outputs": [
    {
     "data": {
      "text/plain": [
       "((7695, 30), (7695,), (7695,))"
      ]
     },
     "execution_count": 15,
     "metadata": {},
     "output_type": "execute_result"
    }
   ],
   "source": [
    "from sklearn.preprocessing import StandardScaler\n",
    "\n",
    "# name date column from new index (since start date is absorbed into first x windows)\n",
    "dates = shifted_df.index\n",
    "\n",
    "#convert from df to numpy array\n",
    "shifted_df_as_np = shifted_df.to_numpy()\n",
    "\n",
    "#Scale data\n",
    "# log_transformed_data = np.log(shifted_df_as_np)\n",
    "# scaler = StandardScaler()\n",
    "\n",
    "# scaled_data = scaler.fit_transform(shifted_df_as_np)\n",
    "\n",
    "\n",
    "# split reference from deatures\n",
    "X1 = shifted_df_as_np[:, 1:]\n",
    "y1 = shifted_df_as_np[:, 0]\n",
    "\n",
    "#flip order of windows (needs to start with most recent)\n",
    "\n",
    "X1 = dc(np.flip(X1, axis=1))\n",
    "X1\n",
    "\n",
    "\n",
    "X1.shape, y1.shape, dates.shape\n"
   ]
  },
  {
   "cell_type": "code",
   "execution_count": 16,
   "id": "aa584493",
   "metadata": {
    "scrolled": true
   },
   "outputs": [
    {
     "data": {
      "text/plain": [
       "((6156, 30), (6156,), (769, 30), (769,), (770, 30), (770,))"
      ]
     },
     "execution_count": 16,
     "metadata": {},
     "output_type": "execute_result"
    }
   ],
   "source": [
    "#Calculate split points based on previously defined variables\n",
    "train_split = int(len(X1) * split_1)\n",
    "test_split = int(len(X1) * split_2)\n",
    "\n",
    "#Define spilt points for train/val/test\n",
    "dates_train1, X_train1, y_train1 = dates[:train_split],X1[:train_split], y1[:train_split]\n",
    "dates_val1, X_val1, y_val1 = dates[train_split:test_split], X1[train_split:test_split], y1[train_split:test_split]\n",
    "dates_test1, X_test1, y_test1 = dates[test_split:], X1[test_split:], y1[test_split:]\n",
    "X_train1.shape, y_train1.shape, X_val1.shape, y_val1.shape, X_test1.shape, y_test1.shape"
   ]
  },
  {
   "cell_type": "code",
   "execution_count": 17,
   "id": "732ba944",
   "metadata": {},
   "outputs": [
    {
     "name": "stderr",
     "output_type": "stream",
     "text": [
      "WARNING:absl:At this time, the v2.11+ optimizer `tf.keras.optimizers.Adam` runs slowly on M1/M2 Macs, please use the legacy Keras optimizer instead, located at `tf.keras.optimizers.legacy.Adam`.\n",
      "WARNING:absl:There is a known slowdown when using v2.11+ Keras optimizers on M1/M2 Macs. Falling back to the legacy Keras optimizer, i.e., `tf.keras.optimizers.legacy.Adam`.\n"
     ]
    },
    {
     "name": "stdout",
     "output_type": "stream",
     "text": [
      "Epoch 1/100\n"
     ]
    },
    {
     "name": "stderr",
     "output_type": "stream",
     "text": [
      "2023-11-05 19:28:17.908699: W tensorflow/tsl/platform/profile_utils/cpu_utils.cc:128] Failed to get CPU frequency: 0 Hz\n"
     ]
    },
    {
     "name": "stdout",
     "output_type": "stream",
     "text": [
      "193/193 [==============================] - 2s 7ms/step - loss: 325.2142 - mean_absolute_error: 14.3781 - val_loss: 245.2944 - val_mean_absolute_error: 12.4017\n",
      "Epoch 2/100\n",
      "193/193 [==============================] - 1s 6ms/step - loss: 129.3271 - mean_absolute_error: 8.7633 - val_loss: 112.2063 - val_mean_absolute_error: 7.7229\n",
      "Epoch 3/100\n",
      "193/193 [==============================] - 1s 6ms/step - loss: 89.5394 - mean_absolute_error: 7.3207 - val_loss: 100.0600 - val_mean_absolute_error: 7.3870\n",
      "Epoch 4/100\n",
      "193/193 [==============================] - 1s 6ms/step - loss: 82.7587 - mean_absolute_error: 7.0882 - val_loss: 86.4825 - val_mean_absolute_error: 7.0265\n",
      "Epoch 5/100\n",
      "193/193 [==============================] - 1s 6ms/step - loss: 143.5407 - mean_absolute_error: 9.1118 - val_loss: 105.9392 - val_mean_absolute_error: 7.8771\n",
      "Epoch 6/100\n",
      "193/193 [==============================] - 1s 6ms/step - loss: 110.2023 - mean_absolute_error: 8.0606 - val_loss: 107.6536 - val_mean_absolute_error: 7.9415\n",
      "Epoch 7/100\n",
      "193/193 [==============================] - 1s 6ms/step - loss: 107.1736 - mean_absolute_error: 7.9362 - val_loss: 99.4698 - val_mean_absolute_error: 7.7283\n",
      "Epoch 8/100\n",
      "193/193 [==============================] - 1s 6ms/step - loss: 97.4455 - mean_absolute_error: 7.6188 - val_loss: 85.3783 - val_mean_absolute_error: 7.1887\n",
      "Epoch 9/100\n",
      "193/193 [==============================] - 1s 6ms/step - loss: 92.1047 - mean_absolute_error: 7.4473 - val_loss: 91.0409 - val_mean_absolute_error: 7.7299\n",
      "Epoch 10/100\n",
      "193/193 [==============================] - 1s 6ms/step - loss: 89.5402 - mean_absolute_error: 7.3511 - val_loss: 82.4971 - val_mean_absolute_error: 7.0611\n",
      "Epoch 11/100\n",
      "193/193 [==============================] - 1s 6ms/step - loss: 82.0723 - mean_absolute_error: 7.0936 - val_loss: 96.8120 - val_mean_absolute_error: 7.6351\n",
      "Epoch 12/100\n",
      "193/193 [==============================] - 1s 6ms/step - loss: 82.7590 - mean_absolute_error: 7.0823 - val_loss: 80.8976 - val_mean_absolute_error: 6.7768\n",
      "Epoch 13/100\n",
      "193/193 [==============================] - 1s 6ms/step - loss: 76.6901 - mean_absolute_error: 6.8618 - val_loss: 76.5878 - val_mean_absolute_error: 6.6378\n",
      "Epoch 14/100\n",
      "193/193 [==============================] - 1s 6ms/step - loss: 85.3684 - mean_absolute_error: 7.1400 - val_loss: 84.5017 - val_mean_absolute_error: 7.5100\n",
      "Epoch 15/100\n",
      "193/193 [==============================] - 1s 6ms/step - loss: 78.8296 - mean_absolute_error: 7.0037 - val_loss: 85.6547 - val_mean_absolute_error: 7.5861\n",
      "Epoch 16/100\n",
      "193/193 [==============================] - 1s 6ms/step - loss: 76.1185 - mean_absolute_error: 6.8733 - val_loss: 79.2481 - val_mean_absolute_error: 6.7952\n",
      "Epoch 17/100\n",
      "193/193 [==============================] - 1s 6ms/step - loss: 80.3408 - mean_absolute_error: 7.0347 - val_loss: 76.8974 - val_mean_absolute_error: 6.7392\n",
      "Epoch 18/100\n",
      "193/193 [==============================] - 1s 6ms/step - loss: 76.1285 - mean_absolute_error: 6.8224 - val_loss: 76.4254 - val_mean_absolute_error: 6.8936\n",
      "Epoch 19/100\n",
      "193/193 [==============================] - 1s 6ms/step - loss: 74.9921 - mean_absolute_error: 6.8164 - val_loss: 81.2006 - val_mean_absolute_error: 7.3119\n",
      "Epoch 20/100\n",
      "193/193 [==============================] - 1s 6ms/step - loss: 73.7675 - mean_absolute_error: 6.7329 - val_loss: 78.7238 - val_mean_absolute_error: 6.8373\n",
      "Epoch 21/100\n",
      "193/193 [==============================] - 1s 6ms/step - loss: 88.1431 - mean_absolute_error: 7.3050 - val_loss: 88.2907 - val_mean_absolute_error: 7.1708\n",
      "Epoch 22/100\n",
      "193/193 [==============================] - 1s 6ms/step - loss: 80.6884 - mean_absolute_error: 7.0146 - val_loss: 77.2692 - val_mean_absolute_error: 7.0207\n",
      "Epoch 23/100\n",
      "193/193 [==============================] - 1s 6ms/step - loss: 82.6382 - mean_absolute_error: 7.1187 - val_loss: 74.4588 - val_mean_absolute_error: 6.7057\n",
      "Epoch 24/100\n",
      "193/193 [==============================] - 1s 6ms/step - loss: 74.4158 - mean_absolute_error: 6.7827 - val_loss: 74.6263 - val_mean_absolute_error: 6.8726\n",
      "Epoch 25/100\n",
      "193/193 [==============================] - 1s 6ms/step - loss: 75.2717 - mean_absolute_error: 6.8249 - val_loss: 73.6802 - val_mean_absolute_error: 6.7919\n",
      "Epoch 26/100\n",
      "193/193 [==============================] - 1s 6ms/step - loss: 72.6326 - mean_absolute_error: 6.6950 - val_loss: 72.6439 - val_mean_absolute_error: 6.6543\n",
      "Epoch 27/100\n",
      "193/193 [==============================] - 1s 6ms/step - loss: 74.7234 - mean_absolute_error: 6.7697 - val_loss: 74.0779 - val_mean_absolute_error: 6.6878\n",
      "Epoch 28/100\n",
      "193/193 [==============================] - 1s 6ms/step - loss: 72.5310 - mean_absolute_error: 6.6864 - val_loss: 76.7124 - val_mean_absolute_error: 6.8218\n",
      "Epoch 29/100\n",
      "193/193 [==============================] - 1s 6ms/step - loss: 72.8251 - mean_absolute_error: 6.6834 - val_loss: 81.8748 - val_mean_absolute_error: 7.1216\n",
      "Epoch 30/100\n",
      "193/193 [==============================] - 1s 6ms/step - loss: 72.8241 - mean_absolute_error: 6.6858 - val_loss: 75.3941 - val_mean_absolute_error: 6.7940\n",
      "Epoch 31/100\n",
      "193/193 [==============================] - 1s 6ms/step - loss: 72.1766 - mean_absolute_error: 6.6594 - val_loss: 74.7098 - val_mean_absolute_error: 6.6073\n",
      "Epoch 32/100\n",
      "193/193 [==============================] - 1s 6ms/step - loss: 72.9367 - mean_absolute_error: 6.7235 - val_loss: 74.9015 - val_mean_absolute_error: 6.5973\n",
      "Epoch 33/100\n",
      "193/193 [==============================] - 1s 6ms/step - loss: 72.5029 - mean_absolute_error: 6.6846 - val_loss: 76.8805 - val_mean_absolute_error: 6.7610\n",
      "Epoch 34/100\n",
      "193/193 [==============================] - 1s 6ms/step - loss: 75.9680 - mean_absolute_error: 6.8114 - val_loss: 75.5332 - val_mean_absolute_error: 6.8969\n",
      "Epoch 35/100\n",
      "193/193 [==============================] - 1s 6ms/step - loss: 74.1958 - mean_absolute_error: 6.8035 - val_loss: 76.3195 - val_mean_absolute_error: 6.7515\n",
      "Epoch 36/100\n",
      "193/193 [==============================] - 1s 6ms/step - loss: 75.2663 - mean_absolute_error: 6.8105 - val_loss: 77.8152 - val_mean_absolute_error: 6.7989\n",
      "Epoch 37/100\n",
      "193/193 [==============================] - 1s 6ms/step - loss: 72.7847 - mean_absolute_error: 6.6752 - val_loss: 75.6513 - val_mean_absolute_error: 6.8172\n",
      "Epoch 38/100\n",
      "193/193 [==============================] - 1s 6ms/step - loss: 73.2978 - mean_absolute_error: 6.7268 - val_loss: 75.3604 - val_mean_absolute_error: 6.7057\n",
      "Epoch 39/100\n",
      "193/193 [==============================] - 1s 6ms/step - loss: 73.5538 - mean_absolute_error: 6.7358 - val_loss: 80.5951 - val_mean_absolute_error: 6.7612\n",
      "Epoch 40/100\n",
      "193/193 [==============================] - 1s 6ms/step - loss: 72.9811 - mean_absolute_error: 6.6957 - val_loss: 74.6698 - val_mean_absolute_error: 6.6852\n",
      "Epoch 41/100\n",
      "193/193 [==============================] - 1s 6ms/step - loss: 72.3534 - mean_absolute_error: 6.6760 - val_loss: 73.0261 - val_mean_absolute_error: 6.6446\n",
      "Epoch 42/100\n",
      "193/193 [==============================] - 1s 6ms/step - loss: 71.7465 - mean_absolute_error: 6.6262 - val_loss: 73.6954 - val_mean_absolute_error: 6.7863\n",
      "Epoch 43/100\n",
      "193/193 [==============================] - 1s 6ms/step - loss: 72.0538 - mean_absolute_error: 6.6479 - val_loss: 75.4382 - val_mean_absolute_error: 6.6133\n",
      "Epoch 44/100\n",
      "193/193 [==============================] - 1s 6ms/step - loss: 72.1746 - mean_absolute_error: 6.6383 - val_loss: 76.1182 - val_mean_absolute_error: 6.7055\n",
      "Epoch 45/100\n",
      "193/193 [==============================] - 1s 6ms/step - loss: 71.5950 - mean_absolute_error: 6.6335 - val_loss: 74.3439 - val_mean_absolute_error: 6.6613\n",
      "Epoch 46/100\n",
      "193/193 [==============================] - 1s 6ms/step - loss: 71.5946 - mean_absolute_error: 6.6164 - val_loss: 74.1232 - val_mean_absolute_error: 6.6653\n",
      "Epoch 47/100\n",
      "193/193 [==============================] - 1s 6ms/step - loss: 71.4320 - mean_absolute_error: 6.6220 - val_loss: 72.8852 - val_mean_absolute_error: 6.7539\n",
      "Epoch 48/100\n",
      "193/193 [==============================] - 1s 6ms/step - loss: 72.9093 - mean_absolute_error: 6.7029 - val_loss: 73.7092 - val_mean_absolute_error: 6.6741\n",
      "Epoch 49/100\n",
      "193/193 [==============================] - 1s 6ms/step - loss: 71.2610 - mean_absolute_error: 6.6134 - val_loss: 79.5329 - val_mean_absolute_error: 6.8163\n",
      "Epoch 50/100\n",
      "193/193 [==============================] - 1s 6ms/step - loss: 71.2251 - mean_absolute_error: 6.5902 - val_loss: 74.2684 - val_mean_absolute_error: 6.8320\n",
      "Epoch 51/100\n",
      "193/193 [==============================] - 1s 6ms/step - loss: 77.1248 - mean_absolute_error: 6.8489 - val_loss: 209.4944 - val_mean_absolute_error: 10.6121\n",
      "Epoch 52/100\n",
      "193/193 [==============================] - 1s 6ms/step - loss: 80.2525 - mean_absolute_error: 7.0091 - val_loss: 77.8025 - val_mean_absolute_error: 6.7860\n",
      "Epoch 53/100\n",
      "193/193 [==============================] - 1s 6ms/step - loss: 72.8638 - mean_absolute_error: 6.7170 - val_loss: 80.0755 - val_mean_absolute_error: 7.0488\n",
      "Epoch 54/100\n",
      "193/193 [==============================] - 1s 6ms/step - loss: 72.5800 - mean_absolute_error: 6.6794 - val_loss: 73.5006 - val_mean_absolute_error: 6.7085\n",
      "Epoch 55/100\n",
      "193/193 [==============================] - 1s 6ms/step - loss: 72.2339 - mean_absolute_error: 6.6748 - val_loss: 73.2017 - val_mean_absolute_error: 6.8107\n",
      "Epoch 56/100\n",
      "193/193 [==============================] - 1s 6ms/step - loss: 71.7481 - mean_absolute_error: 6.6483 - val_loss: 74.7251 - val_mean_absolute_error: 6.7579\n",
      "Epoch 57/100\n",
      "193/193 [==============================] - 1s 6ms/step - loss: 72.7357 - mean_absolute_error: 6.6826 - val_loss: 72.9534 - val_mean_absolute_error: 6.7135\n",
      "Epoch 58/100\n",
      "193/193 [==============================] - 1s 6ms/step - loss: 71.5795 - mean_absolute_error: 6.6134 - val_loss: 72.3163 - val_mean_absolute_error: 6.5982\n",
      "Epoch 59/100\n",
      "193/193 [==============================] - 1s 6ms/step - loss: 73.1010 - mean_absolute_error: 6.7140 - val_loss: 88.9411 - val_mean_absolute_error: 7.2932\n",
      "Epoch 60/100\n",
      "193/193 [==============================] - 1s 6ms/step - loss: 71.3935 - mean_absolute_error: 6.6127 - val_loss: 84.5767 - val_mean_absolute_error: 7.1841\n",
      "Epoch 61/100\n",
      "193/193 [==============================] - 1s 6ms/step - loss: 72.1227 - mean_absolute_error: 6.6702 - val_loss: 81.5700 - val_mean_absolute_error: 6.9659\n",
      "Epoch 62/100\n",
      "193/193 [==============================] - 1s 6ms/step - loss: 71.8252 - mean_absolute_error: 6.6392 - val_loss: 78.9719 - val_mean_absolute_error: 6.9681\n",
      "Epoch 63/100\n",
      "193/193 [==============================] - 1s 6ms/step - loss: 71.6466 - mean_absolute_error: 6.6374 - val_loss: 73.8365 - val_mean_absolute_error: 6.7259\n",
      "Epoch 64/100\n",
      "193/193 [==============================] - 1s 6ms/step - loss: 71.6659 - mean_absolute_error: 6.6324 - val_loss: 73.8761 - val_mean_absolute_error: 6.7397\n",
      "Epoch 65/100\n",
      "193/193 [==============================] - 1s 6ms/step - loss: 71.3965 - mean_absolute_error: 6.6321 - val_loss: 76.6427 - val_mean_absolute_error: 6.8250\n",
      "Epoch 66/100\n",
      "193/193 [==============================] - 1s 6ms/step - loss: 70.8569 - mean_absolute_error: 6.5770 - val_loss: 73.1242 - val_mean_absolute_error: 6.7915\n",
      "Epoch 67/100\n",
      "193/193 [==============================] - 1s 6ms/step - loss: 71.0220 - mean_absolute_error: 6.6152 - val_loss: 73.3454 - val_mean_absolute_error: 6.6007\n",
      "Epoch 68/100\n",
      "193/193 [==============================] - 1s 6ms/step - loss: 72.0656 - mean_absolute_error: 6.6314 - val_loss: 82.5444 - val_mean_absolute_error: 6.9950\n",
      "Epoch 69/100\n",
      "193/193 [==============================] - 1s 6ms/step - loss: 71.4893 - mean_absolute_error: 6.6170 - val_loss: 77.5665 - val_mean_absolute_error: 6.8764\n",
      "Epoch 70/100\n",
      "193/193 [==============================] - 1s 6ms/step - loss: 84.2307 - mean_absolute_error: 7.0547 - val_loss: 91.2293 - val_mean_absolute_error: 7.4609\n",
      "Epoch 71/100\n",
      "193/193 [==============================] - 1s 6ms/step - loss: 76.1427 - mean_absolute_error: 6.8828 - val_loss: 81.2532 - val_mean_absolute_error: 7.1146\n",
      "Epoch 72/100\n",
      "193/193 [==============================] - 1s 6ms/step - loss: 72.9634 - mean_absolute_error: 6.7179 - val_loss: 78.4331 - val_mean_absolute_error: 6.7595\n",
      "Epoch 73/100\n",
      "193/193 [==============================] - 1s 6ms/step - loss: 74.2415 - mean_absolute_error: 6.7267 - val_loss: 82.5105 - val_mean_absolute_error: 6.9275\n",
      "Epoch 74/100\n",
      "193/193 [==============================] - 1s 6ms/step - loss: 98.1862 - mean_absolute_error: 7.4957 - val_loss: 83.7225 - val_mean_absolute_error: 7.2586\n",
      "Epoch 75/100\n",
      "193/193 [==============================] - 1s 6ms/step - loss: 75.3906 - mean_absolute_error: 6.8500 - val_loss: 81.6819 - val_mean_absolute_error: 6.8642\n",
      "Epoch 76/100\n",
      "193/193 [==============================] - 1s 7ms/step - loss: 73.5794 - mean_absolute_error: 6.7437 - val_loss: 86.8586 - val_mean_absolute_error: 7.2496\n",
      "Epoch 77/100\n",
      "193/193 [==============================] - 1s 7ms/step - loss: 72.3749 - mean_absolute_error: 6.6605 - val_loss: 76.7552 - val_mean_absolute_error: 6.7554\n",
      "Epoch 78/100\n",
      "193/193 [==============================] - 1s 6ms/step - loss: 71.7952 - mean_absolute_error: 6.6305 - val_loss: 77.7021 - val_mean_absolute_error: 6.8298\n",
      "Epoch 79/100\n",
      "193/193 [==============================] - 1s 6ms/step - loss: 72.0869 - mean_absolute_error: 6.6437 - val_loss: 75.9268 - val_mean_absolute_error: 6.7973\n",
      "Epoch 80/100\n",
      "193/193 [==============================] - 1s 6ms/step - loss: 71.5647 - mean_absolute_error: 6.6181 - val_loss: 78.1419 - val_mean_absolute_error: 6.7431\n",
      "Epoch 81/100\n",
      "193/193 [==============================] - 1s 6ms/step - loss: 71.6719 - mean_absolute_error: 6.6290 - val_loss: 81.1056 - val_mean_absolute_error: 6.9165\n",
      "Epoch 82/100\n",
      "193/193 [==============================] - 1s 6ms/step - loss: 72.0312 - mean_absolute_error: 6.6384 - val_loss: 74.9039 - val_mean_absolute_error: 6.8451\n",
      "Epoch 83/100\n",
      "193/193 [==============================] - 1s 6ms/step - loss: 72.2840 - mean_absolute_error: 6.6795 - val_loss: 74.3853 - val_mean_absolute_error: 6.7386\n",
      "Epoch 84/100\n",
      "193/193 [==============================] - 1s 6ms/step - loss: 71.6599 - mean_absolute_error: 6.6335 - val_loss: 80.5071 - val_mean_absolute_error: 7.0373\n",
      "Epoch 85/100\n",
      "193/193 [==============================] - 1s 6ms/step - loss: 73.3402 - mean_absolute_error: 6.6983 - val_loss: 82.8290 - val_mean_absolute_error: 7.1560\n",
      "Epoch 86/100\n",
      "193/193 [==============================] - 1s 6ms/step - loss: 71.8663 - mean_absolute_error: 6.6322 - val_loss: 77.1830 - val_mean_absolute_error: 6.8950\n",
      "Epoch 87/100\n",
      "193/193 [==============================] - 1s 6ms/step - loss: 71.4653 - mean_absolute_error: 6.6250 - val_loss: 74.1723 - val_mean_absolute_error: 6.6319\n",
      "Epoch 88/100\n",
      "193/193 [==============================] - 1s 6ms/step - loss: 79.4841 - mean_absolute_error: 6.8755 - val_loss: 154.0731 - val_mean_absolute_error: 9.2904\n",
      "Epoch 89/100\n",
      "193/193 [==============================] - 1s 6ms/step - loss: 77.8344 - mean_absolute_error: 6.8656 - val_loss: 81.0643 - val_mean_absolute_error: 7.0010\n",
      "Epoch 90/100\n",
      "193/193 [==============================] - 1s 6ms/step - loss: 73.6797 - mean_absolute_error: 6.7151 - val_loss: 84.4078 - val_mean_absolute_error: 7.0482\n",
      "Epoch 91/100\n",
      "193/193 [==============================] - 1s 6ms/step - loss: 73.6308 - mean_absolute_error: 6.7355 - val_loss: 75.6575 - val_mean_absolute_error: 6.6972\n",
      "Epoch 92/100\n",
      "193/193 [==============================] - 1s 6ms/step - loss: 73.3048 - mean_absolute_error: 6.7017 - val_loss: 80.6888 - val_mean_absolute_error: 6.9080\n",
      "Epoch 93/100\n",
      "193/193 [==============================] - 1s 6ms/step - loss: 83.7596 - mean_absolute_error: 7.0779 - val_loss: 76.9985 - val_mean_absolute_error: 6.8751\n",
      "Epoch 94/100\n",
      "193/193 [==============================] - 1s 6ms/step - loss: 74.0113 - mean_absolute_error: 6.7845 - val_loss: 76.9676 - val_mean_absolute_error: 6.7719\n",
      "Epoch 95/100\n",
      "193/193 [==============================] - 1s 6ms/step - loss: 73.7028 - mean_absolute_error: 6.7374 - val_loss: 77.9442 - val_mean_absolute_error: 6.8660\n",
      "Epoch 96/100\n",
      "193/193 [==============================] - 1s 6ms/step - loss: 73.0079 - mean_absolute_error: 6.7344 - val_loss: 73.7817 - val_mean_absolute_error: 6.7229\n",
      "Epoch 97/100\n",
      "193/193 [==============================] - 1s 6ms/step - loss: 73.7780 - mean_absolute_error: 6.7278 - val_loss: 81.9953 - val_mean_absolute_error: 6.8718\n",
      "Epoch 98/100\n",
      "193/193 [==============================] - 1s 6ms/step - loss: 74.0104 - mean_absolute_error: 6.7379 - val_loss: 91.6151 - val_mean_absolute_error: 7.4423\n",
      "Epoch 99/100\n",
      "193/193 [==============================] - 1s 6ms/step - loss: 168.0593 - mean_absolute_error: 9.8106 - val_loss: 170.9241 - val_mean_absolute_error: 10.3432\n",
      "Epoch 100/100\n",
      "193/193 [==============================] - 1s 6ms/step - loss: 130.0272 - mean_absolute_error: 8.9009 - val_loss: 123.1712 - val_mean_absolute_error: 8.9074\n"
     ]
    },
    {
     "data": {
      "text/plain": [
       "<keras.callbacks.History at 0x17e2973d0>"
      ]
     },
     "execution_count": 17,
     "metadata": {},
     "output_type": "execute_result"
    }
   ],
   "source": [
    "#Build, compile, fit LSTM model\n",
    "\n",
    "model = Sequential([layers.Input((lookback, 1)),\n",
    "                    layers.LSTM(64),\n",
    "                    layers.Dense(64, activation='relu'),\n",
    "                    layers.Dense(64, activation='relu'),\n",
    "                    layers.Dense(1)])\n",
    "\n",
    "model.compile(loss='mse',\n",
    "              optimizer=Adam(learning_rate=0.01),\n",
    "              metrics=['mean_absolute_error'])\n",
    "\n",
    "model.fit(X_train1, y_train1, validation_data=(X_val1, y_val1), epochs=100)"
   ]
  },
  {
   "cell_type": "code",
   "execution_count": 18,
   "id": "51ca424b",
   "metadata": {},
   "outputs": [
    {
     "name": "stdout",
     "output_type": "stream",
     "text": [
      "193/193 [==============================] - 0s 1ms/step\n"
     ]
    },
    {
     "data": {
      "text/plain": [
       "<matplotlib.legend.Legend at 0x281a4ca50>"
      ]
     },
     "execution_count": 18,
     "metadata": {},
     "output_type": "execute_result"
    },
    {
     "data": {
      "image/png": "[encoded data removed]",
      "text/plain": [
       "<Figure size 640x480 with 1 Axes>"
      ]
     },
     "metadata": {},
     "output_type": "display_data"
    }
   ],
   "source": [
    "# Check training predictions (use np.exp to transform scaled data back to original scale)\n",
    "\n",
    "train_predictions = model.predict(X_train1).flatten()\n",
    "\n",
    "plt.plot(dates_train1, (train_predictions))\n",
    "plt.plot(dates_train1, (y_train1))\n",
    "plt.xticks(rotation=90)\n",
    "plt.legend(['Training Predictions', 'Training Observations'])"
   ]
  },
  {
   "cell_type": "code",
   "execution_count": 19,
   "id": "07b3b236",
   "metadata": {},
   "outputs": [
    {
     "name": "stdout",
     "output_type": "stream",
     "text": [
      "Val loss: 123.17121124267578\n",
      "Val MAE: 8.907425880432129\n"
     ]
    }
   ],
   "source": [
    "# Check scores for val period\n",
    "score = model.evaluate(X_val1, y_val1, verbose = 0) \n",
    "\n",
    "print('Val loss:', score[0]) \n",
    "print('Val MAE:', score[1])"
   ]
  },
  {
   "cell_type": "code",
   "execution_count": 20,
   "id": "6aebf414",
   "metadata": {},
   "outputs": [
    {
     "name": "stdout",
     "output_type": "stream",
     "text": [
      "25/25 [==============================] - 0s 1ms/step\n"
     ]
    },
    {
     "data": {
      "text/plain": [
       "<matplotlib.legend.Legend at 0x281a16750>"
      ]
     },
     "execution_count": 20,
     "metadata": {},
     "output_type": "execute_result"
    },
    {
     "data": {
      "image/png": "[encoded data removed]",
      "text/plain": [
       "<Figure size 640x480 with 1 Axes>"
      ]
     },
     "metadata": {},
     "output_type": "display_data"
    }
   ],
   "source": [
    "# graphed performance of val data in model\n",
    "val_predictions = model.predict(X_val1).flatten()\n",
    "\n",
    "plt.plot(dates_val1, (val_predictions))\n",
    "plt.plot(dates_val1, (y_val1))\n",
    "plt.xticks(rotation=90)\n",
    "plt.legend(['Validation Predictions', 'Validation Observations'])"
   ]
  },
  {
   "cell_type": "code",
   "execution_count": 21,
   "id": "7d677f73",
   "metadata": {},
   "outputs": [
    {
     "name": "stdout",
     "output_type": "stream",
     "text": [
      "Test loss: 148.894775390625\n",
      "Test MAE: 9.445236206054688\n"
     ]
    }
   ],
   "source": [
    "score = model.evaluate(X_test1, y_test1, verbose = 0) \n",
    "\n",
    "print('Test loss:', score[0]) \n",
    "print('Test MAE:', score[1])"
   ]
  },
  {
   "cell_type": "code",
   "execution_count": 22,
   "id": "07b063e2",
   "metadata": {
    "scrolled": true
   },
   "outputs": [
    {
     "name": "stdout",
     "output_type": "stream",
     "text": [
      "25/25 [==============================] - 0s 2ms/step\n"
     ]
    },
    {
     "data": {
      "text/plain": [
       "<matplotlib.legend.Legend at 0x2811e8a10>"
      ]
     },
     "execution_count": 22,
     "metadata": {},
     "output_type": "execute_result"
    },
    {
     "data": {
      "image/png": "[encoded data removed]",
      "text/plain": [
       "<Figure size 640x480 with 1 Axes>"
      ]
     },
     "metadata": {},
     "output_type": "display_data"
    }
   ],
   "source": [
    "#check model against test data\n",
    "test_predictions = model.predict(X_test1).flatten()\n",
    "\n",
    "plt.plot(dates_test1[-30:],(test_predictions[-30:]))\n",
    "plt.plot(dates_test1[-30:], (y_test1[-30:]))\n",
    "plt.xticks(rotation=90)\n",
    "plt.legend(['Testing Predictions', 'Testing Observations'])"
   ]
  },
  {
   "cell_type": "code",
   "execution_count": 23,
   "id": "d15ebd95",
   "metadata": {
    "scrolled": true
   },
   "outputs": [
    {
     "name": "stdout",
     "output_type": "stream",
     "text": [
      "R2 Score:  0.6277019303337239\n"
     ]
    }
   ],
   "source": [
    "# Check r2 score\n",
    "print('R2 Score: ', r2_score(y_test1, test_predictions))"
   ]
  },
  {
   "cell_type": "markdown",
   "id": "96ee29fc",
   "metadata": {},
   "source": [
    "## Future Prediction\n",
    "- Attempting to look ahead x days in an attempt to predict upcoming trends"
   ]
  },
  {
   "cell_type": "code",
   "execution_count": 25,
   "id": "2f8f2ce4",
   "metadata": {},
   "outputs": [
    {
     "name": "stdout",
     "output_type": "stream",
     "text": [
      "1/1 [==============================] - 0s 11ms/step\n",
      "1/1 [==============================] - 0s 12ms/step\n",
      "1/1 [==============================] - 0s 9ms/step\n",
      "1/1 [==============================] - 0s 9ms/step\n",
      "1/1 [==============================] - 0s 8ms/step\n",
      "1/1 [==============================] - 0s 10ms/step\n",
      "1/1 [==============================] - 0s 8ms/step\n",
      "1/1 [==============================] - 0s 9ms/step\n",
      "1/1 [==============================] - 0s 9ms/step\n",
      "1/1 [==============================] - 0s 10ms/step\n",
      "[40.16742, 28.910934, 36.540337, 40.094833, 44.80319, 47.1572, 36.7272, 42.798798, 46.49555, 46.74841]\n"
     ]
    }
   ],
   "source": [
    "# Initialize an array to store predictions\n",
    "predictions = []\n",
    "predicted_dates = []\n",
    "prediction_range = 10\n",
    "\n",
    "#create list of numbers to add to date based on date range\n",
    "date_range = list(range(1, prediction_range +1))\n",
    "\n",
    "# Use the last n_steps data points from the training set to make predictions\n",
    "current_batch = X_test1[-1]\n",
    "current_reshape = current_batch.reshape((1, lookback))\n",
    "# initial_date = dates_test1[-1]\n",
    "\n",
    "# Generate predictions for 7 days\n",
    "for i in range(prediction_range): # Generate predictions for 7 days\n",
    "    # Predict the next data point\n",
    "    current_pred = model.predict(current_reshape)[0,0]\n",
    "    \n",
    "    # Append the prediction to the list of predictions\n",
    "    predictions.append(current_pred)\n",
    "        \n",
    "\n",
    "    # Update initial input for the next step\n",
    "    updated_batch = np.insert(current_batch, -1, current_pred)\n",
    "    \n",
    "    #resize batch \n",
    "    current_batch = updated_batch[1:]\n",
    "    \n",
    "    #reshape batch\n",
    "    current_reshape = current_batch.reshape((1, lookback))\n",
    "\n",
    "    \n",
    "# for day in date_range:\n",
    "#     new_date = initial_date + dt.timedelta(days=day)\n",
    "#     predicted_dates.append(new_date\n",
    "#                           )\n",
    "# 'predictions' contains 7-day forecast\n",
    "print(predictions)\n",
    "\n",
    "# for date in predicted_dates:\n",
    "#     print(date)"
   ]
  },
  {
   "cell_type": "code",
   "execution_count": 26,
   "id": "9ed93589",
   "metadata": {
    "scrolled": true
   },
   "outputs": [],
   "source": [
    "# Export model1 to HDF5 file\n",
    "model.save(\"pb.h5\")"
   ]
  },
  {
   "cell_type": "code",
   "execution_count": 27,
   "id": "45ac09d9",
   "metadata": {},
   "outputs": [
    {
     "data": {
      "text/plain": [
       "[40, 29, 37, 40, 45, 47, 37, 43, 46, 47]"
      ]
     },
     "execution_count": 27,
     "metadata": {},
     "output_type": "execute_result"
    }
   ],
   "source": [
    "int_predictions = [round(x) for x in predictions]\n",
    "\n",
    "int_predictions"
   ]
  },
  {
   "cell_type": "code",
   "execution_count": 28,
   "id": "b641c082",
   "metadata": {},
   "outputs": [],
   "source": [
    "winner = int_predictions[0:5]"
   ]
  },
  {
   "cell_type": "code",
   "execution_count": 29,
   "id": "c1cb964e",
   "metadata": {},
   "outputs": [
    {
     "name": "stdout",
     "output_type": "stream",
     "text": [
      "[29, 37, 40, 40, 45]\n"
     ]
    }
   ],
   "source": [
    "winner.sort()\n",
    "print(winner)"
   ]
  },
  {
   "cell_type": "code",
   "execution_count": null,
   "id": "27d8848d",
   "metadata": {},
   "outputs": [],
   "source": []
  },
  {
   "cell_type": "code",
   "execution_count": null,
   "id": "7f603bbb",
   "metadata": {},
   "outputs": [],
   "source": []
  }
 ],
 "metadata": {
  "kernelspec": {
   "display_name": "Python 3 (ipykernel)",
   "language": "python",
   "name": "python3"
  },
  "language_info": {
   "codemirror_mode": {
    "name": "ipython",
    "version": 3
   },
   "file_extension": ".py",
   "mimetype": "text/x-python",
   "name": "python",
   "nbconvert_exporter": "python",
   "pygments_lexer": "ipython3",
   "version": "3.11.5"
  }
 },
 "nbformat": 4,
 "nbformat_minor": 5
}
