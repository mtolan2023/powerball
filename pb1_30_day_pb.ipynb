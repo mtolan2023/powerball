{
 "cells": [
  {
   "cell_type": "code",
   "execution_count": 2,
   "id": "3e7a8876",
   "metadata": {},
   "outputs": [],
   "source": [
    "import pandas as pd\n",
    "import numpy as np\n",
    "import matplotlib.pyplot as plt\n",
    "import requests\n",
    "import json\n",
    "import tensorflow as tf\n",
    "from copy import deepcopy as dc\n",
    "from tensorflow.keras.models import Sequential\n",
    "from tensorflow.keras import layers\n",
    "from tensorflow.keras.layers import *\n",
    "from tensorflow.keras.losses import MeanSquaredError\n",
    "from tensorflow.keras.metrics import RootMeanSquaredError\n",
    "from sklearn.metrics import mean_squared_error, r2_score, mean_absolute_error\n",
    "from tensorflow.keras.optimizers import Adam\n",
    "import datetime as dt\n",
    "\n"
   ]
  },
  {
   "cell_type": "code",
   "execution_count": 22,
   "id": "54d6506d",
   "metadata": {},
   "outputs": [],
   "source": [
    "\n",
    "df = pd.read_csv('data/powerball_cleaned_11052023.csv')\n",
    "\n",
    "# Now 'df' contains your data in a DataFrame\n"
   ]
  },
  {
   "cell_type": "code",
   "execution_count": 23,
   "id": "e51c3c9a",
   "metadata": {
    "scrolled": true
   },
   "outputs": [
    {
     "data": {
      "text/html": [
       "<div>\n",
       "<style scoped>\n",
       "    .dataframe tbody tr th:only-of-type {\n",
       "        vertical-align: middle;\n",
       "    }\n",
       "\n",
       "    .dataframe tbody tr th {\n",
       "        vertical-align: top;\n",
       "    }\n",
       "\n",
       "    .dataframe thead th {\n",
       "        text-align: right;\n",
       "    }\n",
       "</style>\n",
       "<table border=\"1\" class=\"dataframe\">\n",
       "  <thead>\n",
       "    <tr style=\"text-align: right;\">\n",
       "      <th></th>\n",
       "      <th>Draw Date</th>\n",
       "      <th>Wi</th>\n",
       "      <th>nni</th>\n",
       "      <th>ng</th>\n",
       "      <th>Num</th>\n",
       "      <th>ber</th>\n",
       "      <th>s</th>\n",
       "    </tr>\n",
       "  </thead>\n",
       "  <tbody>\n",
       "    <tr>\n",
       "      <th>0</th>\n",
       "      <td>11/4/23</td>\n",
       "      <td>1</td>\n",
       "      <td>28</td>\n",
       "      <td>30</td>\n",
       "      <td>34</td>\n",
       "      <td>52</td>\n",
       "      <td>6</td>\n",
       "    </tr>\n",
       "    <tr>\n",
       "      <th>1</th>\n",
       "      <td>11/1/23</td>\n",
       "      <td>22</td>\n",
       "      <td>26</td>\n",
       "      <td>39</td>\n",
       "      <td>47</td>\n",
       "      <td>63</td>\n",
       "      <td>12</td>\n",
       "    </tr>\n",
       "    <tr>\n",
       "      <th>2</th>\n",
       "      <td>10/30/23</td>\n",
       "      <td>19</td>\n",
       "      <td>22</td>\n",
       "      <td>34</td>\n",
       "      <td>66</td>\n",
       "      <td>69</td>\n",
       "      <td>5</td>\n",
       "    </tr>\n",
       "    <tr>\n",
       "      <th>3</th>\n",
       "      <td>10/28/23</td>\n",
       "      <td>14</td>\n",
       "      <td>24</td>\n",
       "      <td>50</td>\n",
       "      <td>59</td>\n",
       "      <td>64</td>\n",
       "      <td>2</td>\n",
       "    </tr>\n",
       "    <tr>\n",
       "      <th>4</th>\n",
       "      <td>10/25/23</td>\n",
       "      <td>25</td>\n",
       "      <td>27</td>\n",
       "      <td>41</td>\n",
       "      <td>53</td>\n",
       "      <td>68</td>\n",
       "      <td>2</td>\n",
       "    </tr>\n",
       "  </tbody>\n",
       "</table>\n",
       "</div>"
      ],
      "text/plain": [
       "  Draw Date  Wi  nni  ng  Num  ber   s\n",
       "0   11/4/23   1   28  30   34   52   6\n",
       "1   11/1/23  22   26  39   47   63  12\n",
       "2  10/30/23  19   22  34   66   69   5\n",
       "3  10/28/23  14   24  50   59   64   2\n",
       "4  10/25/23  25   27  41   53   68   2"
      ]
     },
     "execution_count": 23,
     "metadata": {},
     "output_type": "execute_result"
    }
   ],
   "source": [
    "df.head()"
   ]
  },
  {
   "cell_type": "code",
   "execution_count": 24,
   "id": "58d22b7e-2bc5-4d7c-9a89-ebdd6bec68b4",
   "metadata": {},
   "outputs": [],
   "source": [
    "df = df.drop(columns=[\"Wi\",\"nni\",\"ng\",\"Num\",\"ber\"])"
   ]
  },
  {
   "cell_type": "code",
   "execution_count": 26,
   "id": "5a78ceef",
   "metadata": {
    "scrolled": true
   },
   "outputs": [
    {
     "name": "stderr",
     "output_type": "stream",
     "text": [
      "/var/folders/p7/kg6hdwfn2855xlvf73rrgn7w0000gn/T/ipykernel_4943/2383216353.py:7: UserWarning: Could not infer format, so each element will be parsed individually, falling back to `dateutil`. To ensure parsing is consistent and as-expected, please specify a format.\n",
      "  df['Date'] = pd.to_datetime(df['Date']).dt.date\n"
     ]
    },
    {
     "data": {
      "text/html": [
       "<div>\n",
       "<style scoped>\n",
       "    .dataframe tbody tr th:only-of-type {\n",
       "        vertical-align: middle;\n",
       "    }\n",
       "\n",
       "    .dataframe tbody tr th {\n",
       "        vertical-align: top;\n",
       "    }\n",
       "\n",
       "    .dataframe thead th {\n",
       "        text-align: right;\n",
       "    }\n",
       "</style>\n",
       "<table border=\"1\" class=\"dataframe\">\n",
       "  <thead>\n",
       "    <tr style=\"text-align: right;\">\n",
       "      <th></th>\n",
       "      <th>numbers</th>\n",
       "    </tr>\n",
       "    <tr>\n",
       "      <th>Date</th>\n",
       "      <th></th>\n",
       "    </tr>\n",
       "  </thead>\n",
       "  <tbody>\n",
       "    <tr>\n",
       "      <th>2010-02-03</th>\n",
       "      <td>24</td>\n",
       "    </tr>\n",
       "    <tr>\n",
       "      <th>2010-02-06</th>\n",
       "      <td>4</td>\n",
       "    </tr>\n",
       "    <tr>\n",
       "      <th>2010-02-10</th>\n",
       "      <td>34</td>\n",
       "    </tr>\n",
       "    <tr>\n",
       "      <th>2010-02-13</th>\n",
       "      <td>1</td>\n",
       "    </tr>\n",
       "    <tr>\n",
       "      <th>2010-02-17</th>\n",
       "      <td>15</td>\n",
       "    </tr>\n",
       "  </tbody>\n",
       "</table>\n",
       "</div>"
      ],
      "text/plain": [
       "            numbers\n",
       "Date               \n",
       "2010-02-03       24\n",
       "2010-02-06        4\n",
       "2010-02-10       34\n",
       "2010-02-13        1\n",
       "2010-02-17       15"
      ]
     },
     "execution_count": 26,
     "metadata": {},
     "output_type": "execute_result"
    }
   ],
   "source": [
    "# df = df['s']\n",
    "\n",
    "# #rename columns\n",
    "df = df.rename(columns={\"s\":\"numbers\", \"Draw Date\":\"Date\"})\n",
    "\n",
    "# #convert date to dt, refomat to yyyymmdd\n",
    "df['Date'] = pd.to_datetime(df['Date']).dt.date\n",
    "\n",
    "# #json return began with most recent date, reversed for plotting/analysis\n",
    "df = df.reindex(index=df.index[::-1])\n",
    "\n",
    "# #set date as index\n",
    "df.set_index('Date', inplace=True)\n",
    "numbers_df= df.copy()\n",
    "\n",
    "numbers_df.head()"
   ]
  },
  {
   "cell_type": "code",
   "execution_count": 27,
   "id": "e608f20e",
   "metadata": {},
   "outputs": [],
   "source": [
    "# numbers_df = numbers_df[\"numbers\"]"
   ]
  },
  {
   "cell_type": "code",
   "execution_count": 28,
   "id": "4411b7b3",
   "metadata": {},
   "outputs": [],
   "source": [
    "# numbers_df = pd.DataFrame(stacked_list, columns=[\"numbers\"])\n",
    "\n",
    "# numbers_df.head()"
   ]
  },
  {
   "cell_type": "code",
   "execution_count": 29,
   "id": "d0564b55",
   "metadata": {
    "scrolled": true
   },
   "outputs": [
    {
     "data": {
      "text/plain": [
       "[<matplotlib.lines.Line2D at 0x15dd67350>]"
      ]
     },
     "execution_count": 29,
     "metadata": {},
     "output_type": "execute_result"
    },
    {
     "data": {
      "image/png": "[encoded data removed]",
      "text/plain": [
       "<Figure size 640x480 with 1 Axes>"
      ]
     },
     "metadata": {},
     "output_type": "display_data"
    }
   ],
   "source": [
    "#plot historical amzn price\n",
    "plt.plot(numbers_df)"
   ]
  },
  {
   "cell_type": "code",
   "execution_count": 30,
   "id": "6e17819b",
   "metadata": {},
   "outputs": [],
   "source": [
    "# Set parameters for model\n",
    "\n",
    "lookback = 30\n",
    "\n",
    "split_1 = .8\n",
    "split_2 = .9"
   ]
  },
  {
   "cell_type": "code",
   "execution_count": 31,
   "id": "8d086f9f",
   "metadata": {
    "scrolled": true
   },
   "outputs": [
    {
     "data": {
      "text/html": [
       "<div>\n",
       "<style scoped>\n",
       "    .dataframe tbody tr th:only-of-type {\n",
       "        vertical-align: middle;\n",
       "    }\n",
       "\n",
       "    .dataframe tbody tr th {\n",
       "        vertical-align: top;\n",
       "    }\n",
       "\n",
       "    .dataframe thead th {\n",
       "        text-align: right;\n",
       "    }\n",
       "</style>\n",
       "<table border=\"1\" class=\"dataframe\">\n",
       "  <thead>\n",
       "    <tr style=\"text-align: right;\">\n",
       "      <th></th>\n",
       "      <th>numbers</th>\n",
       "      <th>numbers(t-1)</th>\n",
       "      <th>numbers(t-2)</th>\n",
       "      <th>numbers(t-3)</th>\n",
       "      <th>numbers(t-4)</th>\n",
       "      <th>numbers(t-5)</th>\n",
       "      <th>numbers(t-6)</th>\n",
       "      <th>numbers(t-7)</th>\n",
       "      <th>numbers(t-8)</th>\n",
       "      <th>numbers(t-9)</th>\n",
       "      <th>...</th>\n",
       "      <th>numbers(t-21)</th>\n",
       "      <th>numbers(t-22)</th>\n",
       "      <th>numbers(t-23)</th>\n",
       "      <th>numbers(t-24)</th>\n",
       "      <th>numbers(t-25)</th>\n",
       "      <th>numbers(t-26)</th>\n",
       "      <th>numbers(t-27)</th>\n",
       "      <th>numbers(t-28)</th>\n",
       "      <th>numbers(t-29)</th>\n",
       "      <th>numbers(t-30)</th>\n",
       "    </tr>\n",
       "    <tr>\n",
       "      <th>Date</th>\n",
       "      <th></th>\n",
       "      <th></th>\n",
       "      <th></th>\n",
       "      <th></th>\n",
       "      <th></th>\n",
       "      <th></th>\n",
       "      <th></th>\n",
       "      <th></th>\n",
       "      <th></th>\n",
       "      <th></th>\n",
       "      <th></th>\n",
       "      <th></th>\n",
       "      <th></th>\n",
       "      <th></th>\n",
       "      <th></th>\n",
       "      <th></th>\n",
       "      <th></th>\n",
       "      <th></th>\n",
       "      <th></th>\n",
       "      <th></th>\n",
       "      <th></th>\n",
       "    </tr>\n",
       "  </thead>\n",
       "  <tbody>\n",
       "    <tr>\n",
       "      <th>2010-05-19</th>\n",
       "      <td>27</td>\n",
       "      <td>20.0</td>\n",
       "      <td>38.0</td>\n",
       "      <td>31.0</td>\n",
       "      <td>11.0</td>\n",
       "      <td>20.0</td>\n",
       "      <td>24.0</td>\n",
       "      <td>5.0</td>\n",
       "      <td>20.0</td>\n",
       "      <td>15.0</td>\n",
       "      <td>...</td>\n",
       "      <td>15.0</td>\n",
       "      <td>23.0</td>\n",
       "      <td>30.0</td>\n",
       "      <td>12.0</td>\n",
       "      <td>32.0</td>\n",
       "      <td>15.0</td>\n",
       "      <td>1.0</td>\n",
       "      <td>34.0</td>\n",
       "      <td>4.0</td>\n",
       "      <td>24.0</td>\n",
       "    </tr>\n",
       "    <tr>\n",
       "      <th>2010-05-22</th>\n",
       "      <td>29</td>\n",
       "      <td>27.0</td>\n",
       "      <td>20.0</td>\n",
       "      <td>38.0</td>\n",
       "      <td>31.0</td>\n",
       "      <td>11.0</td>\n",
       "      <td>20.0</td>\n",
       "      <td>24.0</td>\n",
       "      <td>5.0</td>\n",
       "      <td>20.0</td>\n",
       "      <td>...</td>\n",
       "      <td>1.0</td>\n",
       "      <td>15.0</td>\n",
       "      <td>23.0</td>\n",
       "      <td>30.0</td>\n",
       "      <td>12.0</td>\n",
       "      <td>32.0</td>\n",
       "      <td>15.0</td>\n",
       "      <td>1.0</td>\n",
       "      <td>34.0</td>\n",
       "      <td>4.0</td>\n",
       "    </tr>\n",
       "    <tr>\n",
       "      <th>2010-05-26</th>\n",
       "      <td>32</td>\n",
       "      <td>29.0</td>\n",
       "      <td>27.0</td>\n",
       "      <td>20.0</td>\n",
       "      <td>38.0</td>\n",
       "      <td>31.0</td>\n",
       "      <td>11.0</td>\n",
       "      <td>20.0</td>\n",
       "      <td>24.0</td>\n",
       "      <td>5.0</td>\n",
       "      <td>...</td>\n",
       "      <td>8.0</td>\n",
       "      <td>1.0</td>\n",
       "      <td>15.0</td>\n",
       "      <td>23.0</td>\n",
       "      <td>30.0</td>\n",
       "      <td>12.0</td>\n",
       "      <td>32.0</td>\n",
       "      <td>15.0</td>\n",
       "      <td>1.0</td>\n",
       "      <td>34.0</td>\n",
       "    </tr>\n",
       "    <tr>\n",
       "      <th>2010-05-29</th>\n",
       "      <td>10</td>\n",
       "      <td>32.0</td>\n",
       "      <td>29.0</td>\n",
       "      <td>27.0</td>\n",
       "      <td>20.0</td>\n",
       "      <td>38.0</td>\n",
       "      <td>31.0</td>\n",
       "      <td>11.0</td>\n",
       "      <td>20.0</td>\n",
       "      <td>24.0</td>\n",
       "      <td>...</td>\n",
       "      <td>8.0</td>\n",
       "      <td>8.0</td>\n",
       "      <td>1.0</td>\n",
       "      <td>15.0</td>\n",
       "      <td>23.0</td>\n",
       "      <td>30.0</td>\n",
       "      <td>12.0</td>\n",
       "      <td>32.0</td>\n",
       "      <td>15.0</td>\n",
       "      <td>1.0</td>\n",
       "    </tr>\n",
       "    <tr>\n",
       "      <th>2010-06-02</th>\n",
       "      <td>38</td>\n",
       "      <td>10.0</td>\n",
       "      <td>32.0</td>\n",
       "      <td>29.0</td>\n",
       "      <td>27.0</td>\n",
       "      <td>20.0</td>\n",
       "      <td>38.0</td>\n",
       "      <td>31.0</td>\n",
       "      <td>11.0</td>\n",
       "      <td>20.0</td>\n",
       "      <td>...</td>\n",
       "      <td>9.0</td>\n",
       "      <td>8.0</td>\n",
       "      <td>8.0</td>\n",
       "      <td>1.0</td>\n",
       "      <td>15.0</td>\n",
       "      <td>23.0</td>\n",
       "      <td>30.0</td>\n",
       "      <td>12.0</td>\n",
       "      <td>32.0</td>\n",
       "      <td>15.0</td>\n",
       "    </tr>\n",
       "  </tbody>\n",
       "</table>\n",
       "<p>5 rows × 31 columns</p>\n",
       "</div>"
      ],
      "text/plain": [
       "            numbers  numbers(t-1)  numbers(t-2)  numbers(t-3)  numbers(t-4)  \\\n",
       "Date                                                                          \n",
       "2010-05-19       27          20.0          38.0          31.0          11.0   \n",
       "2010-05-22       29          27.0          20.0          38.0          31.0   \n",
       "2010-05-26       32          29.0          27.0          20.0          38.0   \n",
       "2010-05-29       10          32.0          29.0          27.0          20.0   \n",
       "2010-06-02       38          10.0          32.0          29.0          27.0   \n",
       "\n",
       "            numbers(t-5)  numbers(t-6)  numbers(t-7)  numbers(t-8)  \\\n",
       "Date                                                                 \n",
       "2010-05-19          20.0          24.0           5.0          20.0   \n",
       "2010-05-22          11.0          20.0          24.0           5.0   \n",
       "2010-05-26          31.0          11.0          20.0          24.0   \n",
       "2010-05-29          38.0          31.0          11.0          20.0   \n",
       "2010-06-02          20.0          38.0          31.0          11.0   \n",
       "\n",
       "            numbers(t-9)  ...  numbers(t-21)  numbers(t-22)  numbers(t-23)  \\\n",
       "Date                      ...                                                \n",
       "2010-05-19          15.0  ...           15.0           23.0           30.0   \n",
       "2010-05-22          20.0  ...            1.0           15.0           23.0   \n",
       "2010-05-26           5.0  ...            8.0            1.0           15.0   \n",
       "2010-05-29          24.0  ...            8.0            8.0            1.0   \n",
       "2010-06-02          20.0  ...            9.0            8.0            8.0   \n",
       "\n",
       "            numbers(t-24)  numbers(t-25)  numbers(t-26)  numbers(t-27)  \\\n",
       "Date                                                                     \n",
       "2010-05-19           12.0           32.0           15.0            1.0   \n",
       "2010-05-22           30.0           12.0           32.0           15.0   \n",
       "2010-05-26           23.0           30.0           12.0           32.0   \n",
       "2010-05-29           15.0           23.0           30.0           12.0   \n",
       "2010-06-02            1.0           15.0           23.0           30.0   \n",
       "\n",
       "            numbers(t-28)  numbers(t-29)  numbers(t-30)  \n",
       "Date                                                     \n",
       "2010-05-19           34.0            4.0           24.0  \n",
       "2010-05-22            1.0           34.0            4.0  \n",
       "2010-05-26           15.0            1.0           34.0  \n",
       "2010-05-29           32.0           15.0            1.0  \n",
       "2010-06-02           12.0           32.0           15.0  \n",
       "\n",
       "[5 rows x 31 columns]"
      ]
     },
     "execution_count": 31,
     "metadata": {},
     "output_type": "execute_result"
    }
   ],
   "source": [
    "# build lookback for lstm training\n",
    "def prepare_dataframe_for_lstm(data, n_steps):\n",
    "    data = dc(data)\n",
    "    \n",
    "    for i in range(1, n_steps+1):\n",
    "        data[f'numbers(t-{i})'] = data['numbers'].shift(i)\n",
    "        \n",
    "    data.dropna(inplace=True)\n",
    "    \n",
    "    return data\n",
    "\n",
    "shifted_df = prepare_dataframe_for_lstm(numbers_df, lookback)\n",
    "\n",
    "shifted_df.head()"
   ]
  },
  {
   "cell_type": "code",
   "execution_count": 32,
   "id": "2d54a71a",
   "metadata": {},
   "outputs": [
    {
     "data": {
      "text/html": [
       "<div>\n",
       "<style scoped>\n",
       "    .dataframe tbody tr th:only-of-type {\n",
       "        vertical-align: middle;\n",
       "    }\n",
       "\n",
       "    .dataframe tbody tr th {\n",
       "        vertical-align: top;\n",
       "    }\n",
       "\n",
       "    .dataframe thead th {\n",
       "        text-align: right;\n",
       "    }\n",
       "</style>\n",
       "<table border=\"1\" class=\"dataframe\">\n",
       "  <thead>\n",
       "    <tr style=\"text-align: right;\">\n",
       "      <th></th>\n",
       "      <th>numbers</th>\n",
       "      <th>numbers(t-1)</th>\n",
       "      <th>numbers(t-2)</th>\n",
       "      <th>numbers(t-3)</th>\n",
       "      <th>numbers(t-4)</th>\n",
       "      <th>numbers(t-5)</th>\n",
       "      <th>numbers(t-6)</th>\n",
       "      <th>numbers(t-7)</th>\n",
       "      <th>numbers(t-8)</th>\n",
       "      <th>numbers(t-9)</th>\n",
       "      <th>...</th>\n",
       "      <th>numbers(t-21)</th>\n",
       "      <th>numbers(t-22)</th>\n",
       "      <th>numbers(t-23)</th>\n",
       "      <th>numbers(t-24)</th>\n",
       "      <th>numbers(t-25)</th>\n",
       "      <th>numbers(t-26)</th>\n",
       "      <th>numbers(t-27)</th>\n",
       "      <th>numbers(t-28)</th>\n",
       "      <th>numbers(t-29)</th>\n",
       "      <th>numbers(t-30)</th>\n",
       "    </tr>\n",
       "    <tr>\n",
       "      <th>Date</th>\n",
       "      <th></th>\n",
       "      <th></th>\n",
       "      <th></th>\n",
       "      <th></th>\n",
       "      <th></th>\n",
       "      <th></th>\n",
       "      <th></th>\n",
       "      <th></th>\n",
       "      <th></th>\n",
       "      <th></th>\n",
       "      <th></th>\n",
       "      <th></th>\n",
       "      <th></th>\n",
       "      <th></th>\n",
       "      <th></th>\n",
       "      <th></th>\n",
       "      <th></th>\n",
       "      <th></th>\n",
       "      <th></th>\n",
       "      <th></th>\n",
       "      <th></th>\n",
       "    </tr>\n",
       "  </thead>\n",
       "  <tbody>\n",
       "    <tr>\n",
       "      <th>2010-05-19</th>\n",
       "      <td>27</td>\n",
       "      <td>20</td>\n",
       "      <td>38</td>\n",
       "      <td>31</td>\n",
       "      <td>11</td>\n",
       "      <td>20</td>\n",
       "      <td>24</td>\n",
       "      <td>5</td>\n",
       "      <td>20</td>\n",
       "      <td>15</td>\n",
       "      <td>...</td>\n",
       "      <td>15</td>\n",
       "      <td>23</td>\n",
       "      <td>30</td>\n",
       "      <td>12</td>\n",
       "      <td>32</td>\n",
       "      <td>15</td>\n",
       "      <td>1</td>\n",
       "      <td>34</td>\n",
       "      <td>4</td>\n",
       "      <td>24</td>\n",
       "    </tr>\n",
       "    <tr>\n",
       "      <th>2010-05-22</th>\n",
       "      <td>29</td>\n",
       "      <td>27</td>\n",
       "      <td>20</td>\n",
       "      <td>38</td>\n",
       "      <td>31</td>\n",
       "      <td>11</td>\n",
       "      <td>20</td>\n",
       "      <td>24</td>\n",
       "      <td>5</td>\n",
       "      <td>20</td>\n",
       "      <td>...</td>\n",
       "      <td>1</td>\n",
       "      <td>15</td>\n",
       "      <td>23</td>\n",
       "      <td>30</td>\n",
       "      <td>12</td>\n",
       "      <td>32</td>\n",
       "      <td>15</td>\n",
       "      <td>1</td>\n",
       "      <td>34</td>\n",
       "      <td>4</td>\n",
       "    </tr>\n",
       "    <tr>\n",
       "      <th>2010-05-26</th>\n",
       "      <td>32</td>\n",
       "      <td>29</td>\n",
       "      <td>27</td>\n",
       "      <td>20</td>\n",
       "      <td>38</td>\n",
       "      <td>31</td>\n",
       "      <td>11</td>\n",
       "      <td>20</td>\n",
       "      <td>24</td>\n",
       "      <td>5</td>\n",
       "      <td>...</td>\n",
       "      <td>8</td>\n",
       "      <td>1</td>\n",
       "      <td>15</td>\n",
       "      <td>23</td>\n",
       "      <td>30</td>\n",
       "      <td>12</td>\n",
       "      <td>32</td>\n",
       "      <td>15</td>\n",
       "      <td>1</td>\n",
       "      <td>34</td>\n",
       "    </tr>\n",
       "    <tr>\n",
       "      <th>2010-05-29</th>\n",
       "      <td>10</td>\n",
       "      <td>32</td>\n",
       "      <td>29</td>\n",
       "      <td>27</td>\n",
       "      <td>20</td>\n",
       "      <td>38</td>\n",
       "      <td>31</td>\n",
       "      <td>11</td>\n",
       "      <td>20</td>\n",
       "      <td>24</td>\n",
       "      <td>...</td>\n",
       "      <td>8</td>\n",
       "      <td>8</td>\n",
       "      <td>1</td>\n",
       "      <td>15</td>\n",
       "      <td>23</td>\n",
       "      <td>30</td>\n",
       "      <td>12</td>\n",
       "      <td>32</td>\n",
       "      <td>15</td>\n",
       "      <td>1</td>\n",
       "    </tr>\n",
       "    <tr>\n",
       "      <th>2010-06-02</th>\n",
       "      <td>38</td>\n",
       "      <td>10</td>\n",
       "      <td>32</td>\n",
       "      <td>29</td>\n",
       "      <td>27</td>\n",
       "      <td>20</td>\n",
       "      <td>38</td>\n",
       "      <td>31</td>\n",
       "      <td>11</td>\n",
       "      <td>20</td>\n",
       "      <td>...</td>\n",
       "      <td>9</td>\n",
       "      <td>8</td>\n",
       "      <td>8</td>\n",
       "      <td>1</td>\n",
       "      <td>15</td>\n",
       "      <td>23</td>\n",
       "      <td>30</td>\n",
       "      <td>12</td>\n",
       "      <td>32</td>\n",
       "      <td>15</td>\n",
       "    </tr>\n",
       "  </tbody>\n",
       "</table>\n",
       "<p>5 rows × 31 columns</p>\n",
       "</div>"
      ],
      "text/plain": [
       "            numbers  numbers(t-1)  numbers(t-2)  numbers(t-3)  numbers(t-4)  \\\n",
       "Date                                                                          \n",
       "2010-05-19       27            20            38            31            11   \n",
       "2010-05-22       29            27            20            38            31   \n",
       "2010-05-26       32            29            27            20            38   \n",
       "2010-05-29       10            32            29            27            20   \n",
       "2010-06-02       38            10            32            29            27   \n",
       "\n",
       "            numbers(t-5)  numbers(t-6)  numbers(t-7)  numbers(t-8)  \\\n",
       "Date                                                                 \n",
       "2010-05-19            20            24             5            20   \n",
       "2010-05-22            11            20            24             5   \n",
       "2010-05-26            31            11            20            24   \n",
       "2010-05-29            38            31            11            20   \n",
       "2010-06-02            20            38            31            11   \n",
       "\n",
       "            numbers(t-9)  ...  numbers(t-21)  numbers(t-22)  numbers(t-23)  \\\n",
       "Date                      ...                                                \n",
       "2010-05-19            15  ...             15             23             30   \n",
       "2010-05-22            20  ...              1             15             23   \n",
       "2010-05-26             5  ...              8              1             15   \n",
       "2010-05-29            24  ...              8              8              1   \n",
       "2010-06-02            20  ...              9              8              8   \n",
       "\n",
       "            numbers(t-24)  numbers(t-25)  numbers(t-26)  numbers(t-27)  \\\n",
       "Date                                                                     \n",
       "2010-05-19             12             32             15              1   \n",
       "2010-05-22             30             12             32             15   \n",
       "2010-05-26             23             30             12             32   \n",
       "2010-05-29             15             23             30             12   \n",
       "2010-06-02              1             15             23             30   \n",
       "\n",
       "            numbers(t-28)  numbers(t-29)  numbers(t-30)  \n",
       "Date                                                     \n",
       "2010-05-19             34              4             24  \n",
       "2010-05-22              1             34              4  \n",
       "2010-05-26             15              1             34  \n",
       "2010-05-29             32             15              1  \n",
       "2010-06-02             12             32             15  \n",
       "\n",
       "[5 rows x 31 columns]"
      ]
     },
     "execution_count": 32,
     "metadata": {},
     "output_type": "execute_result"
    }
   ],
   "source": [
    "shifted_df = shifted_df.astype(int)\n",
    "\n",
    "shifted_df.head()"
   ]
  },
  {
   "cell_type": "code",
   "execution_count": 33,
   "id": "aed0cc8d",
   "metadata": {},
   "outputs": [
    {
     "data": {
      "text/plain": [
       "((1515, 30), (1515,), (1515,))"
      ]
     },
     "execution_count": 33,
     "metadata": {},
     "output_type": "execute_result"
    }
   ],
   "source": [
    "from sklearn.preprocessing import StandardScaler\n",
    "\n",
    "# name date column from new index (since start date is absorbed into first x windows)\n",
    "dates = shifted_df.index\n",
    "\n",
    "#convert from df to numpy array\n",
    "shifted_df_as_np = shifted_df.to_numpy()\n",
    "\n",
    "#Scale data\n",
    "# log_transformed_data = np.log(shifted_df_as_np)\n",
    "# scaler = StandardScaler()\n",
    "\n",
    "# scaled_data = scaler.fit_transform(shifted_df_as_np)\n",
    "\n",
    "\n",
    "# split reference from deatures\n",
    "X1 = shifted_df_as_np[:, 1:]\n",
    "y1 = shifted_df_as_np[:, 0]\n",
    "\n",
    "#flip order of windows (needs to start with most recent)\n",
    "\n",
    "X1 = dc(np.flip(X1, axis=1))\n",
    "X1\n",
    "\n",
    "\n",
    "X1.shape, y1.shape, dates.shape\n"
   ]
  },
  {
   "cell_type": "code",
   "execution_count": 34,
   "id": "aa584493",
   "metadata": {
    "scrolled": true
   },
   "outputs": [
    {
     "data": {
      "text/plain": [
       "((1212, 30), (1212,), (151, 30), (151,), (152, 30), (152,))"
      ]
     },
     "execution_count": 34,
     "metadata": {},
     "output_type": "execute_result"
    }
   ],
   "source": [
    "#Calculate split points based on previously defined variables\n",
    "train_split = int(len(X1) * split_1)\n",
    "test_split = int(len(X1) * split_2)\n",
    "\n",
    "#Define spilt points for train/val/test\n",
    "dates_train1, X_train1, y_train1 = dates[:train_split],X1[:train_split], y1[:train_split]\n",
    "dates_val1, X_val1, y_val1 = dates[train_split:test_split], X1[train_split:test_split], y1[train_split:test_split]\n",
    "dates_test1, X_test1, y_test1 = dates[test_split:], X1[test_split:], y1[test_split:]\n",
    "X_train1.shape, y_train1.shape, X_val1.shape, y_val1.shape, X_test1.shape, y_test1.shape"
   ]
  },
  {
   "cell_type": "code",
   "execution_count": 35,
   "id": "732ba944",
   "metadata": {},
   "outputs": [
    {
     "name": "stderr",
     "output_type": "stream",
     "text": [
      "WARNING:absl:At this time, the v2.11+ optimizer `tf.keras.optimizers.Adam` runs slowly on M1/M2 Macs, please use the legacy Keras optimizer instead, located at `tf.keras.optimizers.legacy.Adam`.\n",
      "WARNING:absl:There is a known slowdown when using v2.11+ Keras optimizers on M1/M2 Macs. Falling back to the legacy Keras optimizer, i.e., `tf.keras.optimizers.legacy.Adam`.\n"
     ]
    },
    {
     "name": "stdout",
     "output_type": "stream",
     "text": [
      "Epoch 1/100\n"
     ]
    },
    {
     "name": "stderr",
     "output_type": "stream",
     "text": [
      "2023-11-05 19:35:19.355520: W tensorflow/tsl/platform/profile_utils/cpu_utils.cc:128] Failed to get CPU frequency: 0 Hz\n"
     ]
    },
    {
     "name": "stdout",
     "output_type": "stream",
     "text": [
      "38/38 [==============================] - 1s 10ms/step - loss: 112.7041 - mean_absolute_error: 8.7130 - val_loss: 61.7819 - val_mean_absolute_error: 6.6727\n",
      "Epoch 2/100\n",
      "38/38 [==============================] - 0s 6ms/step - loss: 90.4539 - mean_absolute_error: 7.9899 - val_loss: 58.5061 - val_mean_absolute_error: 6.5565\n",
      "Epoch 3/100\n",
      "38/38 [==============================] - 0s 6ms/step - loss: 90.0238 - mean_absolute_error: 7.9769 - val_loss: 60.4630 - val_mean_absolute_error: 6.6206\n",
      "Epoch 4/100\n",
      "38/38 [==============================] - 0s 6ms/step - loss: 89.2640 - mean_absolute_error: 7.9390 - val_loss: 59.1299 - val_mean_absolute_error: 6.5796\n",
      "Epoch 5/100\n",
      "38/38 [==============================] - 0s 6ms/step - loss: 89.6498 - mean_absolute_error: 7.9863 - val_loss: 56.5342 - val_mean_absolute_error: 6.4693\n",
      "Epoch 6/100\n",
      "38/38 [==============================] - 0s 6ms/step - loss: 88.6561 - mean_absolute_error: 7.9242 - val_loss: 64.3315 - val_mean_absolute_error: 6.7851\n",
      "Epoch 7/100\n",
      "38/38 [==============================] - 0s 6ms/step - loss: 89.2772 - mean_absolute_error: 7.9922 - val_loss: 69.6830 - val_mean_absolute_error: 7.0403\n",
      "Epoch 8/100\n",
      "38/38 [==============================] - 0s 6ms/step - loss: 88.8947 - mean_absolute_error: 7.9400 - val_loss: 55.9540 - val_mean_absolute_error: 6.4384\n",
      "Epoch 9/100\n",
      "38/38 [==============================] - 0s 6ms/step - loss: 90.8567 - mean_absolute_error: 7.9994 - val_loss: 66.6436 - val_mean_absolute_error: 6.8910\n",
      "Epoch 10/100\n",
      "38/38 [==============================] - 0s 6ms/step - loss: 90.4782 - mean_absolute_error: 8.0218 - val_loss: 55.5066 - val_mean_absolute_error: 6.3994\n",
      "Epoch 11/100\n",
      "38/38 [==============================] - 0s 6ms/step - loss: 89.4058 - mean_absolute_error: 7.9796 - val_loss: 72.9083 - val_mean_absolute_error: 7.2126\n",
      "Epoch 12/100\n",
      "38/38 [==============================] - 0s 6ms/step - loss: 90.5723 - mean_absolute_error: 7.9925 - val_loss: 55.6112 - val_mean_absolute_error: 6.4030\n",
      "Epoch 13/100\n",
      "38/38 [==============================] - 0s 6ms/step - loss: 88.7165 - mean_absolute_error: 7.9213 - val_loss: 56.2319 - val_mean_absolute_error: 6.4354\n",
      "Epoch 14/100\n",
      "38/38 [==============================] - 0s 6ms/step - loss: 91.9736 - mean_absolute_error: 8.0570 - val_loss: 67.6763 - val_mean_absolute_error: 6.9190\n",
      "Epoch 15/100\n",
      "38/38 [==============================] - 0s 6ms/step - loss: 93.0127 - mean_absolute_error: 8.0830 - val_loss: 57.0369 - val_mean_absolute_error: 6.4892\n",
      "Epoch 16/100\n",
      "38/38 [==============================] - 0s 6ms/step - loss: 91.5316 - mean_absolute_error: 7.9938 - val_loss: 62.1368 - val_mean_absolute_error: 6.6883\n",
      "Epoch 17/100\n",
      "38/38 [==============================] - 0s 6ms/step - loss: 88.0681 - mean_absolute_error: 7.8902 - val_loss: 65.2219 - val_mean_absolute_error: 6.8447\n",
      "Epoch 18/100\n",
      "38/38 [==============================] - 0s 6ms/step - loss: 88.1264 - mean_absolute_error: 7.8957 - val_loss: 64.7741 - val_mean_absolute_error: 6.7997\n",
      "Epoch 19/100\n",
      "38/38 [==============================] - 0s 6ms/step - loss: 87.5233 - mean_absolute_error: 7.9082 - val_loss: 62.6473 - val_mean_absolute_error: 6.7352\n",
      "Epoch 20/100\n",
      "38/38 [==============================] - 0s 6ms/step - loss: 87.9491 - mean_absolute_error: 7.9465 - val_loss: 55.9218 - val_mean_absolute_error: 6.4078\n",
      "Epoch 21/100\n",
      "38/38 [==============================] - 0s 6ms/step - loss: 87.5555 - mean_absolute_error: 7.9004 - val_loss: 57.8426 - val_mean_absolute_error: 6.5095\n",
      "Epoch 22/100\n",
      "38/38 [==============================] - 0s 6ms/step - loss: 88.5221 - mean_absolute_error: 7.9524 - val_loss: 58.2645 - val_mean_absolute_error: 6.5258\n",
      "Epoch 23/100\n",
      "38/38 [==============================] - 0s 6ms/step - loss: 90.1916 - mean_absolute_error: 8.0070 - val_loss: 69.9262 - val_mean_absolute_error: 7.0304\n",
      "Epoch 24/100\n",
      "38/38 [==============================] - 0s 6ms/step - loss: 90.0555 - mean_absolute_error: 8.0328 - val_loss: 63.8710 - val_mean_absolute_error: 6.7502\n",
      "Epoch 25/100\n",
      "38/38 [==============================] - 0s 6ms/step - loss: 89.0829 - mean_absolute_error: 7.9642 - val_loss: 58.7747 - val_mean_absolute_error: 6.5505\n",
      "Epoch 26/100\n",
      "38/38 [==============================] - 0s 6ms/step - loss: 89.0850 - mean_absolute_error: 7.9534 - val_loss: 65.4380 - val_mean_absolute_error: 6.8366\n",
      "Epoch 27/100\n",
      "38/38 [==============================] - 0s 6ms/step - loss: 89.3398 - mean_absolute_error: 7.9705 - val_loss: 61.4742 - val_mean_absolute_error: 6.6467\n",
      "Epoch 28/100\n",
      "38/38 [==============================] - 0s 6ms/step - loss: 87.8407 - mean_absolute_error: 7.9135 - val_loss: 57.0146 - val_mean_absolute_error: 6.4659\n",
      "Epoch 29/100\n",
      "38/38 [==============================] - 0s 6ms/step - loss: 89.6952 - mean_absolute_error: 7.9347 - val_loss: 58.1751 - val_mean_absolute_error: 6.5585\n",
      "Epoch 30/100\n",
      "38/38 [==============================] - 0s 6ms/step - loss: 89.0824 - mean_absolute_error: 7.9579 - val_loss: 56.1888 - val_mean_absolute_error: 6.4456\n",
      "Epoch 31/100\n",
      "38/38 [==============================] - 0s 7ms/step - loss: 89.6745 - mean_absolute_error: 8.0296 - val_loss: 57.7559 - val_mean_absolute_error: 6.5025\n",
      "Epoch 32/100\n",
      "38/38 [==============================] - 0s 6ms/step - loss: 87.2904 - mean_absolute_error: 7.8853 - val_loss: 63.5199 - val_mean_absolute_error: 6.7956\n",
      "Epoch 33/100\n",
      "38/38 [==============================] - 0s 6ms/step - loss: 88.7168 - mean_absolute_error: 7.9696 - val_loss: 60.2516 - val_mean_absolute_error: 6.5958\n",
      "Epoch 34/100\n",
      "38/38 [==============================] - 0s 6ms/step - loss: 88.1380 - mean_absolute_error: 7.9348 - val_loss: 58.8614 - val_mean_absolute_error: 6.5838\n",
      "Epoch 35/100\n",
      "38/38 [==============================] - 0s 6ms/step - loss: 86.9887 - mean_absolute_error: 7.8578 - val_loss: 55.7630 - val_mean_absolute_error: 6.4034\n",
      "Epoch 36/100\n",
      "38/38 [==============================] - 0s 6ms/step - loss: 91.9389 - mean_absolute_error: 8.0045 - val_loss: 54.9592 - val_mean_absolute_error: 6.3405\n",
      "Epoch 37/100\n",
      "38/38 [==============================] - 0s 6ms/step - loss: 86.8182 - mean_absolute_error: 7.8911 - val_loss: 55.8639 - val_mean_absolute_error: 6.4232\n",
      "Epoch 38/100\n",
      "38/38 [==============================] - 0s 6ms/step - loss: 85.1872 - mean_absolute_error: 7.8309 - val_loss: 57.1648 - val_mean_absolute_error: 6.5115\n",
      "Epoch 39/100\n",
      "38/38 [==============================] - 0s 6ms/step - loss: 89.5732 - mean_absolute_error: 7.9975 - val_loss: 54.6350 - val_mean_absolute_error: 6.3220\n",
      "Epoch 40/100\n",
      "38/38 [==============================] - 0s 6ms/step - loss: 90.7950 - mean_absolute_error: 8.0691 - val_loss: 62.8706 - val_mean_absolute_error: 6.7111\n",
      "Epoch 41/100\n",
      "38/38 [==============================] - 0s 6ms/step - loss: 87.8713 - mean_absolute_error: 7.8811 - val_loss: 55.7257 - val_mean_absolute_error: 6.4262\n",
      "Epoch 42/100\n",
      "38/38 [==============================] - 0s 6ms/step - loss: 89.0985 - mean_absolute_error: 7.9785 - val_loss: 60.8945 - val_mean_absolute_error: 6.6496\n",
      "Epoch 43/100\n",
      "38/38 [==============================] - 0s 6ms/step - loss: 88.8339 - mean_absolute_error: 7.9365 - val_loss: 70.7136 - val_mean_absolute_error: 7.1028\n",
      "Epoch 44/100\n",
      "38/38 [==============================] - 0s 6ms/step - loss: 86.9051 - mean_absolute_error: 7.8793 - val_loss: 59.6052 - val_mean_absolute_error: 6.6096\n",
      "Epoch 45/100\n",
      "38/38 [==============================] - 0s 6ms/step - loss: 86.6058 - mean_absolute_error: 7.8574 - val_loss: 61.7677 - val_mean_absolute_error: 6.6736\n",
      "Epoch 46/100\n",
      "38/38 [==============================] - 0s 6ms/step - loss: 85.8032 - mean_absolute_error: 7.8490 - val_loss: 58.3237 - val_mean_absolute_error: 6.5172\n",
      "Epoch 47/100\n",
      "38/38 [==============================] - 0s 6ms/step - loss: 86.6977 - mean_absolute_error: 7.8947 - val_loss: 59.8352 - val_mean_absolute_error: 6.5872\n",
      "Epoch 48/100\n",
      "38/38 [==============================] - 0s 6ms/step - loss: 86.8828 - mean_absolute_error: 7.9009 - val_loss: 65.4538 - val_mean_absolute_error: 6.8503\n",
      "Epoch 49/100\n",
      "38/38 [==============================] - 0s 6ms/step - loss: 85.7884 - mean_absolute_error: 7.8748 - val_loss: 60.2216 - val_mean_absolute_error: 6.6347\n",
      "Epoch 50/100\n",
      "38/38 [==============================] - 0s 6ms/step - loss: 84.0399 - mean_absolute_error: 7.7863 - val_loss: 63.1060 - val_mean_absolute_error: 6.7321\n",
      "Epoch 51/100\n",
      "38/38 [==============================] - 0s 6ms/step - loss: 90.5471 - mean_absolute_error: 8.0035 - val_loss: 66.3644 - val_mean_absolute_error: 6.8657\n",
      "Epoch 52/100\n",
      "38/38 [==============================] - 0s 6ms/step - loss: 91.5527 - mean_absolute_error: 8.0861 - val_loss: 59.0767 - val_mean_absolute_error: 6.5602\n",
      "Epoch 53/100\n",
      "38/38 [==============================] - 0s 6ms/step - loss: 88.8969 - mean_absolute_error: 7.9686 - val_loss: 60.1234 - val_mean_absolute_error: 6.6046\n",
      "Epoch 54/100\n",
      "38/38 [==============================] - 0s 6ms/step - loss: 89.4345 - mean_absolute_error: 7.9828 - val_loss: 75.2923 - val_mean_absolute_error: 7.2857\n",
      "Epoch 55/100\n",
      "38/38 [==============================] - 0s 6ms/step - loss: 89.1229 - mean_absolute_error: 7.9790 - val_loss: 67.2202 - val_mean_absolute_error: 6.9223\n",
      "Epoch 56/100\n",
      "38/38 [==============================] - 0s 6ms/step - loss: 88.6394 - mean_absolute_error: 7.9373 - val_loss: 58.8295 - val_mean_absolute_error: 6.5602\n",
      "Epoch 57/100\n",
      "38/38 [==============================] - 0s 6ms/step - loss: 88.9564 - mean_absolute_error: 7.9849 - val_loss: 56.8665 - val_mean_absolute_error: 6.4862\n",
      "Epoch 58/100\n",
      "38/38 [==============================] - 0s 6ms/step - loss: 88.7548 - mean_absolute_error: 7.9588 - val_loss: 62.5823 - val_mean_absolute_error: 6.7153\n",
      "Epoch 59/100\n",
      "38/38 [==============================] - 0s 6ms/step - loss: 88.5158 - mean_absolute_error: 7.9238 - val_loss: 60.1000 - val_mean_absolute_error: 6.6155\n",
      "Epoch 60/100\n",
      "38/38 [==============================] - 0s 6ms/step - loss: 88.4742 - mean_absolute_error: 7.9370 - val_loss: 65.7571 - val_mean_absolute_error: 6.8580\n",
      "Epoch 61/100\n",
      "38/38 [==============================] - 0s 6ms/step - loss: 88.9676 - mean_absolute_error: 7.9732 - val_loss: 55.5793 - val_mean_absolute_error: 6.4179\n",
      "Epoch 62/100\n",
      "38/38 [==============================] - 0s 6ms/step - loss: 89.0940 - mean_absolute_error: 7.9957 - val_loss: 61.0049 - val_mean_absolute_error: 6.6434\n",
      "Epoch 63/100\n",
      "38/38 [==============================] - 0s 6ms/step - loss: 89.3123 - mean_absolute_error: 7.9589 - val_loss: 60.3268 - val_mean_absolute_error: 6.6285\n",
      "Epoch 64/100\n",
      "38/38 [==============================] - 0s 6ms/step - loss: 89.2936 - mean_absolute_error: 7.9740 - val_loss: 62.2777 - val_mean_absolute_error: 6.6710\n",
      "Epoch 65/100\n",
      "38/38 [==============================] - 0s 6ms/step - loss: 90.9625 - mean_absolute_error: 8.0467 - val_loss: 62.1416 - val_mean_absolute_error: 6.6646\n",
      "Epoch 66/100\n",
      "38/38 [==============================] - 0s 6ms/step - loss: 88.3536 - mean_absolute_error: 7.9452 - val_loss: 58.5839 - val_mean_absolute_error: 6.5655\n",
      "Epoch 67/100\n",
      "38/38 [==============================] - 0s 6ms/step - loss: 88.7117 - mean_absolute_error: 7.9275 - val_loss: 58.0327 - val_mean_absolute_error: 6.5437\n",
      "Epoch 68/100\n",
      "38/38 [==============================] - 0s 7ms/step - loss: 88.8884 - mean_absolute_error: 7.9326 - val_loss: 65.1747 - val_mean_absolute_error: 6.8381\n",
      "Epoch 69/100\n",
      "38/38 [==============================] - 0s 7ms/step - loss: 89.6427 - mean_absolute_error: 7.9680 - val_loss: 71.2880 - val_mean_absolute_error: 7.1114\n",
      "Epoch 70/100\n",
      "38/38 [==============================] - 0s 6ms/step - loss: 88.8487 - mean_absolute_error: 7.9359 - val_loss: 62.9627 - val_mean_absolute_error: 6.7509\n",
      "Epoch 71/100\n",
      "38/38 [==============================] - 0s 6ms/step - loss: 88.3910 - mean_absolute_error: 7.9487 - val_loss: 56.9235 - val_mean_absolute_error: 6.4841\n",
      "Epoch 72/100\n",
      "38/38 [==============================] - 0s 6ms/step - loss: 86.5723 - mean_absolute_error: 7.8873 - val_loss: 57.6567 - val_mean_absolute_error: 6.4826\n",
      "Epoch 73/100\n",
      "38/38 [==============================] - 0s 6ms/step - loss: 87.4413 - mean_absolute_error: 7.9209 - val_loss: 57.2747 - val_mean_absolute_error: 6.4851\n",
      "Epoch 74/100\n",
      "38/38 [==============================] - 0s 6ms/step - loss: 86.6132 - mean_absolute_error: 7.8862 - val_loss: 55.1320 - val_mean_absolute_error: 6.3669\n",
      "Epoch 75/100\n",
      "38/38 [==============================] - 0s 6ms/step - loss: 87.1922 - mean_absolute_error: 7.9076 - val_loss: 57.1016 - val_mean_absolute_error: 6.4827\n",
      "Epoch 76/100\n",
      "38/38 [==============================] - 0s 6ms/step - loss: 88.2909 - mean_absolute_error: 7.9125 - val_loss: 60.1570 - val_mean_absolute_error: 6.6030\n",
      "Epoch 77/100\n",
      "38/38 [==============================] - 0s 6ms/step - loss: 87.5073 - mean_absolute_error: 7.9172 - val_loss: 57.0194 - val_mean_absolute_error: 6.4903\n",
      "Epoch 78/100\n",
      "38/38 [==============================] - 0s 6ms/step - loss: 86.8770 - mean_absolute_error: 7.8865 - val_loss: 58.0202 - val_mean_absolute_error: 6.5103\n",
      "Epoch 79/100\n",
      "38/38 [==============================] - 0s 6ms/step - loss: 88.4592 - mean_absolute_error: 7.9499 - val_loss: 64.2510 - val_mean_absolute_error: 6.7745\n",
      "Epoch 80/100\n",
      "38/38 [==============================] - 0s 6ms/step - loss: 88.4928 - mean_absolute_error: 7.9358 - val_loss: 64.6014 - val_mean_absolute_error: 6.7907\n",
      "Epoch 81/100\n",
      "38/38 [==============================] - 0s 6ms/step - loss: 88.7588 - mean_absolute_error: 7.9505 - val_loss: 58.4164 - val_mean_absolute_error: 6.5292\n",
      "Epoch 82/100\n",
      "38/38 [==============================] - 0s 6ms/step - loss: 89.8805 - mean_absolute_error: 7.9979 - val_loss: 62.4813 - val_mean_absolute_error: 6.7006\n",
      "Epoch 83/100\n",
      "38/38 [==============================] - 0s 6ms/step - loss: 88.9052 - mean_absolute_error: 7.9758 - val_loss: 59.6861 - val_mean_absolute_error: 6.5811\n",
      "Epoch 84/100\n",
      "38/38 [==============================] - 0s 6ms/step - loss: 90.9469 - mean_absolute_error: 8.0264 - val_loss: 65.9997 - val_mean_absolute_error: 6.8588\n",
      "Epoch 85/100\n",
      "38/38 [==============================] - 0s 6ms/step - loss: 88.9459 - mean_absolute_error: 7.9823 - val_loss: 59.8815 - val_mean_absolute_error: 6.5892\n",
      "Epoch 86/100\n",
      "38/38 [==============================] - 0s 6ms/step - loss: 88.5493 - mean_absolute_error: 7.9468 - val_loss: 60.5963 - val_mean_absolute_error: 6.6308\n",
      "Epoch 87/100\n",
      "38/38 [==============================] - 0s 6ms/step - loss: 88.5130 - mean_absolute_error: 7.9659 - val_loss: 59.8947 - val_mean_absolute_error: 6.5984\n",
      "Epoch 88/100\n",
      "38/38 [==============================] - 0s 6ms/step - loss: 89.1876 - mean_absolute_error: 7.9502 - val_loss: 80.0756 - val_mean_absolute_error: 7.5069\n",
      "Epoch 89/100\n",
      "38/38 [==============================] - 0s 6ms/step - loss: 89.2080 - mean_absolute_error: 7.9466 - val_loss: 57.0663 - val_mean_absolute_error: 6.4838\n",
      "Epoch 90/100\n",
      "38/38 [==============================] - 0s 6ms/step - loss: 87.7983 - mean_absolute_error: 7.9135 - val_loss: 62.2814 - val_mean_absolute_error: 6.6732\n",
      "Epoch 91/100\n",
      "38/38 [==============================] - 0s 6ms/step - loss: 88.9051 - mean_absolute_error: 7.9557 - val_loss: 78.3158 - val_mean_absolute_error: 7.4243\n",
      "Epoch 92/100\n",
      "38/38 [==============================] - 0s 6ms/step - loss: 89.6482 - mean_absolute_error: 7.9915 - val_loss: 70.1304 - val_mean_absolute_error: 7.0788\n",
      "Epoch 93/100\n",
      "38/38 [==============================] - 0s 6ms/step - loss: 88.6927 - mean_absolute_error: 7.9545 - val_loss: 60.3198 - val_mean_absolute_error: 6.6117\n",
      "Epoch 94/100\n",
      "38/38 [==============================] - 0s 6ms/step - loss: 87.5517 - mean_absolute_error: 7.8945 - val_loss: 55.5884 - val_mean_absolute_error: 6.4068\n",
      "Epoch 95/100\n",
      "38/38 [==============================] - 0s 6ms/step - loss: 87.0687 - mean_absolute_error: 7.8705 - val_loss: 62.3564 - val_mean_absolute_error: 6.7181\n",
      "Epoch 96/100\n",
      "38/38 [==============================] - 0s 6ms/step - loss: 86.4475 - mean_absolute_error: 7.8670 - val_loss: 60.1263 - val_mean_absolute_error: 6.5983\n",
      "Epoch 97/100\n",
      "38/38 [==============================] - 0s 6ms/step - loss: 87.5404 - mean_absolute_error: 7.9025 - val_loss: 57.5486 - val_mean_absolute_error: 6.5197\n",
      "Epoch 98/100\n",
      "38/38 [==============================] - 0s 6ms/step - loss: 87.9113 - mean_absolute_error: 7.9521 - val_loss: 56.7160 - val_mean_absolute_error: 6.4812\n",
      "Epoch 99/100\n",
      "38/38 [==============================] - 0s 6ms/step - loss: 86.6858 - mean_absolute_error: 7.8925 - val_loss: 56.2060 - val_mean_absolute_error: 6.4528\n",
      "Epoch 100/100\n",
      "38/38 [==============================] - 0s 6ms/step - loss: 86.8833 - mean_absolute_error: 7.8903 - val_loss: 58.6609 - val_mean_absolute_error: 6.5512\n"
     ]
    },
    {
     "data": {
      "text/plain": [
       "<keras.callbacks.History at 0x173158390>"
      ]
     },
     "execution_count": 35,
     "metadata": {},
     "output_type": "execute_result"
    }
   ],
   "source": [
    "#Build, compile, fit LSTM model\n",
    "\n",
    "model = Sequential([layers.Input((lookback, 1)),\n",
    "                    layers.LSTM(64),\n",
    "                    layers.Dense(64, activation='relu'),\n",
    "                    layers.Dense(64, activation='relu'),\n",
    "                    layers.Dense(1)])\n",
    "\n",
    "model.compile(loss='mse',\n",
    "              optimizer=Adam(learning_rate=0.01),\n",
    "              metrics=['mean_absolute_error'])\n",
    "\n",
    "model.fit(X_train1, y_train1, validation_data=(X_val1, y_val1), epochs=100)"
   ]
  },
  {
   "cell_type": "code",
   "execution_count": 36,
   "id": "51ca424b",
   "metadata": {},
   "outputs": [
    {
     "name": "stdout",
     "output_type": "stream",
     "text": [
      "38/38 [==============================] - 0s 2ms/step\n"
     ]
    },
    {
     "data": {
      "text/plain": [
       "<matplotlib.legend.Legend at 0x169ae4090>"
      ]
     },
     "execution_count": 36,
     "metadata": {},
     "output_type": "execute_result"
    },
    {
     "data": {
      "image/png": "[encoded data removed]",
      "text/plain": [
       "<Figure size 640x480 with 1 Axes>"
      ]
     },
     "metadata": {},
     "output_type": "display_data"
    }
   ],
   "source": [
    "# Check training predictions (use np.exp to transform scaled data back to original scale)\n",
    "\n",
    "train_predictions = model.predict(X_train1).flatten()\n",
    "\n",
    "plt.plot(dates_train1, (train_predictions))\n",
    "plt.plot(dates_train1, (y_train1))\n",
    "plt.xticks(rotation=90)\n",
    "plt.legend(['Training Predictions', 'Training Observations'])"
   ]
  },
  {
   "cell_type": "code",
   "execution_count": 37,
   "id": "07b3b236",
   "metadata": {},
   "outputs": [
    {
     "name": "stdout",
     "output_type": "stream",
     "text": [
      "Val loss: 58.66093826293945\n",
      "Val MAE: 6.551244258880615\n"
     ]
    }
   ],
   "source": [
    "# Check scores for val period\n",
    "score = model.evaluate(X_val1, y_val1, verbose = 0) \n",
    "\n",
    "print('Val loss:', score[0]) \n",
    "print('Val MAE:', score[1])"
   ]
  },
  {
   "cell_type": "code",
   "execution_count": 38,
   "id": "6aebf414",
   "metadata": {},
   "outputs": [
    {
     "name": "stdout",
     "output_type": "stream",
     "text": [
      "5/5 [==============================] - 0s 2ms/step\n"
     ]
    },
    {
     "data": {
      "text/plain": [
       "<matplotlib.legend.Legend at 0x17339cc50>"
      ]
     },
     "execution_count": 38,
     "metadata": {},
     "output_type": "execute_result"
    },
    {
     "data": {
      "image/png": "[encoded data removed]",
      "text/plain": [
       "<Figure size 640x480 with 1 Axes>"
      ]
     },
     "metadata": {},
     "output_type": "display_data"
    }
   ],
   "source": [
    "# graphed performance of val data in model\n",
    "val_predictions = model.predict(X_val1).flatten()\n",
    "\n",
    "plt.plot(dates_val1, (val_predictions))\n",
    "plt.plot(dates_val1, (y_val1))\n",
    "plt.xticks(rotation=90)\n",
    "plt.legend(['Validation Predictions', 'Validation Observations'])"
   ]
  },
  {
   "cell_type": "code",
   "execution_count": 39,
   "id": "7d677f73",
   "metadata": {},
   "outputs": [
    {
     "name": "stdout",
     "output_type": "stream",
     "text": [
      "Test loss: 67.9253921508789\n",
      "Test MAE: 7.18060302734375\n"
     ]
    }
   ],
   "source": [
    "score = model.evaluate(X_test1, y_test1, verbose = 0) \n",
    "\n",
    "print('Test loss:', score[0]) \n",
    "print('Test MAE:', score[1])"
   ]
  },
  {
   "cell_type": "code",
   "execution_count": 40,
   "id": "07b063e2",
   "metadata": {
    "scrolled": true
   },
   "outputs": [
    {
     "name": "stdout",
     "output_type": "stream",
     "text": [
      "5/5 [==============================] - 0s 2ms/step\n"
     ]
    },
    {
     "data": {
      "text/plain": [
       "<matplotlib.legend.Legend at 0x169adfbd0>"
      ]
     },
     "execution_count": 40,
     "metadata": {},
     "output_type": "execute_result"
    },
    {
     "data": {
      "image/png": "[encoded data removed]",
      "text/plain": [
       "<Figure size 640x480 with 1 Axes>"
      ]
     },
     "metadata": {},
     "output_type": "display_data"
    }
   ],
   "source": [
    "#check model against test data\n",
    "test_predictions = model.predict(X_test1).flatten()\n",
    "\n",
    "plt.plot(dates_test1[-30:],(test_predictions[-30:]))\n",
    "plt.plot(dates_test1[-30:], (y_test1[-30:]))\n",
    "plt.xticks(rotation=90)\n",
    "plt.legend(['Testing Predictions', 'Testing Observations'])"
   ]
  },
  {
   "cell_type": "code",
   "execution_count": 41,
   "id": "d15ebd95",
   "metadata": {
    "scrolled": true
   },
   "outputs": [
    {
     "name": "stdout",
     "output_type": "stream",
     "text": [
      "R2 Score:  -0.0886670142351973\n"
     ]
    }
   ],
   "source": [
    "# Check r2 score\n",
    "print('R2 Score: ', r2_score(y_test1, test_predictions))"
   ]
  },
  {
   "cell_type": "markdown",
   "id": "96ee29fc",
   "metadata": {},
   "source": [
    "## Future Prediction\n",
    "- Attempting to look ahead x days in an attempt to predict upcoming trends"
   ]
  },
  {
   "cell_type": "code",
   "execution_count": 47,
   "id": "2f8f2ce4",
   "metadata": {},
   "outputs": [
    {
     "name": "stdout",
     "output_type": "stream",
     "text": [
      "1/1 [==============================] - 0s 14ms/step\n",
      "1/1 [==============================] - 0s 12ms/step\n",
      "1/1 [==============================] - 0s 10ms/step\n",
      "1/1 [==============================] - 0s 8ms/step\n",
      "1/1 [==============================] - 0s 8ms/step\n",
      "1/1 [==============================] - 0s 8ms/step\n",
      "1/1 [==============================] - 0s 8ms/step\n",
      "1/1 [==============================] - 0s 8ms/step\n",
      "1/1 [==============================] - 0s 8ms/step\n",
      "1/1 [==============================] - 0s 8ms/step\n",
      "[14.664109, 14.676163, 14.677671, 14.677933, 14.677976, 14.677983, 14.677983, 14.677984, 14.677984, 14.677984]\n"
     ]
    }
   ],
   "source": [
    "# Initialize an array to store predictions\n",
    "predictions = []\n",
    "predicted_dates = []\n",
    "prediction_range = 10\n",
    "\n",
    "#create list of numbers to add to date based on date range\n",
    "date_range = list(range(1, prediction_range +1))\n",
    "\n",
    "# Use the last n_steps data points from the training set to make predictions\n",
    "current_batch = X_test1[-1]\n",
    "current_reshape = current_batch.reshape((1, lookback))\n",
    "# initial_date = dates_test1[-1]\n",
    "\n",
    "# Generate predictions for 7 days\n",
    "for i in range(prediction_range): # Generate predictions for 7 days\n",
    "    # Predict the next data point\n",
    "    current_pred = model.predict(current_reshape)[0,0]\n",
    "    \n",
    "    # Append the prediction to the list of predictions\n",
    "    predictions.append(current_pred)\n",
    "        \n",
    "\n",
    "    # Update initial input for the next step\n",
    "    updated_batch = np.insert(current_batch, -1, current_pred)\n",
    "    \n",
    "    #resize batch \n",
    "    current_batch = updated_batch[1:]\n",
    "    \n",
    "    #reshape batch\n",
    "    current_reshape = current_batch.reshape((1, lookback))\n",
    "\n",
    "    \n",
    "# for day in date_range:\n",
    "#     new_date = initial_date + dt.timedelta(days=day)\n",
    "#     predicted_dates.append(new_date\n",
    "#                           )\n",
    "# 'predictions' contains 7-day forecast\n",
    "print(predictions)\n",
    "\n",
    "# for date in predicted_dates:\n",
    "#     print(date)"
   ]
  },
  {
   "cell_type": "code",
   "execution_count": 48,
   "id": "9ed93589",
   "metadata": {
    "scrolled": true
   },
   "outputs": [],
   "source": [
    "# Export model1 to HDF5 file\n",
    "model.save(\"pb1.h5\")"
   ]
  },
  {
   "cell_type": "code",
   "execution_count": 49,
   "id": "45ac09d9",
   "metadata": {},
   "outputs": [
    {
     "data": {
      "text/plain": [
       "[15, 15, 15, 15, 15, 15, 15, 15, 15, 15]"
      ]
     },
     "execution_count": 49,
     "metadata": {},
     "output_type": "execute_result"
    }
   ],
   "source": [
    "int_predictions = [round(x) for x in predictions]\n",
    "\n",
    "int_predictions"
   ]
  },
  {
   "cell_type": "code",
   "execution_count": 50,
   "id": "b641c082",
   "metadata": {},
   "outputs": [],
   "source": [
    "winner = int_predictions[0:1]"
   ]
  },
  {
   "cell_type": "code",
   "execution_count": 51,
   "id": "c1cb964e",
   "metadata": {},
   "outputs": [
    {
     "name": "stdout",
     "output_type": "stream",
     "text": [
      "[15]\n"
     ]
    }
   ],
   "source": [
    "\n",
    "print(winner)"
   ]
  },
  {
   "cell_type": "code",
   "execution_count": null,
   "id": "27d8848d",
   "metadata": {},
   "outputs": [],
   "source": []
  },
  {
   "cell_type": "code",
   "execution_count": null,
   "id": "7f603bbb",
   "metadata": {},
   "outputs": [],
   "source": []
  }
 ],
 "metadata": {
  "kernelspec": {
   "display_name": "Python 3 (ipykernel)",
   "language": "python",
   "name": "python3"
  },
  "language_info": {
   "codemirror_mode": {
    "name": "ipython",
    "version": 3
   },
   "file_extension": ".py",
   "mimetype": "text/x-python",
   "name": "python",
   "nbconvert_exporter": "python",
   "pygments_lexer": "ipython3",
   "version": "3.11.5"
  }
 },
 "nbformat": 4,
 "nbformat_minor": 5
}
